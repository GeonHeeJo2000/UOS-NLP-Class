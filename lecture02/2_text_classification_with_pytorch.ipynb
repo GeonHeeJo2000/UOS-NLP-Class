{
  "cells": [
    {
      "cell_type": "code",
      "execution_count": 1,
      "metadata": {
        "id": "ex-dmKW0Db7_"
      },
      "outputs": [],
      "source": [
        "# 2024-09-08\n",
        "# Wonseok Hwang\n",
        "# CC-BY-NC 4.0 International License"
      ]
    },
    {
      "cell_type": "markdown",
      "source": [],
      "metadata": {
        "id": "zLrJ8sWHtfAc"
      }
    },
    {
      "cell_type": "code",
      "source": [
        "!pip install --quiet datasets\n",
        "!pip install --quiet transformers"
      ],
      "metadata": {
        "id": "JToxDpG_DqTH",
        "outputId": "e8484d8c-363e-47d4-cf1a-e89fe542c212",
        "colab": {
          "base_uri": "https://localhost:8080/"
        }
      },
      "execution_count": 2,
      "outputs": [
        {
          "output_type": "stream",
          "name": "stdout",
          "text": [
            "\u001b[?25l   \u001b[90m━━━━━━━━━━━━━━━━━━━━━━━━━━━━━━━━━━━━━━━━\u001b[0m \u001b[32m0.0/527.3 kB\u001b[0m \u001b[31m?\u001b[0m eta \u001b[36m-:--:--\u001b[0m\r\u001b[2K   \u001b[91m━━━━━━━━━━━━━━━━━━━━━━━━━━━━━━━━━━━━━━\u001b[0m\u001b[91m╸\u001b[0m\u001b[90m━\u001b[0m \u001b[32m512.0/527.3 kB\u001b[0m \u001b[31m14.2 MB/s\u001b[0m eta \u001b[36m0:00:01\u001b[0m\r\u001b[2K   \u001b[90m━━━━━━━━━━━━━━━━━━━━━━━━━━━━━━━━━━━━━━━━\u001b[0m \u001b[32m527.3/527.3 kB\u001b[0m \u001b[31m7.4 MB/s\u001b[0m eta \u001b[36m0:00:00\u001b[0m\n",
            "\u001b[2K   \u001b[90m━━━━━━━━━━━━━━━━━━━━━━━━━━━━━━━━━━━━━━━━\u001b[0m \u001b[32m116.3/116.3 kB\u001b[0m \u001b[31m6.5 MB/s\u001b[0m eta \u001b[36m0:00:00\u001b[0m\n",
            "\u001b[2K   \u001b[90m━━━━━━━━━━━━━━━━━━━━━━━━━━━━━━━━━━━━━━━━\u001b[0m \u001b[32m39.9/39.9 MB\u001b[0m \u001b[31m12.0 MB/s\u001b[0m eta \u001b[36m0:00:00\u001b[0m\n",
            "\u001b[2K   \u001b[90m━━━━━━━━━━━━━━━━━━━━━━━━━━━━━━━━━━━━━━━━\u001b[0m \u001b[32m134.8/134.8 kB\u001b[0m \u001b[31m5.6 MB/s\u001b[0m eta \u001b[36m0:00:00\u001b[0m\n",
            "\u001b[2K   \u001b[90m━━━━━━━━━━━━━━━━━━━━━━━━━━━━━━━━━━━━━━━━\u001b[0m \u001b[32m194.1/194.1 kB\u001b[0m \u001b[31m9.9 MB/s\u001b[0m eta \u001b[36m0:00:00\u001b[0m\n",
            "\u001b[?25h\u001b[31mERROR: pip's dependency resolver does not currently take into account all the packages that are installed. This behaviour is the source of the following dependency conflicts.\n",
            "cudf-cu12 24.4.1 requires pyarrow<15.0.0a0,>=14.0.1, but you have pyarrow 17.0.0 which is incompatible.\n",
            "ibis-framework 8.0.0 requires pyarrow<16,>=2, but you have pyarrow 17.0.0 which is incompatible.\u001b[0m\u001b[31m\n",
            "\u001b[0m"
          ]
        }
      ]
    },
    {
      "cell_type": "code",
      "source": [
        "!nvidia-smi"
      ],
      "metadata": {
        "colab": {
          "base_uri": "https://localhost:8080/"
        },
        "id": "hlz7KpjfD22X",
        "outputId": "359b0f2f-6a9f-4353-b836-42f44bc07af8"
      },
      "execution_count": 3,
      "outputs": [
        {
          "output_type": "stream",
          "name": "stdout",
          "text": [
            "Wed Sep 11 05:23:48 2024       \n",
            "+---------------------------------------------------------------------------------------+\n",
            "| NVIDIA-SMI 535.104.05             Driver Version: 535.104.05   CUDA Version: 12.2     |\n",
            "|-----------------------------------------+----------------------+----------------------+\n",
            "| GPU  Name                 Persistence-M | Bus-Id        Disp.A | Volatile Uncorr. ECC |\n",
            "| Fan  Temp   Perf          Pwr:Usage/Cap |         Memory-Usage | GPU-Util  Compute M. |\n",
            "|                                         |                      |               MIG M. |\n",
            "|=========================================+======================+======================|\n",
            "|   0  Tesla T4                       Off | 00000000:00:04.0 Off |                    0 |\n",
            "| N/A   57C    P8              10W /  70W |      0MiB / 15360MiB |      0%      Default |\n",
            "|                                         |                      |                  N/A |\n",
            "+-----------------------------------------+----------------------+----------------------+\n",
            "                                                                                         \n",
            "+---------------------------------------------------------------------------------------+\n",
            "| Processes:                                                                            |\n",
            "|  GPU   GI   CI        PID   Type   Process name                            GPU Memory |\n",
            "|        ID   ID                                                             Usage      |\n",
            "|=======================================================================================|\n",
            "|  No running processes found                                                           |\n",
            "+---------------------------------------------------------------------------------------+\n"
          ]
        }
      ]
    },
    {
      "cell_type": "markdown",
      "metadata": {
        "id": "RLIUBZDpDb8A"
      },
      "source": [
        "# 1. Dataset"
      ]
    },
    {
      "cell_type": "code",
      "execution_count": 4,
      "metadata": {
        "id": "D3a7BHZxDb8B",
        "outputId": "dec8640c-95bc-4c77-c817-dfb85992a6bc",
        "colab": {
          "base_uri": "https://localhost:8080/",
          "height": 383,
          "referenced_widgets": [
            "75bd3baf3c774b54911fdaba15a4702a",
            "27acacd0f0f148abb005fec93aa1fe67",
            "bbfac3cf6a94472dada1e709ebfe87ba",
            "d7120f5af6c94109b5213d47719a0a79",
            "6273c812a02a4677a784579383abf76d",
            "24b138d8acdd420890ccf58f6313fe4e",
            "749d0c7a64b14edd87d387a0d80b2451",
            "fa587eb822fb4f0d8621a2a6cf1ae887",
            "b4e63fd2bbd748f2b7fd7c514f3be43f",
            "3b94261603ba4b5bba7ed81552a9df98",
            "3739dd914fb3474f81e6ab0744ddfff9",
            "3772c14c15814234873b8f512204c4cf",
            "660801fb3ce148d7a52cff8b21b8c240",
            "054c7503aab245f19a277ced65bb9cdb",
            "35d1ca327ea04034b4c13e50c29741b8",
            "d952f7f397c84cc98934c0e9c61aee5b",
            "fa74025a75604cdabc81eace57b8804d",
            "bd1b4e461edc44dc99b00a9ab3139261",
            "63f933cdad8c42a98a7555271a736d61",
            "b67dd7005a274cbd9934351bd7a2c15a",
            "812b23afd43349dcb497bdd74645cd14",
            "2de935f74c2046589fe1d619aedbfc20",
            "f828ef34bc344d11865a32783319ddd7",
            "e09f111ad2d740849ecce4b3baddaddc",
            "63060230c87e4566a4676a1fd6c3d873",
            "7580f399b000436099e27a38c3e6cd77",
            "17e06dd69dc848e28fc2bb788d4a2586",
            "71851307616c4db381866b60926d427a",
            "1f07d95aa0c442babb67f218894da545",
            "4a6555915ba343bdb5eebef6860be0b5",
            "00713d57854041e284bc96302bc3dae2",
            "862d03d2d1454d2eaa565948fedbc46e",
            "41323983b7024036b4a692ce427d78fa",
            "666e29f397a842f2831c39ae6470bbec",
            "4ea311ae869241a3ac80076dae832fdd",
            "1123e53ab9e84e63888796d1ff0988df",
            "c9e2d3d1a2dd4e65b587dd92f8a02180",
            "4b27452f89404ae080b84f5aede1bd75",
            "444d769b43524882a0d1e087da831938",
            "2c397c90a973489792a78ef153791352",
            "eb606aeb559a4e31a63e6aa2f7686296",
            "d9d13982bd144911b3cb2464164a2320",
            "b1f19ccdc04e4c989c599c90bcd08707",
            "1c7e60092d104901874f8f111c4eb693",
            "50939fc029cd43bb8d105c519e105c1d",
            "25057b8d8db44939a0873fa167577a5f",
            "1fac0decf5a742c7835b14100769d2bc",
            "ce5086cc65e943aea5cb7197e45c0ed3",
            "0566f74ee2b44f449985c5ff35317ed6",
            "4e8cd850fa4642be958c1f462cb25e5b",
            "63b2cf40789e4b4591c025a09d0b7297",
            "2b578dbd4bb448c8a8eac6737f73879b",
            "b30e16d451064b94b49a0e65e0688a23",
            "14592a5124234d6ab636cc9350af72c7",
            "b155f4d823cf4529b230299302b4bd77",
            "dbcb5044bddf4cd7a570c8d966724f28",
            "ec6b9534692d4157b9f90204f2a61c3a",
            "0ccf61399115445bbae65df963d4f9dc",
            "ed403f35e57549899ce8bb77e2558c77",
            "c8f70a881beb4b15839f278f6b0f1859",
            "c6acd67438354d5f9f94fdd3e773facb",
            "84ffc53b0007423e9c7fed9381b6651b",
            "bbe30de178954241b2bfa44fa6d6646a",
            "4b5c43cc84c84feeb1e9884be53c800b",
            "730fabc696124b9d8c250d2d87006aee",
            "fb3963dab4bf46ce9b4936985dd2a969",
            "7d87b2d5649448e893b8020a73e84971",
            "844b131bee704cdb8b7b250d1c14b3dd",
            "6ff0d9ffc1a74106bff82263b9f01e3e",
            "0bb6a1f3aead4ed59980e397326b9a6b",
            "69313fc988404df58b4996a24297a3fc",
            "1a00926c73dc41c2a7fcfad2de19bbd1",
            "e9bcbc95dd4d49dda016acf0d2a3a731",
            "0518acd7db1746ce9c5257b4d1b08379",
            "0701858a167546be812dc0b01c5d9d23",
            "aa57929a4be3427595c714055599a53f",
            "57bd087f3e4040e48ba2f683e16e209f",
            "c916c64a2e1e419d8d389f44a57c4102",
            "1bf7854a00fa4be5997e0bb2e578e4e7",
            "36db1377a9244eefbe74a94620df62ee",
            "a5448696c0164afa90caaef8f958603e",
            "24dcd07eecb64a43ae9dad49f378db77",
            "a3a69eabcc5e43b89f43e2f67720e93c",
            "dff1cb6961ed453e887ee60d4b81e1f5",
            "8f4d284686b24632b1314634484e27d8",
            "68c9b88650874669b14b4b1df1dedff4",
            "cbbbf752401f41978220dbb0231c473c",
            "6d9bae62ba02466892c75ad0401666e0"
          ]
        }
      },
      "outputs": [
        {
          "output_type": "stream",
          "name": "stderr",
          "text": [
            "/usr/local/lib/python3.10/dist-packages/huggingface_hub/utils/_token.py:89: UserWarning: \n",
            "The secret `HF_TOKEN` does not exist in your Colab secrets.\n",
            "To authenticate with the Hugging Face Hub, create a token in your settings tab (https://huggingface.co/settings/tokens), set it as secret in your Google Colab and restart your session.\n",
            "You will be able to reuse this secret in all of your notebooks.\n",
            "Please note that authentication is recommended but still optional to access public models or datasets.\n",
            "  warnings.warn(\n"
          ]
        },
        {
          "output_type": "display_data",
          "data": {
            "text/plain": [
              "Downloading data:   0%|          | 0.00/5.66M [00:00<?, ?B/s]"
            ],
            "application/vnd.jupyter.widget-view+json": {
              "version_major": 2,
              "version_minor": 0,
              "model_id": "75bd3baf3c774b54911fdaba15a4702a"
            }
          },
          "metadata": {}
        },
        {
          "output_type": "display_data",
          "data": {
            "text/plain": [
              "Downloading data:   0%|          | 0.00/739k [00:00<?, ?B/s]"
            ],
            "application/vnd.jupyter.widget-view+json": {
              "version_major": 2,
              "version_minor": 0,
              "model_id": "3772c14c15814234873b8f512204c4cf"
            }
          },
          "metadata": {}
        },
        {
          "output_type": "display_data",
          "data": {
            "text/plain": [
              "Downloading data:   0%|          | 0.00/743k [00:00<?, ?B/s]"
            ],
            "application/vnd.jupyter.widget-view+json": {
              "version_major": 2,
              "version_minor": 0,
              "model_id": "f828ef34bc344d11865a32783319ddd7"
            }
          },
          "metadata": {}
        },
        {
          "output_type": "display_data",
          "data": {
            "text/plain": [
              "Downloading data:   0%|          | 0.00/890k [00:00<?, ?B/s]"
            ],
            "application/vnd.jupyter.widget-view+json": {
              "version_major": 2,
              "version_minor": 0,
              "model_id": "666e29f397a842f2831c39ae6470bbec"
            }
          },
          "metadata": {}
        },
        {
          "output_type": "display_data",
          "data": {
            "text/plain": [
              "Generating train split:   0%|          | 0/8000 [00:00<?, ? examples/s]"
            ],
            "application/vnd.jupyter.widget-view+json": {
              "version_major": 2,
              "version_minor": 0,
              "model_id": "50939fc029cd43bb8d105c519e105c1d"
            }
          },
          "metadata": {}
        },
        {
          "output_type": "display_data",
          "data": {
            "text/plain": [
              "Generating validation split:   0%|          | 0/1000 [00:00<?, ? examples/s]"
            ],
            "application/vnd.jupyter.widget-view+json": {
              "version_major": 2,
              "version_minor": 0,
              "model_id": "dbcb5044bddf4cd7a570c8d966724f28"
            }
          },
          "metadata": {}
        },
        {
          "output_type": "display_data",
          "data": {
            "text/plain": [
              "Generating test split:   0%|          | 0/1000 [00:00<?, ? examples/s]"
            ],
            "application/vnd.jupyter.widget-view+json": {
              "version_major": 2,
              "version_minor": 0,
              "model_id": "7d87b2d5649448e893b8020a73e84971"
            }
          },
          "metadata": {}
        },
        {
          "output_type": "display_data",
          "data": {
            "text/plain": [
              "Generating test2 split:   0%|          | 0/1294 [00:00<?, ? examples/s]"
            ],
            "application/vnd.jupyter.widget-view+json": {
              "version_major": 2,
              "version_minor": 0,
              "model_id": "c916c64a2e1e419d8d389f44a57c4102"
            }
          },
          "metadata": {}
        }
      ],
      "source": [
        "import datasets\n",
        "\n",
        "dataset_card = \"lbox/lbox_open\"\n",
        "task = \"casename_classification\"\n",
        "data = datasets.load_dataset(dataset_card, task)"
      ]
    },
    {
      "cell_type": "code",
      "execution_count": 5,
      "metadata": {
        "colab": {
          "base_uri": "https://localhost:8080/"
        },
        "id": "iVCDQ6GmDb8C",
        "outputId": "e7d999fd-9ee3-4c1c-8b8c-acac787f4849"
      },
      "outputs": [
        {
          "output_type": "execute_result",
          "data": {
            "text/plain": [
              "dict_keys(['train', 'validation', 'test', 'test2'])"
            ]
          },
          "metadata": {},
          "execution_count": 5
        }
      ],
      "source": [
        "data.keys()"
      ]
    },
    {
      "cell_type": "code",
      "execution_count": 6,
      "metadata": {
        "colab": {
          "base_uri": "https://localhost:8080/"
        },
        "id": "nUHQrJQ4Db8C",
        "outputId": "fc7b5804-0cb7-4ede-a6a6-7e0c5968cf83"
      },
      "outputs": [
        {
          "output_type": "execute_result",
          "data": {
            "text/plain": [
              "{'id': 88,\n",
              " 'casetype': 'criminal',\n",
              " 'casename': '감염병의예방및관리에관한법률위반',\n",
              " 'facts': \"피고인은 경기 오산시 B, 2층에 있는 ‘C' 유흥주점을 운영하는 사람이다.\\n경기도지사는 2020. 5. 10. ‘2020. 5. 10. 18:00경부터 2020. 5. 24. 24:00경까지 경기지역 내 다중시설(클럽형태, 유흥주점, 감성주점, 콜라텍)에 대해 집합을 금지한다'는 내용의 집합금지 행정명령을 내려 경기도청 담당 공무원은 피고인에게 집합금지 행정명령 알림문자를 발송하고, 오산시청 담당 공무원은 집합금지명령서를 피고인에게 교부하면서 이를 위 유흥주점 출입문에 부착하였다.\\n그럼에도 불구하고 피고인은 2020. 5. 16. 21:20경 위 유흥주점에 찾아온 손님 D, E을 위 유흥주점에 입장시켰다.\\n이로써 피고인은 경기도지사의 감염병 예방을 위한 집합금지명령을 위반하였다.\"}"
            ]
          },
          "metadata": {},
          "execution_count": 6
        }
      ],
      "source": [
        "data_v = data[\"validation\"]\n",
        "data_v[8]"
      ]
    },
    {
      "cell_type": "code",
      "source": [
        "len(data[\"train\"]), len(data[\"validation\"]), len(data[\"test\"])"
      ],
      "metadata": {
        "id": "S7DvbKtBgEMo",
        "outputId": "be7c3913-babb-4e72-8908-30694858bddd",
        "colab": {
          "base_uri": "https://localhost:8080/"
        }
      },
      "execution_count": 7,
      "outputs": [
        {
          "output_type": "execute_result",
          "data": {
            "text/plain": [
              "(8000, 1000, 1000)"
            ]
          },
          "metadata": {},
          "execution_count": 7
        }
      ]
    },
    {
      "cell_type": "markdown",
      "metadata": {
        "id": "HFRmc451Db8C"
      },
      "source": [
        "# 1.1 Input"
      ]
    },
    {
      "cell_type": "code",
      "execution_count": 8,
      "metadata": {
        "colab": {
          "base_uri": "https://localhost:8080/",
          "height": 234,
          "referenced_widgets": [
            "958bf17a5fbd4204b6587e51e4cc3935",
            "e569038a8d70423995dd97a289549dc8",
            "4d650eae19064b399337e34e229230e5",
            "38a5bf1620ed4685934cc12eba20b126",
            "5258253a140e4a61b7cc78bcd16e8fb6",
            "54e18cf9dd9e4042ba276ed4be876c74",
            "a5149df3e32b4b7aa33d5d270cdba59f",
            "73f0a9dd5f58494e844a551a44882ad1",
            "7c68d424225845d3a310745638dc40e6",
            "907f3aba2f3144f0bfcc52ac60559adc",
            "f3bd494e11c94171873e360239bf4f1a",
            "ee5a8db806824ab6aa032bc5c20612db",
            "eb31f7c4d13c438f96ee6744c10fd3e2",
            "dab0dcd25e744626a60cffa60b960295",
            "3fb8b9909a654c4bb03338f2e2408242",
            "0eee69de5de04161904c73d3c113fc52",
            "719267119be44aaa916c4456e4dee7fc",
            "57cef586ed8f442b9df4aed41535bb98",
            "eb03fab7d6a348b283275be4ef8ed0ac",
            "cd2e6e436f7e446aa8a346f702b26267",
            "305c9d30fc8146d792ec5686e5c3942f",
            "b3a620b8217f475bba19ad9a6b683ad0",
            "d574667e5b4e462ba3749badf05b3dcd",
            "ad7088ca16ac4536a287828a3063fa8c",
            "c8c3db060970400b98a3061e749b010b",
            "c0908d637b30457a89830a62eca44b50",
            "8651781004c345f884643cfafc6e4e79",
            "e43cd8bad42840a9a2c4906fec9fc8bc",
            "6c78a97237ec4303b4b3e5246d4eea4d",
            "adeee6a6250448a0826d8be45e835e14",
            "7f8e7633e82643dea058888c1daa1c61",
            "c59aff52225f420791609034b42bc1cc",
            "969848cdcd064151a730e85de45d0a36",
            "074c0b3a5c0c4048bb0c1752c5c8d85d",
            "e50ce2745d2b4480a1ee1fc776a62fdc",
            "a76ffbc3ae954dbaaeaee47e6ffb7c9d",
            "209898583f0e4928a7e405778c24305e",
            "486f18e672224867a6aa1a946f715f6e",
            "3757ae3551734716b4ae2425285ca639",
            "6722748c4bdb402e9f9c738655a397d7",
            "1c99058ae00c436bb443efb3f683bf3d",
            "360c1036c6b8414095c750ff8bd8af28",
            "fad3ede29d9f40cea92155b0f2f9d169",
            "febd39009d3f42f497cf6884503ae837",
            "9d7df39517cf48e7aa23e5744866427e",
            "4b8182403c2e4cb7862628c60e8585ab",
            "452a26aa1e3647199194aff130e7c08a",
            "b958213d37d347bc970b950dd68823db",
            "26ef4b315abc478695850bf8a466dbe0",
            "a48329e0ec0e4488941ce195167237cc",
            "01240f56ae0f469f8e924374595b391b",
            "ebdecdb74b414e03873061d058567ab7",
            "a88350a876a24e77a7989515f97fc008",
            "b2c0b4a0d416419c9408b52dbcc04572",
            "16d8b80bd1fd473d8cc3a1308e25a0e8"
          ]
        },
        "id": "L-9nmhx5Db8C",
        "outputId": "944ff684-7d4a-4dd4-eec9-9dc8b4edd8c6"
      },
      "outputs": [
        {
          "output_type": "display_data",
          "data": {
            "text/plain": [
              "config.json:   0%|          | 0.00/466 [00:00<?, ?B/s]"
            ],
            "application/vnd.jupyter.widget-view+json": {
              "version_major": 2,
              "version_minor": 0,
              "model_id": "958bf17a5fbd4204b6587e51e4cc3935"
            }
          },
          "metadata": {}
        },
        {
          "output_type": "display_data",
          "data": {
            "text/plain": [
              "model.safetensors:   0%|          | 0.00/542M [00:00<?, ?B/s]"
            ],
            "application/vnd.jupyter.widget-view+json": {
              "version_major": 2,
              "version_minor": 0,
              "model_id": "ee5a8db806824ab6aa032bc5c20612db"
            }
          },
          "metadata": {}
        },
        {
          "output_type": "display_data",
          "data": {
            "text/plain": [
              "tokenizer_config.json:   0%|          | 0.00/49.0 [00:00<?, ?B/s]"
            ],
            "application/vnd.jupyter.widget-view+json": {
              "version_major": 2,
              "version_minor": 0,
              "model_id": "d574667e5b4e462ba3749badf05b3dcd"
            }
          },
          "metadata": {}
        },
        {
          "output_type": "display_data",
          "data": {
            "text/plain": [
              "vocab.txt:   0%|          | 0.00/996k [00:00<?, ?B/s]"
            ],
            "application/vnd.jupyter.widget-view+json": {
              "version_major": 2,
              "version_minor": 0,
              "model_id": "074c0b3a5c0c4048bb0c1752c5c8d85d"
            }
          },
          "metadata": {}
        },
        {
          "output_type": "display_data",
          "data": {
            "text/plain": [
              "tokenizer.json:   0%|          | 0.00/1.96M [00:00<?, ?B/s]"
            ],
            "application/vnd.jupyter.widget-view+json": {
              "version_major": 2,
              "version_minor": 0,
              "model_id": "9d7df39517cf48e7aa23e5744866427e"
            }
          },
          "metadata": {}
        },
        {
          "output_type": "stream",
          "name": "stderr",
          "text": [
            "/usr/local/lib/python3.10/dist-packages/transformers/tokenization_utils_base.py:1601: FutureWarning: `clean_up_tokenization_spaces` was not set. It will be set to `True` by default. This behavior will be depracted in transformers v4.45, and will be then set to `False` by default. For more details check this issue: https://github.com/huggingface/transformers/issues/31884\n",
            "  warnings.warn(\n"
          ]
        }
      ],
      "source": [
        "from transformers import AutoModel, AutoTokenizer\n",
        "# https://huggingface.co/distilbert/distilbert-base-multilingual-cased에서 불러옴\n",
        "backbone_card = \"distilbert-base-multilingual-cased\" # pretrained bert모델를 활용\n",
        "backbone = AutoModel.from_pretrained(backbone_card)  # bert model로딩\n",
        "tokenizer = AutoTokenizer.from_pretrained(backbone_card)"
      ]
    },
    {
      "cell_type": "code",
      "source": [
        "tokenizer"
      ],
      "metadata": {
        "id": "jPemCNe6haXH",
        "outputId": "67eb67b4-248d-4a74-88f1-a2bf57bc087c",
        "colab": {
          "base_uri": "https://localhost:8080/"
        }
      },
      "execution_count": 9,
      "outputs": [
        {
          "output_type": "execute_result",
          "data": {
            "text/plain": [
              "DistilBertTokenizerFast(name_or_path='distilbert-base-multilingual-cased', vocab_size=119547, model_max_length=512, is_fast=True, padding_side='right', truncation_side='right', special_tokens={'unk_token': '[UNK]', 'sep_token': '[SEP]', 'pad_token': '[PAD]', 'cls_token': '[CLS]', 'mask_token': '[MASK]'}, clean_up_tokenization_spaces=True),  added_tokens_decoder={\n",
              "\t0: AddedToken(\"[PAD]\", rstrip=False, lstrip=False, single_word=False, normalized=False, special=True),\n",
              "\t100: AddedToken(\"[UNK]\", rstrip=False, lstrip=False, single_word=False, normalized=False, special=True),\n",
              "\t101: AddedToken(\"[CLS]\", rstrip=False, lstrip=False, single_word=False, normalized=False, special=True),\n",
              "\t102: AddedToken(\"[SEP]\", rstrip=False, lstrip=False, single_word=False, normalized=False, special=True),\n",
              "\t103: AddedToken(\"[MASK]\", rstrip=False, lstrip=False, single_word=False, normalized=False, special=True),\n",
              "}"
            ]
          },
          "metadata": {},
          "execution_count": 9
        }
      ]
    },
    {
      "cell_type": "code",
      "execution_count": 10,
      "metadata": {
        "colab": {
          "base_uri": "https://localhost:8080/"
        },
        "id": "vpUZBF8HDb8D",
        "outputId": "0cf438ff-4208-4399-b892-b8a1b2467a77"
      },
      "outputs": [
        {
          "output_type": "execute_result",
          "data": {
            "text/plain": [
              "['embeddings.word_embeddings.weight',\n",
              " 'embeddings.position_embeddings.weight',\n",
              " 'embeddings.LayerNorm.weight',\n",
              " 'embeddings.LayerNorm.bias',\n",
              " 'transformer.layer.0.attention.q_lin.weight',\n",
              " 'transformer.layer.0.attention.q_lin.bias',\n",
              " 'transformer.layer.0.attention.k_lin.weight',\n",
              " 'transformer.layer.0.attention.k_lin.bias',\n",
              " 'transformer.layer.0.attention.v_lin.weight',\n",
              " 'transformer.layer.0.attention.v_lin.bias',\n",
              " 'transformer.layer.0.attention.out_lin.weight',\n",
              " 'transformer.layer.0.attention.out_lin.bias',\n",
              " 'transformer.layer.0.sa_layer_norm.weight',\n",
              " 'transformer.layer.0.sa_layer_norm.bias',\n",
              " 'transformer.layer.0.ffn.lin1.weight',\n",
              " 'transformer.layer.0.ffn.lin1.bias',\n",
              " 'transformer.layer.0.ffn.lin2.weight',\n",
              " 'transformer.layer.0.ffn.lin2.bias',\n",
              " 'transformer.layer.0.output_layer_norm.weight',\n",
              " 'transformer.layer.0.output_layer_norm.bias',\n",
              " 'transformer.layer.1.attention.q_lin.weight',\n",
              " 'transformer.layer.1.attention.q_lin.bias',\n",
              " 'transformer.layer.1.attention.k_lin.weight',\n",
              " 'transformer.layer.1.attention.k_lin.bias',\n",
              " 'transformer.layer.1.attention.v_lin.weight',\n",
              " 'transformer.layer.1.attention.v_lin.bias',\n",
              " 'transformer.layer.1.attention.out_lin.weight',\n",
              " 'transformer.layer.1.attention.out_lin.bias',\n",
              " 'transformer.layer.1.sa_layer_norm.weight',\n",
              " 'transformer.layer.1.sa_layer_norm.bias',\n",
              " 'transformer.layer.1.ffn.lin1.weight',\n",
              " 'transformer.layer.1.ffn.lin1.bias',\n",
              " 'transformer.layer.1.ffn.lin2.weight',\n",
              " 'transformer.layer.1.ffn.lin2.bias',\n",
              " 'transformer.layer.1.output_layer_norm.weight',\n",
              " 'transformer.layer.1.output_layer_norm.bias',\n",
              " 'transformer.layer.2.attention.q_lin.weight',\n",
              " 'transformer.layer.2.attention.q_lin.bias',\n",
              " 'transformer.layer.2.attention.k_lin.weight',\n",
              " 'transformer.layer.2.attention.k_lin.bias',\n",
              " 'transformer.layer.2.attention.v_lin.weight',\n",
              " 'transformer.layer.2.attention.v_lin.bias',\n",
              " 'transformer.layer.2.attention.out_lin.weight',\n",
              " 'transformer.layer.2.attention.out_lin.bias',\n",
              " 'transformer.layer.2.sa_layer_norm.weight',\n",
              " 'transformer.layer.2.sa_layer_norm.bias',\n",
              " 'transformer.layer.2.ffn.lin1.weight',\n",
              " 'transformer.layer.2.ffn.lin1.bias',\n",
              " 'transformer.layer.2.ffn.lin2.weight',\n",
              " 'transformer.layer.2.ffn.lin2.bias',\n",
              " 'transformer.layer.2.output_layer_norm.weight',\n",
              " 'transformer.layer.2.output_layer_norm.bias',\n",
              " 'transformer.layer.3.attention.q_lin.weight',\n",
              " 'transformer.layer.3.attention.q_lin.bias',\n",
              " 'transformer.layer.3.attention.k_lin.weight',\n",
              " 'transformer.layer.3.attention.k_lin.bias',\n",
              " 'transformer.layer.3.attention.v_lin.weight',\n",
              " 'transformer.layer.3.attention.v_lin.bias',\n",
              " 'transformer.layer.3.attention.out_lin.weight',\n",
              " 'transformer.layer.3.attention.out_lin.bias',\n",
              " 'transformer.layer.3.sa_layer_norm.weight',\n",
              " 'transformer.layer.3.sa_layer_norm.bias',\n",
              " 'transformer.layer.3.ffn.lin1.weight',\n",
              " 'transformer.layer.3.ffn.lin1.bias',\n",
              " 'transformer.layer.3.ffn.lin2.weight',\n",
              " 'transformer.layer.3.ffn.lin2.bias',\n",
              " 'transformer.layer.3.output_layer_norm.weight',\n",
              " 'transformer.layer.3.output_layer_norm.bias',\n",
              " 'transformer.layer.4.attention.q_lin.weight',\n",
              " 'transformer.layer.4.attention.q_lin.bias',\n",
              " 'transformer.layer.4.attention.k_lin.weight',\n",
              " 'transformer.layer.4.attention.k_lin.bias',\n",
              " 'transformer.layer.4.attention.v_lin.weight',\n",
              " 'transformer.layer.4.attention.v_lin.bias',\n",
              " 'transformer.layer.4.attention.out_lin.weight',\n",
              " 'transformer.layer.4.attention.out_lin.bias',\n",
              " 'transformer.layer.4.sa_layer_norm.weight',\n",
              " 'transformer.layer.4.sa_layer_norm.bias',\n",
              " 'transformer.layer.4.ffn.lin1.weight',\n",
              " 'transformer.layer.4.ffn.lin1.bias',\n",
              " 'transformer.layer.4.ffn.lin2.weight',\n",
              " 'transformer.layer.4.ffn.lin2.bias',\n",
              " 'transformer.layer.4.output_layer_norm.weight',\n",
              " 'transformer.layer.4.output_layer_norm.bias',\n",
              " 'transformer.layer.5.attention.q_lin.weight',\n",
              " 'transformer.layer.5.attention.q_lin.bias',\n",
              " 'transformer.layer.5.attention.k_lin.weight',\n",
              " 'transformer.layer.5.attention.k_lin.bias',\n",
              " 'transformer.layer.5.attention.v_lin.weight',\n",
              " 'transformer.layer.5.attention.v_lin.bias',\n",
              " 'transformer.layer.5.attention.out_lin.weight',\n",
              " 'transformer.layer.5.attention.out_lin.bias',\n",
              " 'transformer.layer.5.sa_layer_norm.weight',\n",
              " 'transformer.layer.5.sa_layer_norm.bias',\n",
              " 'transformer.layer.5.ffn.lin1.weight',\n",
              " 'transformer.layer.5.ffn.lin1.bias',\n",
              " 'transformer.layer.5.ffn.lin2.weight',\n",
              " 'transformer.layer.5.ffn.lin2.bias',\n",
              " 'transformer.layer.5.output_layer_norm.weight',\n",
              " 'transformer.layer.5.output_layer_norm.bias']"
            ]
          },
          "metadata": {},
          "execution_count": 10
        }
      ],
      "source": [
        "[x[0] for x in list(backbone.named_parameters())]"
      ]
    },
    {
      "cell_type": "code",
      "execution_count": 11,
      "metadata": {
        "colab": {
          "base_uri": "https://localhost:8080/"
        },
        "id": "BpIYVA06Db8D",
        "outputId": "375d77fe-8a1d-4c01-f594-0c35b7436682"
      },
      "outputs": [
        {
          "output_type": "execute_result",
          "data": {
            "text/plain": [
              "torch.Size([119547, 768])"
            ]
          },
          "metadata": {},
          "execution_count": 11
        }
      ],
      "source": [
        "# word embedding : 119547개의 token를 갖고, 각 token별로 768개의 차원을 갖는다.\n",
        "backbone.embeddings.word_embeddings.weight.shape"
      ]
    },
    {
      "cell_type": "code",
      "execution_count": 12,
      "metadata": {
        "colab": {
          "base_uri": "https://localhost:8080/"
        },
        "id": "LeJKAgUxDb8D",
        "outputId": "a6cadfa6-d24c-405c-e188-5b51535329ae"
      },
      "outputs": [
        {
          "output_type": "execute_result",
          "data": {
            "text/plain": [
              "350.2353515625"
            ]
          },
          "metadata": {},
          "execution_count": 12
        }
      ],
      "source": [
        "# in MB : # in MB : Word Embedding만 350MB를 차지함\n",
        "119547 * 768 * 4 / 1024 / 1024"
      ]
    },
    {
      "cell_type": "code",
      "execution_count": 13,
      "metadata": {
        "colab": {
          "base_uri": "https://localhost:8080/"
        },
        "id": "5CciKSe4Db8D",
        "outputId": "b3ded914-fed5-4aff-c53b-d206abac4077"
      },
      "outputs": [
        {
          "output_type": "execute_result",
          "data": {
            "text/plain": [
              "91812096"
            ]
          },
          "metadata": {},
          "execution_count": 13
        }
      ],
      "source": [
        "backbone.embeddings.word_embeddings.weight.numel()"
      ]
    },
    {
      "cell_type": "code",
      "execution_count": 14,
      "metadata": {
        "colab": {
          "base_uri": "https://localhost:8080/"
        },
        "id": "XiolRzKNDb8D",
        "outputId": "63a48ca8-652e-45d4-f3f6-0f1480ed06fb"
      },
      "outputs": [
        {
          "output_type": "execute_result",
          "data": {
            "text/plain": [
              "torch.float32"
            ]
          },
          "metadata": {},
          "execution_count": 14
        }
      ],
      "source": [
        "backbone.embeddings.word_embeddings.weight[0][0].dtype"
      ]
    },
    {
      "cell_type": "code",
      "execution_count": 15,
      "metadata": {
        "colab": {
          "base_uri": "https://localhost:8080/",
          "height": 90
        },
        "id": "fc6GaHZMDb8D",
        "outputId": "9cc0da63-f5b4-46d8-b15b-51e352345931"
      },
      "outputs": [
        {
          "output_type": "execute_result",
          "data": {
            "text/plain": [
              "\"질병관리청장, 시·도지사 또는 시장·군수·구청장은 제1급 감염병이 발생한 경우 감염병의 전파방지 및 예방을 위하여 감염병의심자를 적당한 장소에 일정한 기간 격리시키는 조치를 하여야 하고, 그 격리조치를 받은 사람은 이를 위반하여서는 아니 된다.\\n피고인은 해외에서 국내로 입국하였음을 이유로 2021. 4. 21.경 감염병의심자로 분류되었고, 같은 날 창녕군수로부터 ‘2021. 4. 21.부터 2021. 5. 5. 12:00경까지 피고인의 주거지인 경남 창녕군 B에서 격리해야 한다'는 내용의 자가격리 통지서를 수령하였다.\\n1. 2021. 4. 27.자 범행\\n그럼에도 불구하고 피고인은 2021. 4. 27. 11:20경에서 같은 날 11:59경까지 사이에 위 격리장소를 무단으로 이탈하여 자신의 승용차를 이용하여 경남 창녕군 C에 있는 ‘D' 식당에 다녀오는 등 자가격리 조치를 위반하였다.\\n2. 2021. 5. 3.자 범행\\n피고인은 2021. 5. 3. 10:00경에서 같은 날 11:35경까지 사이에 위 격리장소를 무단으로 이탈하여 자신의 승용차를 이용하여 불상의 장소를 다녀오는 등 자가격리 조치를 위반하였다.\""
            ],
            "application/vnd.google.colaboratory.intrinsic+json": {
              "type": "string"
            }
          },
          "metadata": {},
          "execution_count": 15
        }
      ],
      "source": [
        "facts = data_v[0][\"facts\"]\n",
        "facts"
      ]
    },
    {
      "cell_type": "code",
      "execution_count": 16,
      "metadata": {
        "colab": {
          "base_uri": "https://localhost:8080/"
        },
        "id": "yBBVYtAwDb8D",
        "outputId": "2011178b-9f0b-482f-8998-dce47acd19d6"
      },
      "outputs": [
        {
          "output_type": "stream",
          "name": "stdout",
          "text": [
            "['질', '##병', '##관', '##리', '##청', '##장', ',', '시', '·', '도', '##지', '##사', '또는', '시', '##장', '·', '군', '##수', '·', '구']\n"
          ]
        }
      ],
      "source": [
        "# 문장을 토큰단위로 묶음 : 단어/문장단위는 선택\n",
        "toks = tokenizer.tokenize(facts)[0:20]\n",
        "print(toks)"
      ]
    },
    {
      "cell_type": "code",
      "execution_count": 18,
      "metadata": {
        "colab": {
          "base_uri": "https://localhost:8080/"
        },
        "id": "5VeciuMCDb8E",
        "outputId": "2ed904ea-3250-48f3-92c6-f30b1935d6f1"
      },
      "outputs": [
        {
          "output_type": "stream",
          "name": "stdout",
          "text": [
            "[9709, 73380, 20595, 12692, 40311, 13890, 117, 9485, 217, 9087, 12508, 12945, 20625, 9485, 13890, 217, 8910, 15891, 217, 8908]\n"
          ]
        }
      ],
      "source": [
        "# 토큰의 임베딩id를 할당\n",
        "ids = tokenizer.convert_tokens_to_ids(toks)\n",
        "print(ids)"
      ]
    },
    {
      "cell_type": "code",
      "execution_count": 19,
      "metadata": {
        "colab": {
          "base_uri": "https://localhost:8080/"
        },
        "id": "TT6u4zmuDb8E",
        "outputId": "7d517c43-03ff-4512-f125-2a24acb4e485"
      },
      "outputs": [
        {
          "output_type": "stream",
          "name": "stdout",
          "text": [
            "tensor([[-0.0355, -0.0282,  0.0091,  ..., -0.0483,  0.0443, -0.0613],\n",
            "        [-0.0229, -0.0365, -0.0619,  ..., -0.1163, -0.0326,  0.0328],\n",
            "        [-0.0196, -0.0161, -0.1193,  ..., -0.0774,  0.0783, -0.0614],\n",
            "        ...,\n",
            "        [ 0.0671, -0.0503, -0.0432,  ...,  0.0116, -0.1382,  0.0555],\n",
            "        [-0.0300, -0.0656, -0.0997,  ...,  0.0226, -0.0120,  0.0318],\n",
            "        [-0.0051, -0.0861,  0.0107,  ...,  0.0059, -0.0111, -0.0063]],\n",
            "       grad_fn=<EmbeddingBackward0>)\n"
          ]
        }
      ],
      "source": [
        "import torch\n",
        "\n",
        "# 각 토큰의 임베딩id에 매핑되는 임베딩값 추출\n",
        "ids_tensor = torch.tensor(ids)\n",
        "vecs = backbone.embeddings.word_embeddings(ids_tensor)\n",
        "print(vecs)"
      ]
    },
    {
      "cell_type": "code",
      "execution_count": 20,
      "metadata": {
        "colab": {
          "base_uri": "https://localhost:8080/"
        },
        "id": "yGlinB6ADb8E",
        "outputId": "dc270dab-9cc3-4435-f9d6-6e7c10b2efb9"
      },
      "outputs": [
        {
          "output_type": "execute_result",
          "data": {
            "text/plain": [
              "torch.Size([20, 768])"
            ]
          },
          "metadata": {},
          "execution_count": 20
        }
      ],
      "source": [
        "# 20개의 토큰에 해당하는 임베딩값(768차원)\n",
        "vecs.shape"
      ]
    },
    {
      "cell_type": "markdown",
      "metadata": {
        "id": "aF_Yt6kqDb8E"
      },
      "source": [
        "# 1.2 Output"
      ]
    },
    {
      "cell_type": "code",
      "execution_count": 24,
      "metadata": {
        "colab": {
          "base_uri": "https://localhost:8080/"
        },
        "id": "49Ex4mUfDb8E",
        "outputId": "69520126-aaa3-437d-c8e1-352b95f2a623"
      },
      "outputs": [
        {
          "output_type": "stream",
          "name": "stdout",
          "text": [
            "('감염병의예방및관리에관한법률위반',\n",
            " '강제추행',\n",
            " '건물명도(인도)',\n",
            " '건물인도',\n",
            " '게임산업진흥에관한법률위반',\n",
            " '공무집행방해',\n",
            " '공무집행방해, 상해',\n",
            " '공무집행방해, 업무방해',\n",
            " '공사대금',\n",
            " '공연음란',\n",
            " '공유물분할',\n",
            " '공직선거법위반',\n",
            " '교통사고처리특례법위반(치사)',\n",
            " '교통사고처리특례법위반(치상)',\n",
            " '교통사고처리특례법위반(치상), 도로교통법위반(음주운전)',\n",
            " '구상금',\n",
            " '근로기준법위반',\n",
            " '근로기준법위반, 근로자퇴직급여보장법위반',\n",
            " '근저당권말소',\n",
            " '기타(금전)',\n",
            " '대여금',\n",
            " '도로교통법위반(무면허운전)',\n",
            " '도로교통법위반(무면허운전), 도로교통법위반(음주운전)',\n",
            " '도로교통법위반(무면허운전), 도로교통법위반(음주운전), 자동차손해배상보장법위반',\n",
            " '도로교통법위반(무면허운전), 도로교통법위반(음주측정거부)',\n",
            " '도로교통법위반(사고후미조치), 도로교통법위반(음주운전), 특정범죄가중처벌등에관한법률위반(도주치상)',\n",
            " '도로교통법위반(사고후미조치), 특정범죄가중처벌등에관한법률위반(도주치상)',\n",
            " '도로교통법위반(음주운전)',\n",
            " '도로교통법위반(음주운전), 특정범죄가중처벌등에관한법률위반(위험운전치상)',\n",
            " '도로교통법위반(음주측정거부)',\n",
            " '마약류관리에관한법률위반(대마)',\n",
            " '마약류관리에관한법률위반(대마), 마약류관리에관한법률위반(향정)',\n",
            " '마약류관리에관한법률위반(향정)',\n",
            " '매매대금',\n",
            " '매매대금반환',\n",
            " '명예훼손',\n",
            " '모욕',\n",
            " '무고',\n",
            " '물품대금',\n",
            " '배당이의',\n",
            " '배상명령신청, 사기',\n",
            " '배상명령신청, 사기, 사문서위조, 위조사문서행사',\n",
            " '배상명령신청, 사기방조',\n",
            " '병역법위반',\n",
            " '보증금반환',\n",
            " '보험금',\n",
            " '보험사기방지특별법위반',\n",
            " '부당이득금',\n",
            " '사기',\n",
            " '사기, 사문서위조, 위조사문서행사',\n",
            " '사기방조',\n",
            " '사문서위조, 위조사문서행사',\n",
            " '사해행위취소',\n",
            " '산업안전보건법위반, 업무상과실치사',\n",
            " '상해',\n",
            " '상해, 폭행',\n",
            " '성매매알선등행위의처벌에관한법률위반(성매매알선등)',\n",
            " '성폭력범죄의처벌등에관한특례법위반(카메라등이용촬영)',\n",
            " '성폭력범죄의처벌등에관한특례법위반(카메라등이용촬영·반포등)',\n",
            " '성폭력범죄의처벌등에관한특례법위반(통신매체이용음란)',\n",
            " '소유권말소등기',\n",
            " '소유권이전등기',\n",
            " '손해배상',\n",
            " '손해배상(기)',\n",
            " '손해배상(산)',\n",
            " '손해배상(의)',\n",
            " '손해배상(자)',\n",
            " '아동·청소년의성보호에관한법률위반(음란물소지)',\n",
            " '아동복지법위반(아동학대)',\n",
            " '약정금',\n",
            " '양수금',\n",
            " '업무방해',\n",
            " '업무방해, 폭행',\n",
            " '업무상횡령',\n",
            " '용역비',\n",
            " '위증',\n",
            " '임금',\n",
            " '임대차보증금',\n",
            " '재물손괴',\n",
            " '전기통신사업법위반',\n",
            " '전자금융거래법위반',\n",
            " '절도',\n",
            " '정보통신망이용촉진및정보보호등에관한법률위반(명예훼손)',\n",
            " '조세범처벌법위반',\n",
            " '주거침입',\n",
            " '준강간',\n",
            " '준강제추행',\n",
            " '채무부존재확인',\n",
            " '청구이의',\n",
            " '추심금',\n",
            " '토지인도',\n",
            " '특수상해',\n",
            " '특수폭행',\n",
            " '특수협박',\n",
            " '특정범죄가중처벌등에관한법률위반(도주치상)',\n",
            " '특정범죄가중처벌등에관한법률위반(운전자폭행등)',\n",
            " '폐기물관리법위반',\n",
            " '폭행',\n",
            " '협박',\n",
            " '횡령')\n"
          ]
        }
      ],
      "source": [
        "from pprint import pprint\n",
        "\n",
        "data_t = data[\"train\"]\n",
        "casenames = tuple(sorted(set(data_t[\"casename\"]))) # casename확인용\n",
        "pprint(casenames)"
      ]
    },
    {
      "cell_type": "code",
      "execution_count": 26,
      "metadata": {
        "colab": {
          "base_uri": "https://localhost:8080/"
        },
        "id": "Ckg4XDz1Db8E",
        "outputId": "b661006a-5e29-4472-b165-935872095875"
      },
      "outputs": [
        {
          "output_type": "execute_result",
          "data": {
            "text/plain": [
              "100"
            ]
          },
          "metadata": {},
          "execution_count": 26
        }
      ],
      "source": [
        "# 총 casename이 100개\n",
        "len(casenames)"
      ]
    },
    {
      "cell_type": "code",
      "execution_count": 27,
      "metadata": {
        "colab": {
          "base_uri": "https://localhost:8080/"
        },
        "id": "Q9vAXpGcDb8E",
        "outputId": "9c45a633-76c3-43fb-9ab1-fcbf8ca5bc78"
      },
      "outputs": [
        {
          "output_type": "execute_result",
          "data": {
            "text/plain": [
              "torch.Size([20, 768])"
            ]
          },
          "metadata": {},
          "execution_count": 27
        }
      ],
      "source": [
        "vecs.shape"
      ]
    },
    {
      "cell_type": "code",
      "execution_count": 28,
      "metadata": {
        "colab": {
          "base_uri": "https://localhost:8080/"
        },
        "id": "MQvkvI0eDb8E",
        "outputId": "1980502d-7c0c-4517-f615-655f896eb5f1"
      },
      "outputs": [
        {
          "output_type": "execute_result",
          "data": {
            "text/plain": [
              "torch.Size([100, 768])"
            ]
          },
          "metadata": {},
          "execution_count": 28
        }
      ],
      "source": [
        "# 총 casename이 100개이므로 pooking하겠다 -> 임베딩차원(768)을 100차원으로 임베딩하겠다\n",
        "casename_pooler = torch.nn.Linear(768, 100)\n",
        "casename_pooler.weight.shape"
      ]
    },
    {
      "cell_type": "code",
      "execution_count": 29,
      "metadata": {
        "colab": {
          "base_uri": "https://localhost:8080/"
        },
        "id": "uvZxEwRBDb8E",
        "outputId": "239a83b1-179a-405c-f978-76208348f9be"
      },
      "outputs": [
        {
          "output_type": "execute_result",
          "data": {
            "text/plain": [
              "torch.Size([768])"
            ]
          },
          "metadata": {},
          "execution_count": 29
        }
      ],
      "source": [
        "vecs[0].shape"
      ]
    },
    {
      "cell_type": "code",
      "execution_count": 30,
      "metadata": {
        "colab": {
          "base_uri": "https://localhost:8080/"
        },
        "id": "zZKlbxMODb8E",
        "outputId": "1f3f8518-0b2b-41e8-b012-be1a557649be"
      },
      "outputs": [
        {
          "output_type": "execute_result",
          "data": {
            "text/plain": [
              "tensor([-0.0859, -0.0052,  0.0181,  0.0190,  0.0011, -0.0236,  0.0131, -0.0048,\n",
              "         0.0385, -0.0270, -0.0330, -0.0666,  0.0026, -0.0128,  0.0450,  0.0565,\n",
              "         0.0050, -0.0070, -0.0681,  0.0211,  0.0371, -0.0095,  0.0190,  0.0370,\n",
              "        -0.0383, -0.0029,  0.0142, -0.0306,  0.0042,  0.0701, -0.0093, -0.0265,\n",
              "         0.0331,  0.0023, -0.0495, -0.0597, -0.0112, -0.0208,  0.0129, -0.0146,\n",
              "        -0.0717,  0.0552, -0.0548,  0.0300,  0.0066, -0.0079, -0.0211, -0.0234,\n",
              "         0.0047, -0.0691,  0.0086,  0.0219, -0.0233, -0.0060,  0.0038,  0.0271,\n",
              "         0.0079, -0.0621,  0.0114, -0.0740,  0.0239, -0.0071,  0.0250,  0.0059,\n",
              "        -0.0084, -0.0226, -0.0125, -0.0222, -0.0097,  0.0176, -0.0033, -0.0153,\n",
              "         0.0467, -0.0157,  0.0321,  0.0129,  0.0078, -0.0295,  0.0581, -0.0472,\n",
              "         0.0293, -0.0729,  0.0469,  0.0795,  0.0423, -0.0433, -0.0442,  0.0135,\n",
              "        -0.0058,  0.0748, -0.0026,  0.0204, -0.0102, -0.0115,  0.0069, -0.0125,\n",
              "        -0.0235, -0.0276,  0.0326,  0.0369], grad_fn=<ViewBackward0>)"
            ]
          },
          "metadata": {},
          "execution_count": 30
        }
      ],
      "source": [
        "# 첫번째 토큰의 벡터값만 추출\n",
        "logit = casename_pooler(vecs[0])\n",
        "logit"
      ]
    },
    {
      "cell_type": "code",
      "execution_count": 31,
      "metadata": {
        "colab": {
          "base_uri": "https://localhost:8080/"
        },
        "id": "fg_DfBk5Db8E",
        "outputId": "45039dbe-5c7b-4d01-a29f-9f47ebd799e6"
      },
      "outputs": [
        {
          "output_type": "execute_result",
          "data": {
            "text/plain": [
              "torch.Size([100])"
            ]
          },
          "metadata": {},
          "execution_count": 31
        }
      ],
      "source": [
        "# 768차원이 100차원으로 임베딩됨\n",
        "logit.shape"
      ]
    },
    {
      "cell_type": "code",
      "execution_count": 32,
      "metadata": {
        "colab": {
          "base_uri": "https://localhost:8080/"
        },
        "id": "4-tWigF4Db8F",
        "outputId": "0de13e8b-87ee-40cf-e262-16c35efabdef"
      },
      "outputs": [
        {
          "output_type": "stream",
          "name": "stdout",
          "text": [
            "tensor([0.0092, 0.0100, 0.0102, 0.0102, 0.0100, 0.0098, 0.0101, 0.0100, 0.0104,\n",
            "        0.0098, 0.0097, 0.0094, 0.0100, 0.0099, 0.0105, 0.0106, 0.0101, 0.0099,\n",
            "        0.0094, 0.0102, 0.0104, 0.0099, 0.0102, 0.0104, 0.0096, 0.0100, 0.0102,\n",
            "        0.0097, 0.0101, 0.0107, 0.0099, 0.0098, 0.0104, 0.0100, 0.0095, 0.0094,\n",
            "        0.0099, 0.0098, 0.0101, 0.0099, 0.0093, 0.0106, 0.0095, 0.0103, 0.0101,\n",
            "        0.0099, 0.0098, 0.0098, 0.0101, 0.0093, 0.0101, 0.0102, 0.0098, 0.0100,\n",
            "        0.0101, 0.0103, 0.0101, 0.0094, 0.0101, 0.0093, 0.0103, 0.0099, 0.0103,\n",
            "        0.0101, 0.0099, 0.0098, 0.0099, 0.0098, 0.0099, 0.0102, 0.0100, 0.0099,\n",
            "        0.0105, 0.0099, 0.0103, 0.0101, 0.0101, 0.0097, 0.0106, 0.0096, 0.0103,\n",
            "        0.0093, 0.0105, 0.0108, 0.0104, 0.0096, 0.0096, 0.0102, 0.0100, 0.0108,\n",
            "        0.0100, 0.0102, 0.0099, 0.0099, 0.0101, 0.0099, 0.0098, 0.0097, 0.0103,\n",
            "        0.0104], grad_fn=<SoftmaxBackward0>)\n",
            "tensor(1., grad_fn=<SumBackward0>)\n"
          ]
        }
      ],
      "source": [
        "softmax = torch.nn.Softmax(dim=-1)\n",
        "prob = softmax(logit)\n",
        "print(prob)\n",
        "print(torch.sum(prob))"
      ]
    },
    {
      "cell_type": "code",
      "execution_count": 33,
      "metadata": {
        "colab": {
          "base_uri": "https://localhost:8080/"
        },
        "id": "SzA_qmPtDb8F",
        "outputId": "97080502-e302-4293-ae9f-6e547c5fa71d"
      },
      "outputs": [
        {
          "output_type": "execute_result",
          "data": {
            "text/plain": [
              "tensor(4.6894, grad_fn=<NegBackward0>)"
            ]
          },
          "metadata": {},
          "execution_count": 33
        }
      ],
      "source": [
        "-torch.log(prob[0])"
      ]
    },
    {
      "cell_type": "code",
      "execution_count": 34,
      "metadata": {
        "colab": {
          "base_uri": "https://localhost:8080/"
        },
        "id": "CuiSOZzwDb8F",
        "outputId": "39a59244-6c38-4410-d179-9e52170a0e11"
      },
      "outputs": [
        {
          "output_type": "stream",
          "name": "stdout",
          "text": [
            "tensor(4.6052)\n",
            "tensor(0.0101)\n"
          ]
        }
      ],
      "source": [
        "print(-torch.log(torch.tensor(0.01)))\n",
        "print(-torch.log(torch.tensor(0.99)))"
      ]
    },
    {
      "cell_type": "code",
      "execution_count": 36,
      "metadata": {
        "colab": {
          "base_uri": "https://localhost:8080/"
        },
        "id": "g0_oX6keDb8F",
        "outputId": "4fe62b45-b6ae-438c-f6c6-307860408267"
      },
      "outputs": [
        {
          "output_type": "execute_result",
          "data": {
            "text/plain": [
              "tensor(4.6894, grad_fn=<DivBackward1>)"
            ]
          },
          "metadata": {},
          "execution_count": 36
        }
      ],
      "source": [
        "loss_fn = torch.nn.CrossEntropyLoss()\n",
        "label = torch.Tensor([1] + [0]*99)\n",
        "loss_fn(logit, label)"
      ]
    },
    {
      "cell_type": "code",
      "source": [
        "# 임의의 레이블 설정\n",
        "label"
      ],
      "metadata": {
        "colab": {
          "base_uri": "https://localhost:8080/"
        },
        "id": "tHEI9fEMk27k",
        "outputId": "d68827e6-3d76-43be-9f92-c1e3e9456468"
      },
      "execution_count": 40,
      "outputs": [
        {
          "output_type": "execute_result",
          "data": {
            "text/plain": [
              "tensor([1., 0., 0., 0., 0., 0., 0., 0., 0., 0., 0., 0., 0., 0., 0., 0., 0., 0.,\n",
              "        0., 0., 0., 0., 0., 0., 0., 0., 0., 0., 0., 0., 0., 0., 0., 0., 0., 0.,\n",
              "        0., 0., 0., 0., 0., 0., 0., 0., 0., 0., 0., 0., 0., 0., 0., 0., 0., 0.,\n",
              "        0., 0., 0., 0., 0., 0., 0., 0., 0., 0., 0., 0., 0., 0., 0., 0., 0., 0.,\n",
              "        0., 0., 0., 0., 0., 0., 0., 0., 0., 0., 0., 0., 0., 0., 0., 0., 0., 0.,\n",
              "        0., 0., 0., 0., 0., 0., 0., 0., 0., 0.])"
            ]
          },
          "metadata": {},
          "execution_count": 40
        }
      ]
    },
    {
      "cell_type": "code",
      "execution_count": 41,
      "metadata": {
        "colab": {
          "base_uri": "https://localhost:8080/"
        },
        "id": "Y2dzEb21Db8F",
        "outputId": "0092df2a-5de6-4b02-96bd-e6f54d2d8442"
      },
      "outputs": [
        {
          "output_type": "execute_result",
          "data": {
            "text/plain": [
              "tensor(2.6663, grad_fn=<DivBackward1>)"
            ]
          },
          "metadata": {},
          "execution_count": 41
        }
      ],
      "source": [
        "# logit=2이면 loss가 2.6\n",
        "logit[0] = 2\n",
        "loss_fn(logit, label)"
      ]
    },
    {
      "cell_type": "code",
      "execution_count": 42,
      "metadata": {
        "colab": {
          "base_uri": "https://localhost:8080/"
        },
        "id": "oz9FQOwLDb8F",
        "outputId": "7738ab14-eadc-46bf-8711-8e50d0737349"
      },
      "outputs": [
        {
          "output_type": "execute_result",
          "data": {
            "text/plain": [
              "tensor(1.1921e-07, grad_fn=<DivBackward1>)"
            ]
          },
          "metadata": {},
          "execution_count": 42
        }
      ],
      "source": [
        "logit[0] = 20\n",
        "loss_fn(logit, label)"
      ]
    },
    {
      "cell_type": "markdown",
      "metadata": {
        "id": "-BmW2kgKDb8F"
      },
      "source": [
        "# 1.3 Entropy"
      ]
    },
    {
      "cell_type": "markdown",
      "metadata": {
        "id": "TcHylW-iDb8F"
      },
      "source": [
        "# 2. Training"
      ]
    },
    {
      "cell_type": "code",
      "execution_count": 43,
      "metadata": {
        "id": "0Ozq7PCODb8F"
      },
      "outputs": [],
      "source": [
        "import torch\n",
        "\n",
        "# 무작위성을 제어해서 variance를 줄임\n",
        "torch.manual_seed(0)\n",
        "\n",
        "device = torch.device(\"cuda\" if torch.cuda.is_available() else \"cpu\")\n",
        "# device = torch.device(\"mps\") # mac전용 GPU\n",
        "\n",
        "# 2.1. Data\n",
        "dataloader_t = torch.utils.data.DataLoader(\n",
        "    data_t,\n",
        "    batch_size=36,\n",
        "    shuffle=True,\n",
        ")\n",
        "\n",
        "dataloader_v = torch.utils.data.DataLoader(\n",
        "    data_v,\n",
        "    batch_size=36,\n",
        "    shuffle=False,\n",
        ")"
      ]
    },
    {
      "cell_type": "code",
      "source": [
        "device"
      ],
      "metadata": {
        "colab": {
          "base_uri": "https://localhost:8080/"
        },
        "id": "2UNa8OoMQGrf",
        "outputId": "e76c117c-2617-4977-98b8-89f50e9a4d58"
      },
      "execution_count": 44,
      "outputs": [
        {
          "output_type": "execute_result",
          "data": {
            "text/plain": [
              "device(type='cuda')"
            ]
          },
          "metadata": {},
          "execution_count": 44
        }
      ]
    },
    {
      "cell_type": "code",
      "execution_count": 45,
      "metadata": {
        "colab": {
          "base_uri": "https://localhost:8080/"
        },
        "id": "3G2hYh2aDb8F",
        "outputId": "8165dbfb-a95d-4738-e288-58b37034a905"
      },
      "outputs": [
        {
          "output_type": "stream",
          "name": "stdout",
          "text": [
            "{'id': tensor([9026,   72, 9825, 1632, 5605, 1621,  951, 4714, 2048, 1542, 5341, 8056,\n",
            "        2206, 3333, 3509, 6518, 7251, 1602, 1559, 4168, 7668,  375, 3011, 7921,\n",
            "        6527, 9749, 6276, 6403, 6103, 6452, 6146, 1964,  423, 5445, 8860, 4927]), 'casetype': ['civil', 'criminal', 'criminal', 'criminal', 'criminal', 'criminal', 'criminal', 'civil', 'civil', 'civil', 'criminal', 'criminal', 'criminal', 'civil', 'criminal', 'civil', 'criminal', 'criminal', 'civil', 'criminal', 'civil', 'civil', 'criminal', 'criminal', 'civil', 'criminal', 'civil', 'civil', 'civil', 'civil', 'civil', 'civil', 'criminal', 'criminal', 'civil', 'criminal'], 'casename': ['토지인도', '감염병의예방및관리에관한법률위반', '협박', '근로기준법위반', '성매매알선등행위의처벌에관한법률위반(성매매알선등)', '근로기준법위반', '공연음란', '부당이득금', '대여금', '구상금', '산업안전보건법위반, 업무상과실치사', '전자금융거래법위반', '도로교통법위반(무면허운전), 도로교통법위반(음주운전)', '매매대금', '명예훼손', '손해배상(의)', '업무방해, 폭행', '근로기준법위반', '구상금', '배상명령신청, 사기, 사문서위조, 위조사문서행사', '임금', '건물인도', '마약류관리에관한법률위반(대마)', '전기통신사업법위반', '손해배상(의)', '폭행', '손해배상', '손해배상(산)', '소유권이전등기', '손해배상(산)', '소유권이전등기', '기타(금전)', '게임산업진흥에관한법률위반', '상해', '청구이의', '사기, 사문서위조, 위조사문서행사'], 'facts': ['가. 별지1, 2 목록 기재 각 토지의 소유권 귀속\\nE는 1970. 5. 27. 경남 거창군 F 전 486평(이후 2004. 6. 11. 지목이 과수원으로 변경되고 그 면적이 1,607m²로 환산되었다. 별지2 목록 기재 토지이다)에 관한 소유권이전등기를 마쳤고, 1972. 11. 22. G 전 1,730평(이후 2004. 6. 11. 지목이 과수원으로 변경된 후 2017. 3. 21. 그 면적이 5,593m²로 되었으며, 2017. 5. 22. 그 중 1,576m²는 H로, 900m²는 I로 각 분할되어 3,117m², 즉 별지1 목록 제1항 기재 토지가 남게 되었다. 분할된 위 I 과수원 900m²는 별지1 목록 제2항 기재 토지이다)에 관한 소유권이전등기를 마쳤다.\\nE는 1992. 10. 19. 사망하였고, 그 상속인으로는 처 J, 자녀들인 피고, 원고들 및 K이 있었는데, 상속재산분할 협의에 따라 2004. 6. 11. 별지1, 2 목록 기재 각 토지 중 3/13 지분에 관하여 J 명의의, 각 2/13 지분에 관하여 원고들과 피고 및 K 명의의 각 지분등기가 마쳐졌다. J는 2006. 9. 13. 피고에게 별지1, 2 목록 기재 각 토지 중 3/13 지분에 관하여 2006. 9. 12.자 증여를 원인으로 지분이전등기를 마쳐주었다.\\n나. 별지3 목록 기재 각 토지의 소유권 귀속\\n원고 B은 1990. 6. 9. 경남 거창군 L 과수원 1,914m²(별지3 목록 제1항 기재 토지이다)에 관하여 1990. 6. 1. 증여를 원인으로 한 소유권이전등기를 마쳤고, 원고 A은 2011. 10. 21. 위 토지에 관하여 2011. 10. 21. 매매를 원인으로 한 소유권이전등기를 마쳤다.\\n원고 A은 1981. 8. 10. 경남 거창군 M 전 952m²(이후 2017. 5. 25. 면적이 823m²로 변경되었다. 별지3 목록 제2항 기재 토지이다)에 관하여 1971. 3. 3. 매매를 원인으로 한 소유권이전등기를 마쳤고, 1981. 8. 24. N 전 767m²(별지3 목록 제3항 기재 토지이다)에 관하여 소유권보존등기를 마쳤다.\\n다. 별지4 목록 기재 각 토지의 소유권 귀속\\n원고 C은 1990. 6. 7. 경남 거창군 O 전 889m²(별지4 목록 제1항 기재 토지이다), P 전 863m²(별지4 목록 제2항 기재 토지이다), Q 전 426m²(별지4 목록 제3항 기재 토지이다), R 전 800m²(별지4 목록 제4항 기재 토지이다)에 관하여 1990. 6. 1. 증여를 원인으로 한 소유권이전등기를 마쳤다.', \"피고인은 안산시 상록구 B, 2층에 있는 ‘C'라는 상호의 실내체육시설을 운영하는 사람이다.\\n보건복지부장관, 시·도지사 또는 시장·군수·구청장은 감염병을 예방하기 위하여 흥행, 집회, 제례 또는 그 밖의 여러 사람의 집합을 제한하거나 금지하는 조치를 하여야 하고, 누구든지 이에 따른 조치를 위반하여서는 아니 된다.\\n그럼에도 불구하고 피고인은 안산시 상록구청장으로부터 2020. 8. 30. 00:00경부터 2020. 9. 6. 24:00경까지 골프연습장을 포함하여 모든 실내체육시설에 대한 집합금지조치를 받았음에도, 2020. 8. 30. 11:30경부터 12:30경까지 사이에 위 실내체육시설 1번방에 손님 2명을 입실하게 하고 3번방에 손님 2명을 입실하게 하여 1인당 10,000원을 받고 스크린 골프 서비스를 제공하는 등 집합금지 조치를 위반하였다.\", \"피고인은 피해자 B(여, 41세)와 인터넷 커뮤니티에서 알게 되어 피해자에게 호감을 가졌던 사람이다.\\n1. 피고인은 2018. 9. 14. 09:39경부터 13:30경까지 사이에 장소를 알 수 없는 곳에서, 피해자가 다른 남자의 차를 타고 귀가하였다는 이유로 피해자와 위 남자와의 관계를 의심하면서 카카오톡 메신저를 이용하여 피해자에게 ‘지금까지 너랑 했던 카톡 채팅내용이랑 라인 채팅내용 캡쳐해서 까페에 올리고 C에 올리고 개인적으로 D한테도 보내줄게', ‘이미 까페와 라인 대화방에 게시할 내용과 캡쳐 사진은 충분히 해뒀고 게시하느냐 아니면 그냥 삭제하느냐는 이따 대화에 따라 달라지겠지', ‘협박인지 아닌지는 두고 보면 알거야', ‘불륜을 스스로 오픈할 필요가 뭐가 있냐고 하는데 그래도 하게 된다면 할거야' 등의 메시지를 보내 피해자의 지인들에게 피해자에 대한 추문을 퍼뜨릴 것처럼 피해자를 위협하여 협박하였다.\\n2. 피고인은 2018. 9. 15. 23:10경 알 수 없는 장소에서, 제1항 기재와 같은 이유로 피해자에게 전화를 걸어 ‘사람 병신 만들어 놓는 게 내 일이야', ‘안 사귀었어도 잔 거 다 그거로 올리면 되니까', ‘섹스 할 당시 다 녹음한 게 있으니까', ‘왜, 유치원 선생이라는 게 이 남자, 저 남자랑 친구랑 자고 다닌다는 게 소문이 나면 좋아', ‘연락을 하고 싶어도 안 해. 내일 자고 나면 난리가 날 텐데 무슨 연락을 하겠냐, 앞으로 여기만 난리 나겠어, E어린이집. 유치원도 난리 날 텐데', ‘나는 행동을 할 거라고. 고로 협박이 아니라고요. 사람 잘못 봤어 니 편으로 만들었어야지 적으로 만들어서는 안 됐어', '녹음 하나만 하는 거 아니야. 블랙박스도 있고 다 있어. 몇 개 있어‘ 등의 말을 하여 피해자의 직장 및 지인들에게 피해자와의 성관계 사실 등 피해자에 대한 추문을 퍼뜨릴 것처럼 피해자를 위협하여 협박하였다.\", \"피고인은 영주시 B 소재 ‘주식회사 C'의 대표이사로 상시근로자 5명을 사용하여 도장, 금속 창호 관련 건설업을 영위한 사용자이다.\\n1. 근로조건 명시의무 위반\\n사용자는 근로계약을 체결할 때에 근로자에게 임금, 소정근로시간, 휴일, 연차 유급 휴가, 그 밖에 대통령령으로 정하는 근로조건을 명시하여야 한다.\\n그럼에도 불구하고 피고인은 2019. 8. 1.경 위 사업장에서 D과 근로계약을 체결하면서 임금, 소정근로시간 등 주요 근로조건을 명시하지 아니하였다.\\n2. 금품 미지급으로 인한 근로기준법위반\\n사용자는 근로자가 사망 또는 퇴직한 경우에는 그 지급사유가 발생한 때부터 14일 이내에 임금, 보상금, 그밖에 모든 금품을 지급하여야 한다.\\n그럼에도 불구하고 피고인은 위 사업장에서 2019. 8. 27.부터 2019. 12. 20.까지 현장대리인으로 근무하다 퇴직한 근로자 D의 2019. 12월 임금 3,200,000원을 당사자 간 지급기일 연장에 관한 합의 없이 지급사유 발생일로부터 14일 이내에 지급하지 아니하였다.\", \"누구든지 불특정인을 상대로 금품이나 그 밖의 재산상의 이익을 수수하거나 수수하기로 약속하고 성교행위를 하는 것을 알선하여서는 아니 된다.\\n그럼에도 불구하고 피고인은 2020. 12. 20.경부터 2021. 1. 18.경까지 사이에 고양시 일산동구 B건물 C호를 임차하고, 성매매 여성으로 D 등을 고용하고, 인터넷 성매매 광고 사이트에 ‘E'이라는 상호로 위 업소를 광고하여 광고를 보고 찾아온 불특정 다수의 남성 손님들로부터 성매매 시간 등에 따라 성매매 대금으로 17만 원에서 34만 원을 받고 위 오피스텔로 안내하여 안에서 대기하고 있던 D 등의 성매매 여성과 성교행위를 하도록 하였다.\\n이로써 피고인은 영업으로 성매매를 알선하였다.\", '피고인은 서울 강동구 B, 지하 1층에 있는 C노래연습장을 운영하는 사람으로서 상시 근로자 1명을 사용하여 노래방업을 영위하는 사용자이다.\\n사용자는 근로자가 사망 또는 퇴직한 경우에는 그 지급 사유가 발생한 때부터 14일 이내에 임금, 보상금, 그 밖의 모든 금품을 지급하여야 한다. 다만, 특별한 사정이 있을 경우에는 당사자 사이의 합의에 의하여 기일을 연장할 수 있다.\\n그럼에도 불구하고 피고인은 2020. 2. 14.부터 같은 해 11. 8.까지 위 사업장에서 근로하다 퇴직한 근로자 D의 임금 합계 560만 원을 당사자 사이의 지급기일 연장에 관한 합의 없이 퇴직일로부터 14일 이내에 지급하지 아니하였다.', '피고인은 2021. 2. 1. 18:25경 나주시 B아파트 앞 도로에서, 그곳을 지나가던 피해자 C(여, 24세)을 향해 자신의 성기를 드러내고 길을 묻는 척 접근하여, 피해자에게 \"여기 좀\"이라고 말하면서 드러낸 자신의 성기를 손가락으로 가리키며 쳐다보았다.\\n이로써 피고인은 공연히 음란한 행위를 하였다.', \"가. 피고는 충남 천안시 D 블록(예정지번: E) 근린생활시설(이하 ‘이 사건 건물'이라 한다)의 시행사 겸 수탁자로서 매도인의 지위에서, 원고 A과 사이에 2016. 12. 26. 이 사건 건물 중 F호, G호, H호, I호, J호, K호, L호, M호에 대한 매매계약을 체결하였다.\\n나. 피고와 원고 B(원고 A의 배우자이다)은 2017. 2. 9. 이 사건 건물 중 N호, O호에 대한 매매계약을 체결하였다(이하 원고들이 피고와 체결한 매매계약을 통칭하여 ‘이 사건 매매계약'이라 한다).\\n다. 이 사건 매매계약에 따라 피고에게 계약금 및 중도금 명목으로 원고 A은 662,796,480원을, 원고 B은 361,261,040원을 각 지급하였다.\", \"가. 피고 주식회사 B은 2015. 4. 7.에, 피고 주식회사 C은 2017. 7. 24.에 각 설립되었다.\\n나. 안동시 D 주건축물E동 제1층 F-G호 및 제4층 H-I호(이하 ‘이 사건 주택'이라 한다)에 관하여, 주식회사 J는 2014. 2. 11. 소유권보존등기를, K 주식회사는 2014. 2. 11. 신탁을 원인으로 한 소유권이전등기를, 피고 주식회사 B은 2016. 6. 29. 매매를 원인으로 한 소유권이전등기를 각 마쳤다.\\n다. 원고는 주식회사 J 및 L을 상대로 하여 이 법원에 대여금 청구의 소를 제기하였고(이 법원 2016가단4860), 이 법원은 2017. 8. 23. ‘주식회사 J 및 L은 연대하여 원고에게 100,000,000원 및 이에 대한 2014. 5. 17.부터 다 갚는 날까지 연 24%의 비율로 계산한 돈을 지급하라.'는 판결을 선고하였으며, 위 판결은 그 무렵 확정되었다(이하 원고의 주식회사 J에 대한 위 채권을 ‘이 사건 판결금 채권'이라 한다).\\n라. 주식회사 J는 2019. 12. 2. 상법 제520조의2 제1항에 따라 해산되었다.\", \"가. 피고는 2018. 9. 10. 대구광역시 도시철도건설본부로부터 C역 서편 출입구 건설공사(이하 ‘이 사건 공사'라 한다)를 수급하여 2018. 9. 28.부터 위 공사를 하였다. 피고는 위 공사 중 지하철 D역 1번 출입구와 서북쪽을 연결하는 지하통로 공사를 복공판을 설치하는 방식으로 진행하였다.\\n나. 원고는 별지 기재 각 택시회사와 그 택시회사의 자동차 사고로 생긴 손해를 배상하기로 하는 공제계약을 체결하였다.\\n다. 별지 기재 택시회사 소유의 별지 차량번호 기재 각 택시(이하 ‘이 사건 원고 택시'라 한다)가 승객을 태우고 2019. 8. 1.부터 2019. 11. 4.까지 사이에 이 사건 공사 구간을 주행하던 중 위 공사 구간에 설치된 복공판과 도로면 접합부 사이의 높낮이 차이로 인하여 차량 충격이 발생하였고, 그 충격으로 인하여 위 원고 택시 뒷자리 탑승객들이 척추 골절, 천추 골절, 요추 염좌, 경추 염좌 등의 상해를 입었다(이하 ‘이 사건 사고'라 한다).\\n2) 원고는 별지 기재와 같이 이 사건 사고로 인한 승객 등 피해자에게 치료비와 합의금 등으로 합계 30,533,020원을 지급하였다.\", \"피고인 B 주식회사는 철도․궤도공사업을 영위하는 전문공사업체로서 2016. 12. 30. 피고인 한국철도공사로부터 충북 D 소재 충북선 E 기점 약 25km 지점(이하 ‘본건 공사현장') 등지에서 진행되는 ‘F공사'를 도급받아 시공하였고, 피고인 A는 피고인 B 주식회사 소속의 공사 현장소장이자 안전보건관리책임자로 본건 공사현장 소속 근로자들의 안전관리를 책임지는 사람이었으며, 피고인 C은 피고인 한국철도공사 소속의 G이자 안전보건총괄책임자로 그 소속 근로자 및 수급업체 근로자들의 안전관리를 책임지는 사람이었다.\\n사업주는 궤도나 그 밖의 관련 설비의 보수․점검 작업을 하는 경우 적절한 작업인원, 작업량, 작업순서, 작업방법 및 위험요인에 대한 안전조치방법 등을 포함한 작업계획서를 작성하고 이에 따라 작업을 하도록 하여야 하고, 그 작업계획서의 내용을 해당 근로자에게 알려야 한다.\\n그리고 사업주는 열차 운행에 의한 충돌사고가 발생할 우려가 있는 궤도를 보수․점검하는 경우에 열차운행감시인을 배치하여야 하고, 열차운행감시인을 배치한 경우 위험을 즉시 알릴 수 있도록 확성기․경보기․무선통신기 등 그 작업에 적합한 신호장비를 지급하여야 하며, 열차운행 감시 중에는 감시 외의 업무에 종사하게 하여서는 아니 된다.\\n1. 피고인 A, 피고인 C의 업무상과실치사 및 산업안전보건법위반\\n피고인들은 2017. 10. 13. 10:09경 본건 공사현장에서 열차감시인인 피해자 H(62세)를 포함한 6명으로 하여금 ‘F공사'의 일환으로 철로의 노반 제초작업을 하게 하였다.\\n그런데 피고인들은 위와 같은 작업을 하게 함에 있어 열차감시인인 피해자 외에 다른 작업자들에게 개별 연락을 취할 수 있는 무전기를 지급하지 아니하였고, 피고인 A는 작업 과정에서 이동시 진행방향 전면뿐만 아니라 후면에서 다가오는 열차를 파악하는 방법이나 진행해 오는 열차를 파악한 경우 그 사실을 작업자들에게 안전하게 알려줄 수 있는 방법 등 위험요인에 대한 충분한 안전조치 방법이 기재되지 아니한 형식적인 작업계획서를 작성하였고, 그나마 그 작업계획서의 내용조차 작업자들에게 숙지시키지 아니한 채 작업을 하게 하였다.\\n피고인들은 위와 같이 공동하여 근로자의 안전을 위한 조치를 취하지 아니한 업무상 과실로, 작업 근로자들이 이동하는 선로로 운행하는 열차가 접근한다는 사실을 알게 된 피해자가 육성과 확성기로 전방에서 이동하던 근로자에게 그 사실을 알리려 하였으나 거리 간격과 작업장소의 소음 등으로 이에 실패하여 직접 작업 근로자들에게 다가가기 위하여 선로를 이동 하던 중, 그만 위와 같이 접근해오던 열차의 앞부분에 피해자의 몸통 뒤쪽 부분을 치여 피해자로 하여금 그 자리에서 사망에 이르게 하였다.\\n2. 피고인 B 주식회사의 산업안전보건법위반\\n피고인은 피고인의 사용인인 A가 제1항 기재 일시, 장소에서 위와 같이 피고인의 업무에 관하여 근로자의 안전을 위한조치를 취하지 아니하여 피해자 H로 하여금 사망에 이르게 하였다.\\n3. 피고인 한국철도공사의 산업안전보건법위반\\n피고인은 피고인의 사용인인 C이 제1항 기재 일시, 장소에서 위와 같이 피고인의 업무에 관하여 수급업체 소속 근로자의 안전을 위한 조치를 취하지 아니하였다.\", \"누구든지 접근매체를 사용 및 관리함에 있어서 다른 법률에 특별한 규정이 없는 한 대가를 수수·요구 또는 약속하면서 접근매체를 대여하는 행위를 하여서는 아니 된다.\\n그럼에도 불구하고 피고인은 2020. 6. 초순경 B은행 직원을 사칭하는 성명불상자로부터 ‘체크카드를 보내주면 입출금 거래내역을 만들어 대출을 해주겠다'는 취지의 제안을 받고, 2020. 6. 12.경 대구 서구 C에 있는 D식당 앞 노상에서 피고인 명의 E은행 계좌(계좌번호 1 생략) 및 기업은행 계좌(계좌번호 2 생략)와 연결된 체크카드 2장을 성명불상자가 보내준 퀵서비스를 통하여 건네주고, 카카오톡으로 위 계좌의 비밀번호를 알려주었다.\\n이로써 피고인은 향후 대출을 받을 수 있는 무형의 기대이익을 대가로 약속하고 성명불상자에게 접근매체를 대여하였다.\", \"2021고단4565\\n피고인은 2010. 6. 24. 대전지방법원 서산지원에서 도로교통법위반(음주운전)죄로 벌금 200만 원의 약식명령을 받고, 2011. 6. 2. 같은 법원에서 같은 죄 등으로 벌금 300만 원의 약식명령을 받았다.\\n피고인은 2021. 4. 18. 17:46경 인천광역시 서구 B 소재 ‘C' 앞 도로에서부터 인천광역시 동구 D아파트' 앞 도로까지 약 14km 구간에서 혈중알콜농도 0.180%의 술에 취한 상태로 (차량번호 1 생략) 카이런 승용차를 운전하여 음주운전금지 규정을 2회 이상 위반하였다.\\n2021고단6899\\n피고인은 2021. 9. 2. 16:40경 강원 원주시에서부터 인천 중구 E에 있는 F학교 앞까지 130km의 거리를 자동차운전면허를 발급받지 않고 (차량번호 2 생략) 트라고 트럭을 운전하였다.\", \"가. 제1차 주식매매계약의 체결\\n1) 원고와 피고는 2015. 8. 17.경 원고가 원고 및 C, D의 명의로 보유하고 있던 주식회사 E(변경 후 상호 주식회사 F, 이하 ‘이 사건 회사'라 한다)의 보통주식 30,000주 중 15,000주를 매매대금 1억 5,000만 원에 피고에게 매도하기로 하는 주식매매계약(이하 ‘이 사건 1차 주식매매계약'이라 한다)을 체결하였다.\\n2) 피고는 2015. 8. 19. 원고에게 이 사건 1차 주식매매대금 중 일부인 6,500만 원을 지급하고 2015. 8. 27. 이 사건 회사의 대표이사로 취임하면서 이 사건 회사의 상호를 주식회사 F로 변경하였으며, 같은 날 위 15,000주에 관하여 피고 명의로 명의개서절차가 이루어졌다.\\n3) 원고는 이 사건 1차 주식매매계약에 따른 잔대금 명목으로, 2015. 10. 1. 및 2015. 10. 19. 이 사건 회사의 예금 8,000만 원(이 사건 회사가 G과 체결하였던 임대차계약 해지로 2015. 9. 10.경 반환받은 임대차보증금 4,000만 원과 원고, H와 체결하였던 임대차계약 해지로 2015. 10. 15.경 반환받은 임대차보증금 4,000만 원의 합계액)을 인출하고, 2015. 11. 9. 피고로부터 10,186,653원을 지급받았다.\\n나. 제2차 주식매매계약의 체결 등\\n1) 원고와 피고는 2015. 12. 3. 원고가 보유하고 있던 이 사건 회사의 나머지 보통주 15,000주 전부를 매매대금 1억 5,000만 원에 피고에게 매도하기로 하는 주식매매계약(이하 ‘이 사건 2차 주식매매계약'이라 한다)을 체결하였으나, 이 사건 회사의 기존 채무를 정리하는 문제로 인해 위 계약에 따른 이행이 이루어지지 않았다.\\n2) 원고와 피고는 2016. 3. 10.경 이 사건 회사의 양도양수를 위하여 합의서를 작성하였는데, 그 주된 내용은 아래와 같다(이하 ‘이 사건 합의'라 한다).\\n\\n3) 이 사건 합의에 따라 원고는 2016. 3. 14. 주식양도신고 및 임원변경등기에 필요한 서류를 법무사에게 교부하였고, 이 사건 2차 주식매매계약서는 그 작성일자만 2016. 3. 11.로 수정되어 실거래신고가 되었다. 피고는 같은 날 원고에게 이 사건 2차 주식매매계약에 따른 대금 명목으로 6,700만 원을 송금하였다.\\n4) 원고는 같은 날 오후 피고가 보낸 금액이 약정한 매매대금에 미달하는 것을 확인하고 즉시 주식양도신고 및 임원변경절차의 정지를 요청하였으나 이미 주식양도신고는 마쳐진 상태였다. 이에 원고는 2016. 3. 30. 대구지방법원 2016가단107087호로 이 사건 2차 주식매매계약에 따른 대금 중 미지급금 8,300만 원의 지급을 구하는 소를 제기하였고, 위 법원은 2017. 2. 22. 피고가 원고에게 3,000만 원을 지급하라는 내용의 강제조정결정을 하였으며, 2017. 3. 18. 위 결정이 확정되었다.\\n다. 피고의 형사고소 등\\n1) 피고는 2017. 4. 18. 원고가 2015. 10.경 이 사건 1차 주식매매계약에 따른 잔대금 명목으로 이 사건 회사의 계좌에서 인출하여 간 8,000만 원에 관하여, 원고가 회사의 위 자금을 횡령하였다고 주장하면서 원고를 형사 고소하였고, 원고는 2018. 1. 31. 대구지방법원 서부지원 2018고단202호로 업무상횡령 혐의로 기소되었다.\\n2) 원고는 위 형사사건 진행 중인 2018. 12. 7. 8,000만 원을 이 사건 회사를 피공탁자로 하여 공탁하였고, 위 법원은 2019. 2. 15. 원고의 업무상횡령죄를 인정하면서 원고에게 징역 10월 및 집행유예 2년을 선고하였으며, 위 판결은 2019. 2. 23. 확정되었다.\\n3) 원고는 2019. 3. 18. 이 사건 1차 주식매매계약에 따른 미지급 대금 8,000만 원의 지급을 구하는 이 사건 소를 제기하였다.\", '피고인은 B 주식회사의 상무이사로 재직하는 사람이고, 피해자 C는 D 주식회사(이하 ‘이 사건 회사\\'라고 한다)의 대표로, 두 회사는 경쟁업체 관계이다.\\n피고인은 2020. 7. 23. 12:00경 서울 중구 E의 F에서, 사실은 피해자가 이 사건 회사 여직원들에게 오피스텔을 구해주고, 그 직원들의 휴가에 출근을 하지 않는 등 여직원들과 불륜관계에 있거나, 이로 인하여 피해자의 처가 회사로 찾아온 사실이 없었음에도 불구하고, 동종 손해보험 회사 직원들인 G, H, I에게 \"국내 D 사장이 회사 여직원 4명에게 회사 근처에 각 오피스텔을 구해주고 거기에 들락거린다. 해당 여직원들의 휴가일 때 사장이 회사에 출근하지 않는다. 사장의 부인이 회사로 찾아와서 남편이 일주 일째 집에 들어오지 않는다고 걱정을 하였다.\"고 피해자가 그 여직원들과 불륜관계에 있다는 취지로 말하였다.\\n이로써 피고인은 공연히 허위 사실을 적시하여 피해자의 명예를 훼손하였다.', '가. 원고는 망 D(이하 망인이라 한다)의 어머니이고, 피고 C은 E병원(이하 피고 병원이라 한다) 응급실 과장으로 망인의 담당의사이고, 피고 B은 피고 병원을 운영하는 사람이다.\\n나. 망인은 2018. 1. 18. 20:50경 갑작스런 흉통을 느껴 피고 병원 응급실을 방문하였다. 의료진은 같은 날 21:00경 세 차례의 심전도 검사 후 심근경색 가능성을 설명하고 혈관확장제인 니트로글리세린 설하정(舌下錠)을 투여하였고, 니트로글리세린을 투여하자 망인의 통증이 줄어들었다. 피고 C은 심근경색 가능성을 배제할 수 없다고 판단하여 21:30경 망인에게 3차 병원 전원을 권유하고 21:38경 F병원 심장내과와 통화 후 위 병원으로 전원하기로 결정하고 21:40 사설 구급차를 요청하였다. 그런데 망인이 피고 병원에서 대기하고 있던 중 21:50경 갑자기 숨을 가쁘게 쉬면서 안면부 청색증이 생기는 등 심정지가 발생했고, 의료진이 산소 공급, 기관삽관술, 심폐소생술 등 응급처치를 하였으나 결국 22:45경 사망하였다.\\n다. 망인은 급성 심근경색으로 인한 심정지로 사망하였는데 평소에 당뇨병, 고지혈증, 고혈압 등 심근경색증의 원인이 될 만한 기왕증은 확인되지 않는다.', '범죄전력\\n피고인은 2018. 4. 3. 대구지방법원 김천지원에서 특정범죄가중처벌등에관한법률위반(도주치상)죄 등으로 징역 1년을 선고받아, 2019. 4. 2. 대구교도소에서 그 형의 집행을 종료하였다.\\n범죄사실\\n1. 업무방해\\n피고인은 2019. 10. 21. 21:30경 김천시 B에 있는 피해자 C(여, 56세)가 운영하는 D에서, 술값을 계산하던 중 특별한 이유 없이 피해자 C에게 \"씨발년, 개같은 년, 좆 같은 년\"이라고 욕을 하면서 소리를 지르고, 손으로 피해자의 어깨를 밀치고 피해자를 따라다니는 등 약 20분 동안 행패를 부려 위력으로 피해자의 단란주점 영업 업무를 방해하였다.\\n2. 폭행\\n피고인은 제1항 기재 일시 및 장소에서, 다른 테이블 손님인 피해자 E에 다가가 특별한 이유 없이 \"씹할년\" 등의 욕을 하면서 손바닥으로 피해자의 오른쪽 뺨을 때려 피해자를 폭행하였다.', '피고인은 2020. 8. 11. 수원지방법원에서 사기죄 등으로 징역 1년 6월을 선고받고, 2021. 1. 26. 그 판결이 확정되었다.\\n피고인은 김포시 B, C호에 있는 D 대표로서 상시 6명의 근로자를 사용하여 도소매업을 경영하는 사용자이다.\\n사용자는 근로자가 사망 또는 퇴직한 경우에는 그 지급사유가 발생한 때부터 14일 이내에 임금, 보상금, 그 밖에 일체의 금품을 지급하여야 한다. 다만, 특별한 사정이 있을 경우에는 당사자 사이의 합의에 의하여 기일을 연장할 수 있다.\\n그럼에도 불구하고, 피고인은 고양시 덕양구 E에 있는 공사현장에서 2019. 7. 1.부터 2019. 8. 16.까지 전기공으로 근로하고 퇴직한 일용근로자 F의 2019. 7. 임금 100만 원, 2019. 8. 임금 100만 원 합계 200만 원을 당사자간 지급기일 연장에 관한 합의 없이 그 지급사유가 발생한 때부터 14일 이내에 지급하지 아니하였다.', \"가. 원고는 2017. 12. 4. C에게 경남 창녕군 D건물 제5층 E호(이하 ‘이 사건 부동산')를 임대차보증금 1억 3,500만 원, 임대기간 2017. 12. 31.부터 2019. 12. 30.까지로 정하여 임대하였다. C은 위 부동산에 주민등록을 마치지 못하였다.\\n나. 원고는 2019. 2. 1. 피고에게 이 사건 부동산을 매도하면서 매매대금을 2억 2,000만 원으로 하되, 잔금 1억 3,500만 원은 피고가 C에 대한 임대차보증금반환채무를 인수하고 그 채무액을 매매대금에서 공제하기로 약정하였다(이하 ‘이 사건 매매계약'). 그 후 원고는 2019. 2. 13. 피고에게 매매를 원인으로 하여 소유권이전등기를 마쳐 주었다.\\n다. 피고는 F에게 2019. 5. 1. 이 사건 부동산을 매도하고, 2019. 5. 27. 소유권이전등기를 마쳐 주었다.\\n라. C은 2020. 1. 8. 원고를 상대로 창원지방법원(2020가단100522호)에 임대차보증금반환을 구하는 소를 제기하였고, 위 법원은 원고가 C에게 임대차보증금 1억 3,500만 원을 지급하는 내용의 화해권고결정을 하였고, 위 결정은 2020. 10. 14. 확정되었다.\\n마. 원고는 위 화해권고결정에 따라 2020. 10. 30. C에게 1억 3,500만 원을 지급하였다.\", '『2020고단3340』\\n성명불상자는 전화금융사기단을 운영하면서 점조직 형태로 조직원들을 관리하고 자금을 회수하는 사람이다. 피고인은 위 성명불상자로부터 특정인에게서 현금을 교부받아 무통장입금을 해주거나 성명불상자에게 전달해주면 건당 30~40만 원을 지급하겠다는 제안을 받고, 위 행위가 보이스피싱 사기범행이라는 인식을 하였음에도, 높은 수익을 받을 목적으로 이를 승낙하여, 위 성명불상자와 함께 보이스피싱 사기범행을 하기로 공모하였다.\\n성명불상자는 2020. 11. 6.경 불상의 장소에서 피해자 D에게 전화하여 E은행 직원을 사칭하고 ‘기존 대출금을 변제해야 저금리 대출이 가능하다, 직원을 보낼 테니 변제하라\\'고 거짓말 한 후 피고인에게 위 피해자로부터 현금을 교부받아 무통장 송금 등의 방법으로 전달하라고 지시하고, 피고인은 위 지시에 따라 2020. 11. 6. 15:31경 경기 용인시 기흥구 F건물에 있는 ‘G\\' 식당 앞에서 피해자에게 위 성명불상자로부터 전달받은 허위 보증협약서를 교부하고 현금 1,450만 원을 받은 다음, 피고인의 몫을 제외한 나머지 금액을 성명불상자에게 전달한 것을 비롯하여 별지 범죄일람표(1) 기재와 같이 그 때부터 2020. 12. 1.경까지 10회에 걸쳐 합계 1억 7,014만 원을 교부받았다.\\n이로써 피고인은 성명불상자와 공모하여 피해자들을 기망하여 재물을 교부받았다.\\n『2021고단96』\\n성명불상자는 전화금융사기단을 운영하면서 점조직 형태로 조직원들을 관리하고 자금을 회수하는 사람이다. 피고인은 위 성명불상자로부터 특정인에게서 현금을 교부받아 무통장입금을 해주거나 성명불상자에게 전달해주면 건당 30~40만 원을 지급하겠다는 제안을 받고, 위 행위가 보이스피싱 사기범행이라는 인식을 하였음에도, 높은 수익을 받을 목적으로 이를 승낙하여, 위 성명불상자와 함께 보이스피싱 사기범행을 하기로 공모하였다.\\n성명불상자는 2020. 11. 24.경 불상의 장소에서 피해자 B에게 전화하여 E은행 직원을 사칭하고 ‘1,500만 원을 대출해 주겠다.\\'고 하고, 다시 피해자에게 전화하여 H카드 직원을 사칭하고 ‘신규대출은 기존 대출에 대한 금융거래법위반이니 대출실행을 막아놓겠다, 기존 대출금 1,050만 원을 변제하면 금융제재를 바로 풀 수 있다, I 직원 J 대리를 보낼 테니 현금으로 전달하라\\'고 거짓말한 후 피고인에게 위 피해자로부터 현금을 교부받아 무통장 송금 등의 방법으로 전달하라고 지시하고, 피고인은 위 지시에 따라 2020. 11. 30. 15:01경 서울 광진구 K에 있던 피해자의 차량 안에서 피해자에게 ‘J대리\\'라고 거짓말하고 피해자 앞에서 위 성명불상자와 전화통화를 하면서 마치 금융사 직원인 것처럼 행세하여 피해자로부터 1,050만 원을 교부받은 다음, 피고인의 몫 30만 원을 제외한 나머지 1,020만 원을 성명불상자에게 무통장 송금하여 전달하였다.\\n이로써 피고인은 성명불상자와 공모하여 피해자를 기망하여 재물을 교부받았다.\\n『2021고단425』\\n성명불상자는 전화금융사기단을 운영하면서 점조직 형태로 조직원들을 관리하고 자금을 회수하는 사람이다. 피고인은 위 성명불상자로부터 특정인에게서 현금을 교부받아 무통장입금을 해주거나 성명불상자에게 전달해주면 건당 30~40만 원을 지급하겠다는 제안을 받고, 위 행위가 보이스피싱 사기범행이라는 인식을 하였음에도, 높은 수익을 받을 목적으로 이를 승낙하여, 위 성명불상자와 함께 보이스피싱 사기범행을 하기로 공모하였다.\\n성명불상자는 2020. 12. 1.경 불상의 장소에서 피해자 L에게 전화하여 M은행 직원을 사칭하고 ‘저금리로 대출해 주겠다.\\'고 하고, 다시 피해자에게 전화하여 N 직원을 사칭하고 ‘금융업법위반을 해서 기존 대출금 1,411만 원을 당장 상환하지 않으면 불이익을 받을 수 있다. 직원을 보낼 테니 전달하라.\\'고 거짓말한 후 피고인에게 위 피해자로부터 현금을 교부받아 무통장 송금 등의 방법으로 전달하라고 지시하고, 피고인은 위 지시에 따라 2020. 12. 2. 14:40경 서울 성북구 O에 있는 피해자가 운영하는 공장 앞 도로에서 피해자로부터 현금 1,411만 원을 교부받은 다음, 피고인의 몫을 제외한 나머지 금액을 성명불상자에게 전달하였다.\\n이로써 피고인은 성명불상자와 공모하여 피해자를 기망하여 재물을 교부받았다.\\n『2021고단751』\\n기초사실\\n전기통신금융사기(속칭 ‘보이스피싱\\') 조직의 총책인 성명불상자는 기망책, 관리책, 현금수금책 등 여러 단계를 조직하고, 기망책에 속하는 성명불상의 조직원들은 불특정 다수의 피해자들에게 무작위로 전화를 걸어 금융기관 등을 사칭하면서 ‘기존 대출금을 상환하면 저금리로 대출을 해 주겠다.\\'는 등의 거짓말을 하여 이에 속은 피해자들로 하여금 피해금을 계좌로 이체하거나 성명불상의 조직원에게 전달하게 하고, 관리책에 속하는 성명불상의 조직원들은 현금수금책 및 현금인출책을 모집한 후, 현금인출책에게는 계좌로 입금된 피해금을 인출하여 현금수금책에게 건네주게 하고, 현금수금책에게는 피해자로부터 직접 현금을 수거하거나, 현금인출책으로부터 건네받은 현금을 지정한 계좌로 송금하도록 지시하는 등의 방법으로 범행을 하고 있다.\\n범죄사실\\n피고인은 2020. 11. 초순경 ‘P\\' 사이트를 통해 알게 된 성명불상자로부터 ‘\"사모님대출 상환 아르바이트\"이다. 현금을 교부받아 지시하는 계좌로 송금해 주면 건 당 30만 원의 수당을 주겠다.\\'는 내용의 제안을 받고, 위 행위가 보이스피싱 등 불법적인 일임을 알면서도 위 성명불상자로부터 카카오톡 및 딩톡 어플리케이션을 이용하여 구체적인 지시를 받아 현금수금책 역할을 하기로 마음먹었다.\\n1. 사문서위조, 위조사문서행사\\n피고인은 2020. 11. 초순경 ‘Q\\'라고 자신을 소개하는 성명불상의 보이스피싱 조직원으로부터 ‘PC방에서 대기하다가 메일로 보내 준 파일을 출력하여 피해자에게 전달하고 현금을 교부받으면 된다.\\'는 내용의 지시를 받고, 같은 달 13.경 인천시 부평구 동암광장로에 있는 동암역 근처 상호불상의 PC방에서, 피고인의 이메일(이메일 1 생략)로 송부 받은 R주식회사 명의의 강제 완납 증명서 파일을 컬러 프린터기를 이용하여 출력하였다.\\n계속하여 피고인은 같은 날 14:10경 서울 강남구 S 노상에서, 성명불상의 보이스피싱 조직원들에게 기망당하여 자신의 계좌에서 현금을 인출한 후 피고인에게 전달하기 위해 나온 T에게 위와 같이 위조한 강제 완납 증명서 1장을 마치 진정하게 작성된 문서인 것처럼 교부하였다.\\n이로써 피고인은 성명불상의 보이스피싱 조직원과 공모하여, 행사할 목적으로 권한 없이 사문서인 R주식회사 명의의 강제 완납 증명서 1장을 위조하고, 그 정을 모르는 T에게 교부하여 이를 행사하였다.\\n2. 사기\\n보이스피싱 조직원인 성명불상자는 2020. 11. 초순경 알 수 없는 장소에서, 피해자 T에게 전화하여 ‘E은행 U 대리이다. 기존 대출을 상환하면 저금리 대출이 가능하니, 우리가 보내는 직원에게 직접 현금을 전달하여 대출금을 상환하라.\\'는 취지로 거짓말하였다.\\n성명불상자는 위와 같이 피해자를 기망하여 이에 속은 피해자로 하여금 2020. 11. 13. 14:10경 서울 강남구 S 앞 노상으로 현금 2,500만 원을 가지고 오도록 하고, 피고인은 피해자를 만나 위 1항 기재와 같이 위조한 사문서인 R주식회사 명의의 강제 완납 증명서 1장을 진정하게 작성된 문서인 것처럼 교부한 후 피해자로부터 현금 2,500만 원을 교부받았다.\\n이로써 피고인은 성명불상자와 공모하여 피해자 T로부터 2,500만 원을 편취한 것을 비롯하여, 그 무렵부터 2020. 12. 2.경까지 총 9회에 걸쳐 별지 범죄일람표(2) 기재와 같이 4명의 피해자들로부터 합계 1억 6,313만 원을 편취하였다.', '가. 피고는 자동차부품 제조업을 영위하는 회사이고, 원고는 피고의 직원으로 근무하였던 사람이다.\\n나. 원고는 2014. 7. 24.부터 2020. 5. 30.까지 피고의 영업사원으로 근무하다가 2020. 5. 31. 퇴직하였는데, 피고는 원고에게 그 무렵까지의 임금 중 합계 12,321,080원 및 퇴직금 17,379,496원을 원고의 퇴직일로부터 14일 이내에 지급하지 아니하였다. 다. 피고의 대표자 C은 원고에게 위 임금 및 퇴직금을 지급기일 연장에 관한 합의 없이 퇴직일로부터 14일 이내에 지급하지 아니하였다는 범죄사실로 기소되어 2021. 8. 25. 대구지방법원 김천지원 2020고정344호로 벌금 600만 원의 유죄판결을 받았고, 위 판결은 2021. 9. 2. 확정되었다.', \"가. 별지 목록 각 부동산에 대한 D의 소유권 취득 과정 등\\n1) 주식회사 E(이하 ‘E'이라 한다)은 2015. 7. 31. 별지 목록 가의 (1)항 기재 토지(이하 ‘이 사건 1 토지'라 한다) 및 별지 목록 나.의 (1), (2)항 기재 각 토지(이하 ‘이 사건 2 토지'라 하고, 이 사건 1, 2 토지를 통칭하여 ‘이 사건 각 토지'라 한다)에 관한 소유권이전등기를 마쳤다.\\n2) E의 대표자(사내이사)인 D는 2015. 9. 16. 이 사건 1 토지에 별지 목록 가의 (2)항 기재 건물(이하 ‘이 사건 1 건물'이라 하고, 이 사건 1 토지와 건물을 통칭하여 ‘이 사건 1 부동산'이라 한다)을, 이 사건 2 토지에 별지 목록 나의 (3)항 기재 건물(이하 ‘이 사건 2 건물'이라 하고, 이 사건 2 토지와 건물을 통칭하여 ‘이 사건 2 부동산'이라 하며, 이 사건 1, 2 건물을 통칭하여 ‘이 사건 각 건물'이라 하고, 이 사건 1, 2 부동산을 통칭하여 ‘이 사건 각 부동산'이라 한다)을 각 신축하는 공사에 관한 건축허가를 받고, 2017. 5. 16. 착공하였다.\\n3) D는 2017. 10. 24. 이 사건 각 토지에 관하여 각 2017. 9. 14. 매매를 원인으로 한 소유권이전등기를 마쳤다.\\n4) F는 2018. 1. 5. 춘천지방법원 원주지원 2017카단676호로 이 사건 각 건물에 관한 가처분 결정을 받았고, 가처분 등기의 촉탁으로 인하여 2018. 1. 5. 이 사건 각 건물에 대하여 E 명의로 소유권보존등기가 이루어졌다.\\n5) D는 2018. 3. 29. 이 사건 각 건물에 관하여 각 2018. 3. 13. 매매를 원인으로 한 소유권이전등기를 마쳤고, 2018. 12. 14. 이 사건 각 건물의 사용승인을 받았다.\\n나. 이 사건 각 부동산에 대한 경매사건 진행경과\\n1) G조합는 2019. 4. 10. 이 사건 1 부동산에 관하여 채권최고액을 4억 6,000만 원으로 하는 근저당권설정등기를, 이 사건 2 부동산에 관하여 채권최고액을 3억 8,000만 원으로 하는 근저당권설정등기를 각 마쳤다.\\n2) G조합는 2019. 12.경 춘천지방법원 원주지원 H로 이 사건 각 부동산에 대한 부동산임의경매를 신청하였고, 춘천지방법원 원주지원은 2019. 12. 23. 임의경매개시결정을 하였으며, 같은 날 이 사건 각 부동산에는 임의경매개시결정등기가 마쳐졌다(이하 위 임의경매개시결정에 따른 경매절차를 ‘이 사건 경매절차'라 한다).\\n3) 피고는 이 사건 경매절차가 진행중이던 2020. 2. 19. 춘천지방법원 원주지원에 ‘피고는 D와 공사금액을 2,031,000,000원으로, 공사기간을 2018. 12. 30.까지로 각 정하여 이 사건 각 건물에 관한 공사도급계약을 체결한 후 공사를 완공하여 D에게 인도하였으나, 공사대금 879,000,000원을 지급받지 못하였다. 따라서 피고는 이 사건 각 건물을 적법하게 점유할 수 있는 유치권자이므로 유치권에 의한 권리신고를 한다'는 내용의 유치권에 의한 권리신고서를 제출하였다.\\n4) 원고 A은 2021. 1. 22. 이 사건 경매절차에서 이 사건 1 부동산을 매수한 후 소유권이전등기를 마쳤고, 원고 B은 같은 날 이 사건 경매절차에서 이 사건 2 부동산을 매수한 후 소유권이전등기를 마쳤다.\", \"『2021고합440』\\n피고인은 마약류 취급자가 아님에도 불구하고, 아래와 같이 대마를 취급하였다.\\n1. 대마 매매\\n피고인은 2020. 11. 27.경 텔레그램을 통해 성명불상의 대마 판매책에게 대마를 주문하고, 위 판매책이 사용하는 B 명의의 C은행 계좌(계좌번호 1 생략)로 328,100원을 이체한 다음, 같은 달 29.경 서울 강남구에 있는 다세대 주택 우편함에서, 위 판매책이 숨겨놓은 액상대마 2개를 취거하였다.\\n이로써 피고인은 대마를 매매하였다.\\n2. 대마 흡연\\n피고인은 2020. 12. 초순경 수원시 권선구에 있는 공원에서 액상대마 불상량이 들어 있는 카트리지를 전자담배에 넣은 후 그 연기를 흡입하였다.\\n이로써 피고인은 대마를 흡연하였다.\\n3. 대마 매매 미수\\n피고인은 2020. 11. 2.경 텔레그램을 통해 성명불상의 대마 판매책에게 대마를 주문하고, 제1항 기재 계좌로 436,000원을 이체한 다음, 그 무렵 위 판매책으로부터 전송받은 서울 강남구에 있는 주택에 이르렀으나, 대마를 찾지 못하였다.\\n이로써 피고인은 대마를 매매하려고 하였으나 그 뜻을 이루지 못하고 미수에 그쳤다.\\n『2021고합468』\\n피고인은 마약류 취급자가 아님에도 불구하고, 아래와 같이 대마를 취급하였다.\\n피고인은 2020. 4. 3.경 텔레그램을 통해 성명불상의 대마 판매책(닉네임 ‘D')에게 대마를 주문하고 ‘E'를 이용해 위 판매책이 사용하는 비트코인 지갑 주소(F)로 0.18325비트코인(원화 약 1,500,000원)을 전송한 다음, 같은 달 4.경 서울 동작구에 있는 빌라 우편함에서 위 판매책이 숨겨놓은 액상 대마 1개를 취거하였다.\\n이로써 피고인은 대마를 매매하였다.\\n『2021고합519』\\n피고인은 마약류 취급자가 아님에도 불구하고, 아래와 같이 대마를 취급하였다.\\n1. 대마 매매\\n가. 피고인은 2020. 10. 10.경 텔레그램을 통해 성명불상의 대마 판매책(닉네임 ‘G')에게 액상대마 1개를 주문하고, H를 통해 매매대금 288,100원을 위 판매책에게 이체한 다음, 같은 달 11.경 서울 강남구 주택가 배수구 파이프 밑에서 위 판매책이 숨겨놓은 액상대마 1개를 취거하였다.\\n나. 피고인은 2020. 10. 15.경 텔레그램을 통해 위 ‘G'에게 액상대마 1개를 주문하고, H를 통해 매매대금 278,100원을 위 판매책에게 이체한 다음, 서울 강남구 주택가 소화 전 안에서 위 판매책이 숨겨놓은 액상대마 1개를 취거하였다.\\n이로써 피고인은 2회에 걸쳐 대마를 매매하였다.\\n2. 대마 매매 미수\\n가. 피고인은 2020. 10. 1.경 텔레그램을 통해 성명불상의 대마 판매책(닉네임 ‘I')에게 액상대마 2개를 주문하고, H를 통해 매매대금 288,100원을 위 판매책에게 이체한 다음, 위 판매책으로부터 전송받은 서울 강남구에서 액상대마 2개를 취거하려고 하였으나, 위 대마를 찾지 못하였다.\\n나. 피고인은 2020. 10. 3.경 텔레그램을 통해 성명불상의 대마 판매책에게 액상대마 2개를 주문하고, H를 통해 매매대금 474,400원을 위 판매책에게 이체하였으나, 판매자와 연락이 끊겨 액상 대마를 취거하지 못하였다.\\n다. 피고인은 2020. 10. 5.경 텔레그램을 통해 성명불상의 대마 판매책에게 액상대마 2개를 주문하고 H를 통해 매매대금 446,000원을 위 판매책에게 이체하였으나, 판매자와 연락이 끊겨 위 대마를 찾지 못하였다.\\n이로써 피고인은 3회에 걸쳐 대마를 매매하려고 하였으나, 그 뜻을 이루지 못하고 미수에 그쳤다.\\n3. 대마 흡연\\n가. 피고인은 2020. 10. 12.경 수원시 권선구 J, 인근 공원에서 액상 대마 카트리지를 전자담배에 넣은 후 그 연기를 흡입하였다.\\n나. 피고인은 2020. 10. 17.경 위 공원에서 위와 같은 방법으로 전자담배를 이용해 대마 연기를 흡입하였다.\\n이로써 피고인은 2회에 걸쳐 대마를 흡연하였다.\", \"누구든지 전기통신사업자가 제공하는 전기통신역무를 이용하여 타인의 통신을 매개하거나 이를 타인의 통신용으로 제공하여서는 아니 된다.\\n그럼에도 불구하고 피고인은 2021. 1. 22. 10:00경 남양주시 B에 있는 피고인의 집에서 성명불상자로부터 ‘이동전화를 개설하여 보내주면 1대당 10만 원을 주겠다'는 제의를 받고 전화개통에 필요한 개통 동의서와 신분증 등을 촬영하여 카카오톡 메신져를 통해 전달하였고, 그로 하여금 피고인의 명의로 (전화번호 1 생략) 회선을 개통하도록 하여 전기통신사업자가 제공하는 전기통신역무를 타인의 통신용으로 제공하였다.\\n계속하여 피고인은 2021. 1. 26.경 15:00경 위와 같은 방법으로 성명불상자로 하여금 피고인의 명의로 (전화번호 2 생략), (전화번호 3 생략), (전화번호 4 생략), (전화번호 5 생략)의 4개 회선을 개통하도록 하여 전기통신사업자가 제공하는 전기통신역무를 타인의 통신용으로 제공하였다.\", \"가. 원고는 2016. 8.경 피고가 운영하는 C성형외과의원(이하 ‘피고병원'이라 함)에서 상담을 받고, 2016. 11. 8. 피고로부터 유방축소수술(이하 ‘이 사건 수술'이라 한다)을 받았다.\\n나. 원고는 염증에 의한 분비물, 통증을 호소해 왔고, 피고로부터 염증에 대한 약물 및 드레싱처방 등을 받다가, 2016. 12. 8.경 피고로부터 재수술을 받았다.\\n다. 위 수술 이후 원고에게 양측 유방의 흉터 및 구축 반흔, 좌측 유두의 결손, 부분적 유방의 결절, 부분적 육아종이 발생하였고, 이는 현재까지 남아있다.\\n라. 관련 의학지식\\n1) 유방축소수술은 유방의 크기를 줄이는 수술로 유방피부와 유방실질의 적절한 절제와 재배치로 원하는 크기의 유방을 만드는 수술이다.\\n2) 수술 절개 부위에서의 괴사는 과도한 견인이나 기타 원인에 의하여 조직에 외상을 동반한 혈액순환장애가 생길 때 발생할 수 있고, 조직을 견인하는 강도와 시간, 조직의 상태 등 여러 가지 복합요인에 의해 괴사 여부가 결정되게 된다.\\n3) 유두유륜복합체(NAC)는 속가슴동맥(internal mammary artery)에서 나오는 5-7갈비 사이동맥의 내측 관통가지와 피하(subcutaneous)의 진피하정맥얼기(subdermalplexus)에서 혈액공급을 받게 된다. 이러한 해부학적인 지식을 바탕으로 현재 많은 수술방법이 발전되어 왔으며 적절한 혈액공급이 이루어지면 유두유륜복합체의 전체괴사는 잘 생기지 않는다. 속가슴동맥(internal mammary artery)에서 나오는 관통가지는 일정한 깊이에 위치를 하게 되고, 박리나 절제시 이를 우회하거나 보존하면서 유방실질조직을 조작해야 한다.\", '피해자 B(여, 56세)는 피고인과 이혼한 피고인의 전 배우자이다.\\n1. 2019. 8. 20. 폭행\\n피고인은 2019. 8. 20. 21:00경 오산시에 있는 불상의 도로에서, 만취 상태에서 피해자가 운전하는 승용차의 조수석에 탑승하여 갑자기 욕설을 하며 주먹으로 피해자의 머리 부위를 수회 때렸다.\\n2. 2019. 9. 9. 폭행\\n피고인은 2019. 9. 9. 21:00경 오산시 C, 2층에서 피해자가 피고인의 폭력적인 행동에 대해 사과를 받기 위해 잠을 자고 있던 피고인에게 대화를 요구하자 \"할 이야기가 없다\"고 말하며 오른쪽 발로 피해자의 어깨 부위를 2회 밀쳤다.', \"가. 피고 주식회사 E, 주식회사 H, 주식회사 I에 대하여\\n다음 각 사실은 원고와 위 피고들 사이에 다툼이 없거나, 갑3 내지 18, 20 내지 24, 26 내지 31, 33 내지 38, 47 내지 50, 58을가1 내지 12, 20, 을다1 내지 8, 을라1의 각 기재에 변론 전체의 취지를 종합하여 이를 인정할 수 있다.\\n1) 원고의 지위\\n가) 원고는 1978.경부터 ‘J'라는 제목의 곡(아래에서는 이 사건 원곡이라 한다)을 작곡하여 자신의 습작노트에 이를 기재하여 놓고, 자신의 중학교 동창인 K 등과 음악그룹을 이루어 이 사건 원곡을 연주하였는데, K, L, M, N, O은 1980. 초경 ‘P'라는 이름의 음악그룹을 결성하여 구 Q이 개최하는 ‘R'에 참가하기로 하고 참가곡을 원고가 작곡한 이 사건 원곡으로 정하였으나, 이 사건 원곡의 가사와 곡이 전반적으로 무겁고 의미전달이 불확실하다는 생각으로 평소 알고 지내온 선배인 S에게 가요제 참가곡으로 적당하게 이 사건 원곡을 편곡하여 줄 것을 의뢰하였고, S는 이를 받아들여 가사를 자신이 적어두었던 가사로 바꾸면서 곡의 전반부에는 원고가 작곡한 곡을 그대로 두고 후반부에는 후렴부를 추가하여 ‘T'이라는 제목의 음악저작물(아래에서는 이 사건 제1 저작물이라 한다)을 편곡하여 이를 위 K에게 제공하였는데 이 사건 제1 저작물은 가락(melody), 화성(harmony), 박자(rhythm)의 관점에서 이 사건 원곡과 실질적으로 동일한 곡으로 원고는 이 사건 제1 저작물의 작곡 부분에 관한 저작권자이다.\\n나) 원고는 ‘U'라는 제목의 음악저작물(아래에서는 이 사건 제2 저작물이라 한다), ‘V'라는 제목의 음악저작물(아래에서는 이 사건 제3 저작물이라 한다)를 작사, 작곡한 저작권자이자, 이 사건 제3 저작물을 가창한 실연권자(이 사건 제3 저작물은 원고가 가창한 것과 가수 W이 가창한 것이 각각 존재하는데, 원고가 가창한 것은 ‘X'에, W이 가창한 것은 ‘Y'에 각 수록되었다)이다.\\n다) 원고는 2000. 8. 31.경 사단법인 Z(아래에서는 Z라고 한다)와 제1 내지 3 저작물에 관한 저작권신탁계약을 체결하였다가, 2004. 4. 6.경 위 저작권신탁계약의 해지를 통지하였다.\\n2) 피고들의 음악서비스 등의 제공\\n가) 피고 주식회사 E\\nⅰ) 피고 주식회사 E(상호가 2009. 3. 2.경 주식회사 F에서 주식회사 E로 변경되었다, 아래에서는 피고 E라고 한다)는 주식회사 AA가 운영하는 인터넷커뮤니티사이트 ‘AB(인터넷주소 1 생략)'을 2003. 11.경부터, 인터넷음악서비스사이트 ‘AC(인터넷주소 2 생략)'을 2004. 8.경부터 각 관리하였는데, 2005. 5. 23.경 주식회사 AA로부터 원고의 이 사건 제1 저작물에 관한 저작권침해중지요청 사실을 통보받고 그 무렵 자신이 관리하던 위 ‘AC'에서 이 사건 제1 저작물에 대한 음원서비스 공급을 중단한 바 있다.\\nⅱ) 피고 E는 주식회사 AA와 영업양수도계약을 체결하고 2005. 9.경 위 ‘AC'을 양수하여 직접 운영하였는데, 2005. 12.경 주식회사 AD와의 음원공급계약을 통하여 이 사건 제1 저작물이 포함된 음원 파일 일체를 공급받아 ‘AC'의 음원 서비스에 제공하였고, 그 후 음반제작자인 주식회사 AE로부터 이 사건 제2, 3 저작물(이 사건 제3 저작물 중 앞서 본 W이 가창한 것으로 피고 E에 관하여는 이하 같다)을 공급받아 ‘AC'의 음원 서비스에 제공하였다.\\nⅲ) 피고 E는 원고의 허락을 받지 않은 상태에서 원고의 성명을 표시하지 않고, ① 피고 E가 운영하는 ‘AC'에서 2005. 12. 14.경부터 이 사건 제1 저작물에 관하여 유료음악듣기, 미리듣기, 엠피쓰리(MP3)파일 판매(CD복제 서비스를 포함한다, 피고 E에 관하여는 이하 같다), 악보제공, 뮤직비디오, 가사보기(가사보기의 경우 작곡자를 ‘S'로 표시하였다) 서비스를 제공하였고, ② 역시 ‘AC'에서 2007. 2. 5.경부터 이 사건 제2, 3저작물에 관하여 유료음악듣기, 미리듣기, 엠피쓰리파일 판매, 음악듣기링크, 가사보기서비스를 제공하였고, ③ 주식회사 AA가 운영하는 위 ‘AB'에서 2007. 2. 23.경부터 이 사건 제2, 3 저작물에 관하여 배경음악, 미리듣기 서비스를 제공하였고, ④ 인터넷포털 사이트 ‘AF(인터넷주소 3 생략)'를 통하여 2007. 2. 5.경부터 이 사건 제2, 3 저작물에 관한 미리듣기, 가사보기 서비스를 제공하였다(원고는 피고 E가 이 사건 제2, 3 저작물에 관하여 2006. 8. 18.경부터 위 서비스들을 제공하였다고 주장하나 이를 인정할 증거가 없다).\\n나) 피고 주식회사 H\\nⅰ) 피고 주식회사 H(아래에서는 피고 H이라 한다)은 2006. 4. 1.경 피고 주식회사 G(아래에서는 피고 G이라 한다)과 사이에, 피고 G으로부터 공급받은 음악컨텐츠를 피고 H이 운영하는 인터넷포탈사이트인 ‘AG(인터넷주소 4 생략)'을 통하여 이용자들에게 제공하고 피고 G으로부터 일정한 수수료를 받는 서비스 제휴 계약을 체결하였다.\\nⅱ) 피고 H은 원고의 허락을 받지 않은 상태에서 원고의 성명을 표시하지 않고, 피고 H이 운영하는 사이트 ‘AG' 중 ① 음악 서비스를 제공하는 ‘AH'에서 2006. 2.경부터 이 사건 제1, 3 저작물(이 사건 제3 저작물 중 원고가 직접 가창한 것으로 피고 G, H에 관하여는 이하 같다)에 관하여 유료음악듣기, 미리듣기, 엠피쓰리파일 판매, 통화연결음 서비스를 제공하였고, ② 아이템판매 서비스를 제공하는 'AI‘에서 2006. 2.경부터 이 사건 제1, 3 저작물에 관하여 배경음악, 미리듣기 서비스를 제공하였으며, ③ 인터넷커뮤니티 사이트인 'AB‘을 통하여 이 사건 제1, 3 저작물에 관하여 엠피쓰리파일 판매, 배경음악 서비스를 제공하였다.\\n이에 대하여 원고는 피고 H이 운영하는, ① 위 'AH‘에서 2004. 12. 14.경부터, 'AI‘에서 2004. 9. 2.경부터 위 각 서비스를 제공하였다고 주장하나 이를 인정할 증거가 없고, ② 위 'AG‘ 사이트 중 쇼핑 서비스를 제공하는 'AJ‘에서 2005. 8. 2.경부터 2008. 2. 9.경까지 이 사건 제1 저작물에 관하여 통화연결음, 미리듣기 서비스를 제공하였다고 주장하나, 을다3의 기재에 변론 전체의 취지를 종합하면 피고 H은 2006. 4. 30.경 피고 H과 주식회사 AJ(변경 전 상호 주식회사 AK)으로 분할된 사실을 인정할 수 있고, 갑21의 4, 갑24의 9의 각 기재에 의하면 이 사건 제1 저작물에 관하여 'AJ‘에서 2007. 2. 11.경에 미리듣기 서비스, 2008. 2. 9.경 통화연결음 서비스를 각 제공한 사실을 인정할 수 있을 뿐, 원고가 주장하는 2005. 8. 2.경부터 피고 H이 분할된 2006. 4. 30.경까지 피고 H 운영의 'AJ‘에서 위 서비스가 제공되었다는 사실을 인정할 증거가 없으므로, 원고의 'AJ‘에 관한 위 주장은 이유 없다(원고는 피고 H과 위 분할된 주식회사 AJ이 서로 무관한 회사가 아니라고 주장하나, 갑36, 을다3의 각 기재만으로는 이를 인정하기 부족하고 달리 인정할 증거가 없다).\\n다) 피고 주식회사 I\\n피고 주식회사 I(아래에서는 피고 I이라 한다)은 원고의 허락을 받지 않은 상태에서 이 사건 제1 저작물의 작곡가를 원고가 아닌 ‘S'로 표시한 채 ① 2005. 11. 30.경부터 이 사건 제1 저작물을 미디(midi Sequencing) 형식으로 재편곡한 노래반주곡을 피고가 제작한 마이크형 노래반주기 및 노래칩에 수록하여 판매하였고, ② 2005. 11. 30.경부터 이 사건 제1 저작물에 관하여 피고 I이 운영하는 인터넷서비스사이트인 ‘AL(인터넷주소 5 생략)'에서 노래반주곡파일 다운로드, 노래목록 다운로드, 가사보기 서비스를 제공하였다(원고는 피고 I이 2004. 2. 6.경 이전부터 이 사건 제1 저작물이 포함된 마이크형 노래반주기 및 노래칩을 판매하였다고 주장하나 이를 인정할 증거가 없다).\\n3) 원고의 저작권 침해 중지 요청\\n원고는 ① 피고 E에게 2006. 2. 20.경 이 사건 제1 저작물에 관한 저작권침해 중지를, 2007. 3. 19.경 이 사건 제2, 3 저작물에 관한 저작권침해 중지를 각 요청하였고, ② 피고 H에게 2007. 3. 19.경 이 사건 제1, 3 저작물에 관한 저작권침해 중지를 요청하였으며, ③ 피고 I에게 2007. 3. 14.경 이 사건 제1 저작물에 관한 저작권침해 중지를 요청하였다.\\n4) 피고들의 서비스 제공 중지 등\\n가) 피고 E\\nⅰ) 피고 E는 2006. 2. 21.경 원고의 저작권침해 중지 요청을 받고 그 무렵 ‘AC'에서 이 사건 제1 저작물에 관한 서비스제공을 중단하였고, 2007. 3. 19.경 원고의 이 사건 제2, 3 저작물에 관한 저작권침해 중지 요청을 받고 2007. 5. 22.경 ‘AC'에서 이 사건 제2, 3 저작물에 관한 서비스제공을 중단하였다.\\nⅱ) 다만, 위 서비스제공 중단 전에 이용자들이 일정한 이용료를 지급하고 구입한 엠피쓰리파일, 악보 등은 이용자의 보관함에 보관된 상태에서 필요한 경우 구입한 이용자에 한하여 다시 다운로드 받는 것이 가능한 상태였다.\\nⅲ) 이에 관하여 원고는 피고 E가 원고의 침해 중지 요청을 받은 이후에도 2006. 3. 3경까지 ‘AC'에서 이 사건 제1 저작물의 유료음악듣기, 미리듣기, 엠피쓰리파일 판매, 악보제공, 뮤직비디오 서비스를 제공하였다고 주장하나, 이에 부합하는 듯한 ① 갑13의 1, 2, 갑34의 2 내지 4의 각 기재는 원고가 피고 E의 위 서비스제공 중단 전에 이미 구입한 이 사건 제1 저작물의 엠피쓰리파일, 악보를 다시 다운로드 받거나 인쇄하는 것이어서(웹페이지의 화면상 ‘마이페이지'의 ‘내 구매함' 또는 ‘나의 보관함'에 이 사건 제1 저작물에 관한 엠피쓰리파일 또는 악보파일이 보관되어 있음을 알 수 있다), ② 갑13의 3의 기재는 웹페이지상 이 사건 제1 저작물이 비활성화되어 있는 것으로 보이고(곡 검색 결과 중 이 사건 제1 저작물과 달리 ‘AM'은 활성화되어 있는 것으로 보인다), 갑13의 4의 기재와 비교하면 모두 ‘AC', ‘AN'을 포함하여 다섯 개의 웹페이지가 열려진 상태로 동일하지만, 갑13의 3의 기재에 의하면 ‘AN' 사이트의 시간과 컴퓨터상의 시간의 차이가 14분에 불과하나, 갑13의 4의 기재에 의하면 ‘AN' 사이트의 시간과 컴퓨터상의 시간은 1시간 9분 상당의 차이가 있어(갑13의 3의 뮤직비디오 화면이 2006. 3. 3.경의 ‘AC' 사이트에서 실행된 것이 아닐 가능성도 배제할 수는 없다) 각 원고의 위 주장에 대한 증거로 쓸 수 없고, 달리 원고의 위 주장사실을 인정할 증거가 없다.\\nⅳ) 또한, 원고는 피고 E가 이 사건 제2, 3 저작물에 관하여 2007. 8. 15.경까지 ‘AC', ‘AF'에서 이 사건 제2, 3 저작물에 관하여 엠피쓰리파일 판매 또는 가사보기 서비스를 제공하였다고 주장하나, ① 이에 부합하는 듯한 갑16의 3 내지 5의 각 기재는 피고 E의 서비스제공 중단 전에 원고가 이미 구입한 이 사건 제2, 3 저작물의 엠피쓰리파일을 다시 다운로드 받거나 컴팩트 디스크(CD)로 변환하는 것이어서(웹페이지의 화면상 ‘마이페이지' 중 ‘MP3 보관함>구매한 MP3'에 이 사건 제2, 3 저작물에 관한 엠피쓰리파일이 보관되어 있음을 알 수 있다), ② 이에 부합하는 듯한 갑16의 8, 9의 각 기재는 화면상 이 사건 제2, 3 저작물이 비활성화되어 있는 것으로 보이고, 반면 검색된 W의 앨범 중 이 사건 제2, 3 저작물과 달리 'AO‘, 'AP‘ 등은 모두 활성화되어 있는 것으로 보이므로(갑16의 8, 9 기재의 가사보기 화면이 2007. 8. 15.경의 ‘AC' 사이트에서 실행된 것이 아닐 가능성도 배제할 수 없다) 각 원고의 위 주장에 대한 증거로 쓸 수 없고, ③ ‘AF'에서 2007. 8. 15.경 이 사건 제2, 3 저작물의 가사보기 서비스가 제공된다는 취지의 갑18의 3, 4의 각 기재만으로는 원고의 위 주장사실을 인정하기에 부족하며갑18의 1, 2의 각 기재와 비교하면, ‘AF'와 피고 E 운영의 'AC‘과의 연관성이 나타나지 않고, 웹페이지의 주소도 'AF‘의 서버((인터넷주소 6 생략), 이하 생략)인 것으로 나타난다, 달리 이를 인정할 증거가 없다.\\n나) 피고 H\\nⅰ) 피고 H은 2007. 3. 19.경 원고의 저작권침해 중지 요청을 받고 2007. 3.말경부터 자신이 운영하는 사이트 ‘AG'의 ‘AH', ‘AI'에서 이 사건 제1, 3 저작물에 관한 위 서비스제공을 중단하였으나, 피고 E와 마찬가지로 피고 H의 경우에도 위 서비스제공 중단 전에 이용자들이 일정한 이용료를 지급하고 구입한 엠피쓰리파일 등은 이용자의 보관함에 보관된 상태에서 필요한 경우 구입한 이용자에 한하여 다시 다운로드 받는 것이 가능한 상태였다.\\nⅱ) 원고는 피고 H이 ‘AH'에서 2008. 2. 9.경까지 미리듣기, 엠피쓰리파일 판매, 통화연결음 서비스를, 2009. 7. 현재까지 엠피쓰리파일 판매 서비스를, ‘AI'에서 2008. 1. 22.경까지 배경음악, 미리듣기 서비스를, 2009. 3. 20.경까지 배경음악 서비스를 각 제공하였다고 주장하나, ① 이에 부합하는 듯한 갑24의 3, 49의 2, 3의 각 기재는 원고가 피고 H의 서비스제공 중단 전인 2007. 2. 17.경, 2007. 2. 19.경 각 구매하여 자신의 컴퓨터에 보관한 이 사건 제1, 3 저작물의 엠피쓰리파일을 2008. 2. 9.경, 2009. 3. 20.경 각 재생한 것에 불과하므로(‘AH'의 웹페이지 화면 하단에 이 사건 제1, 3 저작물이 구매되어 있음을 알 수 있다) 원고의 위 주장에 대한 증거로 쓸 수 없고, ② 이에 부합하는 듯한 갑24의 2, 4의 기재에 의하면 ‘AH'에서 2008. 2. 9.경 가수 AQ이 가창한 1개의 이 사건 제1 저작물에 관한 통화연결음 서비스가 활성화된 것으로 보이나(이 역시 미리듣기, 엠피쓰리파일 다운로드 등의 서비스는 비활성화되어 있다), 이 사건 제1 저작물에 대한 검색 결과(13개, 가창자는 P, AQ, AR, AS 등 다양하다)의 대부분(12개)에서 이 사건 저작권 침해에 관한 모든 서비스가 비활성화되어 있어(아래에서 보는 바와 같이 이 사건 제1 저작물에 관한 가사보기 서비스는 이 사건 저작권 침해와 관계가 없고, 앞에서 본 바와 같이 해당 웹페이지 화면이 2008. 2. 9.경의 ‘AH' 사이트에서 실행된 것이 아닐 가능성도 배제할 수 없다) 원고의 위 주장에 대한 증거로 쓸 수 없고, ③ 갑24의 5내지 8, 갑38, 49의 5 내지 9의 각 기재에 의하면, 2000. 10. 19.경부터 2007. 6. 21.경까지 설립된 수 개의 피고 H ‘카페(cafe)'의 배경음악 목록에 이 사건 제1 저작물이 등록되어 있는 사실, 수 개의 피고 H ‘블로그(blog)'의 배경음악 목록에 이 사건 제1 저작물이 등록되어 있고, 그 중 하나의 블로그는 2008. 1. 22.경 블로그 운영자의 첫 글이 등록되어 있는 사실, 수 개의 AG ‘플래닛(planet)' 뮤직박스 리스트에 이 사건 제1 저작물이 등록되어 있는 사실을 인정할 수 있으나, 이로써 바로 피고 H이 위 ‘카페' 개설일, 위 ‘블로그'의 첫 글이 등록된 시기 또는 원고가 주장하는 2008. 2. 13.경까지 이 사건 제1 저작물에 대한 배경음악 서비스를 계속되었다고 볼 수 없는 없으므로(대부분 배경음악으로 이미 구입된 이 사건 제1 저작물이 배경음악으로 등록되어 있는 것에 불과하다), 위 인정사실만으로 원고의 위 주장사실을 인정하기 부족하고 달리 이를 인정할 증거가 없다.\\n다) 피고 I\\n피고 I은 2007. 3. 19.경 원고의 저작권침해 중지 요청을 받았으나 2007. 5. 5.경까지 위 ‘AL'에서 노래반주곡파일 다운로드, 노래목록 다운로드, 가사보기 서비스를 제공하고, 이 사건 제1 저작물이 포함된 노래칩을 판매하였고, 이미 생산한 마이크형 노래반주기에서 이 사건 제1 저작물만을 제거하는 것이 기술적으로 불가능하다고 주장하며 2009. 4. 14.경까지 국내에서 이 사건 제1 저작물이 포함된 마이크형 노래반주기를 판매하고 있다.\\n이에 대하여 원고는 피고 I이 2007. 8. 19.경까지 ‘AL'에서 노래반주곡파일 다운로드, 노래목록 다운로드, 가사보기 서비스를 제공하였고, 2009. 4. 14.경까지 국내 뿐만 아니라 국외에 있는 지사, 매장 그리고 한국상품 판매점, 노래방기기 판매점, 인터넷 사이트에서 이 사건 제1 저작물이 포함되어 있는 마이크형 노래반주기 및 노래칩을 판매하였다고 주장하나, 이를 인정할 증거가 없다(특히, 원고가 주장하는 피고와 관련된 위 각 해외사이트 등의 운영주체가 누구인지, 피고 I과 위 운영주체와의 관계는 어떠한지 등에 관한 주장, 입증이 없는 이상, 갑50, 58의 9, 10의 기재만으로는 피고 I이 국외에서 이 사건 제1 저작물이 포함되어 있는 마이크형 노래반주기 및 노래칩을 언제까지 판매한 것인지 특정하여 인정하기에 부족하다).\\n나. 피고 G에 대하여\\n원고는 피고 G이 원고의 허락을 받지 않은 상태에서 원고의 성명을 표시하지 않고, ① 피고 G이 운영하는 인터넷음반판매사이트 ‘AT(인터넷주소 7 생략)'에서 2004. 12. 14.경부터 2009. 7. 현재까지 이 사건 제1 저작물에 관하여 유료음악듣기, 미리듣기, 엠피쓰리파일 판매 또는 통화연결음 서비스를 제공하였고, ② 피고 H과 앞서 본 서비스 제휴 계약을 체결하고, 피고 H의 ‘AH'에서 2004. 12. 14.경부터 2009. 7. 현재까지 이 사건 제1, 3 저작물에 관하여 유료음악듣기, 엠피쓰리파일 판매 또는 통화연결음 서비스를 제공하였고, 피고 H의 ‘AI'에서 2004. 9. 2.경부터 2009. 7. 현재까지 배경 음악, 미리듣기 서비스를 제공하였으며, 피고 H의 ‘AJ'에서 2005. 8. 2.경부터 2008. 2. 9.경까지 통화연결음, 미리듣기 서비스를 제공하였다고 주장하므로 살피건대, 피고 G은 민사소송법 제150조에 의하여 원고의 주장을 모두 자백한 것으로 본다.\", \"1) 피고 주식회사 D(이하 ‘피고 회사'라 한다)은 충주시 E에 있는 ‘F공사(이하 ‘이 사건 공사'라 한다)를 발주한 시공사이다.\\n2) 망 G(이하 ‘망인'이라 한다)는 피고 회사에 고용되어 이 사건 공사 현장에서 배수관 및 맨홀을 매설하기 위한 굴착면 바닥고르기 및 관 부설 보조 작업에 관한 노무를 제공하였다.\\n3) 피고 C은 2019. 1. 26. 피고 회사의 지시를 받아 이 사건 공사현장에서 골프장의 클럽하우스와 골프텔간 진입로에 배수관 및 콘크리트 맨홀 설치작업을 하던 중 건설기계인 H 굴삭기로 굴착 법면 상부에 놓여있던 콘크리트 맨홀(중량 2.4톤) 1개를 슬링벨트를 이용하여 굴삭기와 연결한 다음 위 맨홀을 끌어당겨 굴착면 바닥으로 옮기는 작업(이하 ‘이 사건 작업'이라 한다)을 하였는데, 운반 중이던 위 맨홀이 고르지 못한 굴착법면 상부 지면에 걸려 중심을 잃고 굴착면 바닥으로 미끄러져 내려와, 굴착면 아래에서 피고 회사의 지시에 따라 배수관 설치작업을 하고 있던 망인의 머리를 강타하여 망인이 그 자리에서 사망하는 사고(이하 ‘이 사건 사고'라 한다)가 발생하였다.\\n4) 이 사건 사고와 관련하여 피고 회사의 대표이사 I와 피고 회사는 다음과 같은 공소사실로 산업안전보건법위반으로 기소되었고(청주지방법원 충주지원 2019고단450호), 위 법원은 2019. 10. 18. 공소사실을 유죄로 판단하여 I에게 징역 8월에 집행유예 2년, 피고 회사에게 벌금 1,000만 원을 각 선고하였다. 위 판결에 대해 피고 회사와 I가 항소를 제기하였다가 취하함으로써 2019. 10. 30. 위 판결은 그대로 확정되었다.\\n\\n5) 원고 A은 망인의 처이고, 원고 B는 망인의 자녀로서 망인의 상속인들이다.\", \"가. 당사자 관계\\n1) 망 C(이하 ‘망인'이라 한다)는 2002. 6. 1.경부터 사업장 소재지를 경기 가평군 D으로 하여 ‘E'라는 상호로 펜션 영업을 하던 사람으로, 2017. 9. 23. F병원 응급실을 통하여 입원한 후 급성 골수성 백혈병 진단을 받고 치료를 받다가 2017. 11. 25. 위 병원에서 사망하였다.\\n2) 원고는 2010년경부터 망인과 교제하다가 2015. 4.경부터 망인과 동거하며 사실혼관계에 있었고, 2017. 9. 29. 망인과 혼인신고를 마쳤다. 피고는 망인의 어머니이다.\\n나. 망인의 부동산 취득 및 대출약정 등\\n1) 망인의 형 G는 1999. 1. 27.경 공유물분할에 의하여 경기 가평군 H 전 715㎡, I 전 297㎡의 소유권을 취득하였고, 2010. 9. 27. 위 H 토지 중 650㎡ 지상에 별지 부동산의 표시 기재 건물(이하 ‘이 사건 건물'이라 한다)을 신축하는 건축허가를 받고 2011. 8. 26. 착공신고를 마쳤다. 이 사건 건물은 2015년경 완공되었고, 원고는 2015. 5. 20. 이 사건 건물 소재지를 사업장 소재지로 하여 ‘J'이라는 상호로 소매업 등 사업자등록을 마치고 그 무렵부터 이 사건 건물에서 펜션 영업을 하고 있다. 이 사건 건물은 2016. 1. 29. 사용승인을 받았다.\\n2) 한편 2015. 12.경 위 가평군 H 전 715㎡에서 K 전 65㎡가 분할된 후 K 토지가 위 I 토지에 합병되었고, 2016. 1. 27. 이 사건 건물의 건축으로 분할 후 H 전 650㎡의 지목이 대지로 변경되었다(분할, 합병 및 지목변경 후의 위 H, I 토지를 ‘이 사건 토지'라 하고, 이 사건 건물 및 토지를 통칭하여 ‘이 사건 부동산'이라 한다).\\n3) 망인은 2016. 2. 12.경 이 사건 부동산을 담보로 L조합(이하 ‘L조합'이라 한다)으로부터 250,000,000원을 대출받아(이하 ‘이 사건 제1 대출'이라 한다) 그 중 66,000,000원은 G 명의 계좌를 통하여 원고에게 지급하고, 나머지는 G 명의의 기존 대출채무 등을 변제하는데 사용하였다.\\n4) 한편 원고의 오빠 M은 2017. 1.경 경기 가평군 N, O 토지에 1층 단독주택을, 원고의 동생 P는 2017. 5.경 Q, R 토지에 2층 단독주택을 각 신축하여 사용승인을 받았고, 원고는 위 건물들을 J 펜션 S동과 T동으로, 이 사건 건물을 J 펜션 U동으로 하여 독채 펜션으로 영업하고 있다.\\n5) 망인은 2017. 1. 25. L조합으로부터 M 소유의 위 경기 가평군 N, O 토지 및 건물을 담보로 140,000,000원을 대출받았다(이하 ‘이 사건 제2 대출이라 한다).\\n6) 망인은 2017. 3. 13. L조합과 한도 25,000,000원의 신용대출약정을 체결하였다(이하 '이 사건 제3 대출이라 한다).\\n7) 망인은 2017. 3. 16. 이 사건 부동산에 관하여 2017. 3. 15.자 매매를 원인으로 한 소유권이전등기를 마쳤다.\\n다. 원·피고의 상속 및 원고의 대위변제\\n1) 원·피고는 2018. 4. 6. 이 사건 부동산에 관하여 2017. 11. 25. 상속을 원인으로 한 소유권이전등기(원고: 3/5 지분, 피고: 2/5 지분)를 마쳤다. 감정인 V감정평가사사무소(W 감정평가사)는 2019. 4. 9.을 기준으로 이 사건 건물의 시가를 215,445,600원으로 산정하였다.\\n2) 원고는 2019. 4. 25. 이 사건 제1 대출금 238,814,997원 및 이 사건 제3 대출금 27,440,758원을 대신 변제하였고, 2019. 4. 30. 이 사건 제2 대출금 148,935,468원을 대신 변제하였는데, 위 대출금 합계는 415,191,223원이다.\\n3) 원고는 2017. 12. 7.경 E 펜션의 사업자를 원고 단독으로 변경하였다.\", \"가. 당사자 관계\\n1) F은 1995. 10. 20. 자동차기관정비기능사 자격을 취득한 후 자동차정비업에 약 24년을 종사하였는데, 2012. 7. 2. 여객자동차 운수회사인 피고 회사에 입사하여 차량 정비공으로 약 7년 5개월 근무하던 중 아래 나.항과 같은 사고가 발생하였다.\\n2) 원고 A, B는 F의 누나이고, 원고 C은 F의 동생, 원고 D은 F의 형이다. F은 아래 나.항과 같은 사고로 사망할 당시 미혼으로서 부모도 사망한 관계로 원고들이 망 F(이하 ‘망인'이라 한다)의 상속인이 되었다.\\n나. 사고의 발생\\n1) 망인은 2019. 12. 9. 11:29경 강릉시 G에 있는 피고 회사의 정비소에서 피고 회사 소속 버스의 엔진오일 교환작업을 하게 되었는데, 통상적인 작업의 순서는 i) 엔진오일의 교환을 마치고, ii) 엔진시동을 켠 상태로 오일 누유가 있는지를 확인한 후, iii) 누유가 발견되면 즉시 엔진시동을 끄고 필요한 조치를 취하는 것이었다.\\n2) 그러나 망인은 위 작업 당시 엔진오일을 교환하고 차량의 시동을 켠 후 돌아가고 있는 엔진룸을 살펴보던 중 갑자기 걸레를 들고 무언가를 닦기 위해서 엔진룸으로 왼손을 넣었는데, 그 직후 망인의 왼손이 순식간에 벨트에 쓸려들어가면서 아래 사진의 벨트를 회전시키는 크랭크풀리(회전축)와 템버 사이에 끼이는 사고(이하 ‘이 사건 사고'라 한다)가 발생하였다.\\n\", \"가. 계약서 및 지불각서, 이행각서의 작성\\n1) 공동피고 C, D, E(이하 공동피고 표시는 생략한다)은 2009년경 광주시 H리(이하 ‘H리'라고만 한다) I 외 17필지 약 8,000평에서 전원주택을 개발하여 이를 분양하는 내용의 공동사업을 운영하기로 약정하였다. 피고는 공인중개사 사무실을 운영하는 자로서 원고에게 C, D, E을 소개하여 주었다.\\n2) 피고 및 C, E은 2009. 8. 31. 원고로부터 2,500만 원을 수령하면서 ‘상기 금원은 J 외 다수필지 중 가분할 환지번호 27호, 33호의 청약예약금(5억 7,600만 원)의 일부금으로 영수하고, 단 본 청약이 해약될 경우 위 금원을 해약 즉시 반환할 것을 각서로 서명·날인한다'는 내용의 지불각서를 작성하였다(이하 ‘이 사건 지불각서'라 한다).\\n3) 원고는 2009. 9. 9. D, C와 다음과 같은 내용의 ‘계약(예약)서'를 작성하고(이하 ‘이 사건 계약서'라 한다), C에게 5억 5,000만 원을 입금하였다.\\n\\n\\n4) 피고 및 E은 2009. 9. 9. 원고에게 ‘I 외 다수 필지의 계약과 관련하여 피고 및 E은 원고가 토지대금으로 입금한 5억 5,000만 원에 대하여 약정하고 공증한 내용에 대하여 책임지고 성실히 이행할 것을 약속함 - 지정된 토지의 면적과 구거에 접한 길이에 대한 보장 - 단지 구성시 필요에 의한 변경은 협의하여 결정한다'는 취지의 이행각서를 작성해 주었다(이하 ‘이 사건 이행각서'라 한다).\\n나. 이 사건 토지의 소유권 변동내역\\n1) 이 사건 토지를 비롯한 I 외 다수 필지는 2009년 당시 K의 소유였다. K는 2016. 3. 31. F에게 I 외 81필지를 매도하였고, 같은 날 G(대표이사 F)에게 L 외 7필지를 매도하였으며, 그 무렵 F, G에게 위 각 토지에 관하여 매매를 원인으로 한 소유권이전등기를 마쳐주었다.\\n2) 주식회사 M(이하 ‘M'이라 한다)은 2017. 9. 22. 위 토지 중 일부에 관하여 신탁을 원인으로 하여 소유권이전등기를 마쳤다.\\n다. C, D, E에 대한 형사재판\\nC, D, E(이하 이 항에서는 ‘피고인들'이라 한다)은 아래와 같이 원고(이하 이 항에서는 ‘피해자'라 한다)를 기망하여 5억 7,500만 원을 편취하였다는 공소사실로 기소되었고(수원지방법원 성남지원 2019고합42), 현재 재판이 진행 중이다.\\n\\n라. 이 사건 화해권고결정\\n1) 원고는 피고 및 C, D, E, F, G을 상대로 아래 ‘원고 주장의 요지'와 같은 이유로 5억 7,500만 원 및 이에 대한 지연손해금의 지급을 구하는 취지의 이 사건 소를 제기하였다.\\n2) 이 법원은 2021. 6. 7. 아래와 같은 결정사항으로 화해권고결정을 하였고, 피고를 제외한 C, D, E, F, G은 이의신청을 하지 않아 위 화해권고결정은 확정되었다(이하 ‘이 사건 화해권고결정'이라 한다).\\n\\n\", '피고는 2018. 11. 6. 원고에게 아래와 같은 확인서를 작성하면서 48,000,000원을 2018. 12. 10.까지 변제하기로 약정하였다.\\n', \"피고인은 창원시 성산구 B에서 ‘C'을 운영하는 사람이다.\\n누구든지 게임물관리위원회로부터 등급을 받은 내용과 다른 내용의 게임물을 유통 또는 이용에 제공하거나 진열ㆍ보관하여서는 아니된다.\\n그럼에도 불구하고 피고인은 2017. 4. 13.경부터 2021. 6. 8.경까지 위 ‘C'을 운영하면서, 게임물관리위원회로부터 등급분류를 받은 내용과 달리 관리자 페이지를 통해 임의로 생성해 놓은 아이디에 게임머니를 직접 충전하여 손님이 이용하도록 하는 방식으로 ‘에스퍼 바둑이' 등 4종의 게임물을 제공하였다.\\n이로써 피고인은 게임물관리위원회로부터 등급을 받은 내용과 다른 내용의 게임물을 이용에 제공하였다.\", '피고인은 2016. 2. 4. 23:30경부터 그 다음 날 00:00경 사이 서울 노원구 B아파트 C동 앞 노상에서, 동생인 피해자 D(52세)과 모친의 주거지 매매대금 문제를 이야기하던 중 피해자에게 위 주거지의 매매계약서를 보여 달라고 말하였으나, 피해자로부터 \"어머니 집을 구매하는데 도움을 준 것이 있느냐, 형이 어머니 집을 다 먹을거냐?\"라는 취지의 말을 듣자 격분하여, 주먹으로 피해자의 눈 부위를 1회 때리고, 이에 넘어진 피해자의 낭심, 얼굴, 등 부위를 발로 수 회 걷어차고, 계속하여 피고인의 바지를 붙잡고 때리지 말라고 부탁하던 피해자의 멱살을 잡고 피해자의 얼굴 등을 주먹으로 수 회 때렸다.\\n이로써 피고인은 피해자에게 약 57일 간의 치료가 필요한 좌측 안와내벽 및 안와 하벽의 골절 등의 상해를 가하였다.', '가. 피고의 구상금 채권\\n피고의 원고에 대한 이 법원 2013가소590836 구상금 사건의 판결(주문 : 원고는 피고에게 1,357,570원 및 이에 대한 지연손해금을 지급하라)이 2013. 12. 11. 선고되어 2014. 1. 9. 확정되었다.\\n나. 원고에 대한 면책결정\\n원고는 2015. 11. 13. 파산 및 면책을 신청하여, 2016. 7. 19. 면책결정이 있어 2016. 8. 3. 확정되었다(대구지방법원 2015하단4631, 2015하면4631). 채권자목록에 이 사건 구상금 채권이 기재되어 있지 않다.', '1. 사문서위조, 위조사문서행사\\n피고인은 B이라는 이름을 이용하여 채소 등을 공급하는 사업을 하는 사람으로, 자신의 명의로 등록된 사업자가 없어 거래처에 계산서를 발행해 줄 수가 없게 되자, C D호를 운영하는 E으로부터 C 명의로 발행된 세금계산서의 오류를 정정해 주겠다는 명목으로 직인을 받아 이를 이용하여 C D호 명의로 된 계산서를 발행한 후, 이것을 거래처에 교부하기로 마음먹었다.\\n피고인은 2018. 3. 25.경 어느 곳에서 계산서의 공급가액에 ‘21,000,000\\' 품목에 ‘야채 및 과일\\'이라고 기재한 후, 공급자 등록번호 ‘F\\', 업태 ‘도·소매 야채, 청과\\', 상호 ‘CD호\\', 사업장 주소 ‘전주시 덕진구 G\\', 공급자 \\'E‘이 각인되어 있는 C D호의 직인을 임의로 날인하여, 행사할 목적으로 권한 없이 E 명의의 사문서인 계산서를 위조하고, 위조된 것을 모르는 H을 운영하는 I에게 교부하여 위조된 사문서를 행사하였다.\\n피고인은 이것을 비롯하여, 그 때부터 같은 해 12. 30.경까지 별지 범죄일람표 기재와 같이 행사할 목적으로 권한 없이 총 8회에 걸쳐 합계 165,500,000원 상당의 공급가액이 기재된 권리·의무·사실증명에 관한 사문서인 계산서를 위조하고, 이것을 마치 진정하게 성립한 문서인 것처럼 교부하여 행사하였다.\\n2. 사기\\n가. 2019. 7. 31.경 범행\\n피고인은 2019. 7. 31.경 전주시 완산구 J에 있는 K매장에서, I에게 전화하여 \"물건 값을 치러야 물건을 실은 차가 출발을 하니 물건 값을 미리 송금해주면, 10일 이내로 갚겠다.\"고 말하였다.\\nI은 그 말을 믿고 같은 날 피고인이 운영하는 청과가게 직원인 L 명의의 농협계좌(M)로 700만 원을 송금하였다.\\n그러나 피고인은 채무초과 상태로 기존에 공급받았던 채소 등에 대한 물건 값도 지급하지 못하고 있는 상황이어서 그와 같은 돈을 교부받더라도 갚을 의사나 능력이 없었다.\\n피고인은 이렇게 피해자 I를 속여 700만 원을 받아 편취하였다.\\n나. 2019. 8. 9.경 범행\\n피고인은 2019. 8. 9.경 K매장에서, 제2의 가.항 기재와 같은 취지로 I를 속여, I로부터 같은 날 L 명의의 농협계좌로 1,400만 원을 송금 받았다.\\n피고인은 이렇게 피해자 I를 속여 1,400만 원을 받아 편취하였다.']}\n"
          ]
        }
      ],
      "source": [
        "for batch in dataloader_t:\n",
        "    print(batch)\n",
        "    break"
      ]
    },
    {
      "cell_type": "code",
      "source": [
        "# batch별 데이터 정보\n",
        "batch.keys()"
      ],
      "metadata": {
        "colab": {
          "base_uri": "https://localhost:8080/"
        },
        "id": "D2ryTLaCmdtJ",
        "outputId": "522644d5-935a-46a9-cdb0-ba67cfeab66a"
      },
      "execution_count": 46,
      "outputs": [
        {
          "output_type": "execute_result",
          "data": {
            "text/plain": [
              "dict_keys(['id', 'casetype', 'casename', 'facts'])"
            ]
          },
          "metadata": {},
          "execution_count": 46
        }
      ]
    },
    {
      "cell_type": "code",
      "execution_count": 47,
      "metadata": {
        "id": "cnAUJ7v4Db8F"
      },
      "outputs": [],
      "source": [
        "class MyModel(torch.nn.Module):\n",
        "\n",
        "    # backbone : pretrained bert\n",
        "    def __init__(self, backbone):\n",
        "        super().__init__()\n",
        "        self.backbone = backbone\n",
        "        self.pooler = torch.nn.Linear(768, 100)\n",
        "\n",
        "    def forward(self, input_ids, attention_mask):\n",
        "        # attention_mask : batch내에서도 size가 다를 수도 있기 때문에 mask를 수행함\n",
        "        encoded = self.backbone(input_ids, attention_mask)\n",
        "        last = encoded.last_hidden_state # [batch, 768]\n",
        "        logit = self.pooler(last[:, 0]) # [batch, 100] : 0번째 token만 중요한 정보이기 때문에 0번째 토큰의 logit값만 추출하겠다.\n",
        "        return logit"
      ]
    },
    {
      "cell_type": "code",
      "execution_count": 49,
      "metadata": {
        "id": "ZpO8A6iJDb8F"
      },
      "outputs": [],
      "source": [
        "model = MyModel(backbone)\n",
        "model = model.to(device)\n",
        "\n",
        "optimizer = torch.optim.AdamW(model.parameters(), lr=0.0001)\n",
        "loss_fn = torch.nn.CrossEntropyLoss()"
      ]
    },
    {
      "cell_type": "code",
      "execution_count": 50,
      "metadata": {
        "colab": {
          "base_uri": "https://localhost:8080/"
        },
        "id": "Olj_JIR5Db8F",
        "outputId": "05d2974f-a5b8-40f8-fef8-9a2e0b3de4ce"
      },
      "outputs": [
        {
          "output_type": "stream",
          "name": "stderr",
          "text": [
            "  0%|          | 1/223 [00:03<11:59,  3.24s/it]"
          ]
        },
        {
          "output_type": "stream",
          "name": "stdout",
          "text": [
            "epoch: 0, batch: 0, loss: 4.5876994132995605\n"
          ]
        },
        {
          "output_type": "stream",
          "name": "stderr",
          "text": [
            "  5%|▍         | 11/223 [00:17<05:16,  1.50s/it]"
          ]
        },
        {
          "output_type": "stream",
          "name": "stdout",
          "text": [
            "epoch: 0, batch: 10, loss: 4.641515775160356\n"
          ]
        },
        {
          "output_type": "stream",
          "name": "stderr",
          "text": [
            "  9%|▉         | 21/223 [00:32<05:05,  1.51s/it]"
          ]
        },
        {
          "output_type": "stream",
          "name": "stdout",
          "text": [
            "epoch: 0, batch: 20, loss: 4.626756736210415\n"
          ]
        },
        {
          "output_type": "stream",
          "name": "stderr",
          "text": [
            " 14%|█▍        | 31/223 [00:47<04:52,  1.53s/it]"
          ]
        },
        {
          "output_type": "stream",
          "name": "stdout",
          "text": [
            "epoch: 0, batch: 30, loss: 4.583397819149878\n"
          ]
        },
        {
          "output_type": "stream",
          "name": "stderr",
          "text": [
            " 18%|█▊        | 41/223 [01:02<04:39,  1.54s/it]"
          ]
        },
        {
          "output_type": "stream",
          "name": "stdout",
          "text": [
            "epoch: 0, batch: 40, loss: 4.530537023776915\n"
          ]
        },
        {
          "output_type": "stream",
          "name": "stderr",
          "text": [
            " 23%|██▎       | 51/223 [01:18<04:27,  1.56s/it]"
          ]
        },
        {
          "output_type": "stream",
          "name": "stdout",
          "text": [
            "epoch: 0, batch: 50, loss: 4.461014107161877\n"
          ]
        },
        {
          "output_type": "stream",
          "name": "stderr",
          "text": [
            " 27%|██▋       | 61/223 [01:33<04:12,  1.56s/it]"
          ]
        },
        {
          "output_type": "stream",
          "name": "stdout",
          "text": [
            "epoch: 0, batch: 60, loss: 4.391866812940504\n"
          ]
        },
        {
          "output_type": "stream",
          "name": "stderr",
          "text": [
            " 32%|███▏      | 71/223 [01:49<04:00,  1.58s/it]"
          ]
        },
        {
          "output_type": "stream",
          "name": "stdout",
          "text": [
            "epoch: 0, batch: 70, loss: 4.3341882094530995\n"
          ]
        },
        {
          "output_type": "stream",
          "name": "stderr",
          "text": [
            " 36%|███▋      | 81/223 [02:05<03:44,  1.58s/it]"
          ]
        },
        {
          "output_type": "stream",
          "name": "stdout",
          "text": [
            "epoch: 0, batch: 80, loss: 4.261936838244215\n"
          ]
        },
        {
          "output_type": "stream",
          "name": "stderr",
          "text": [
            " 41%|████      | 91/223 [02:21<03:31,  1.60s/it]"
          ]
        },
        {
          "output_type": "stream",
          "name": "stdout",
          "text": [
            "epoch: 0, batch: 90, loss: 4.187817746466333\n"
          ]
        },
        {
          "output_type": "stream",
          "name": "stderr",
          "text": [
            " 45%|████▌     | 101/223 [02:37<03:15,  1.61s/it]"
          ]
        },
        {
          "output_type": "stream",
          "name": "stdout",
          "text": [
            "epoch: 0, batch: 100, loss: 4.122656062097833\n"
          ]
        },
        {
          "output_type": "stream",
          "name": "stderr",
          "text": [
            " 50%|████▉     | 111/223 [02:53<02:59,  1.60s/it]"
          ]
        },
        {
          "output_type": "stream",
          "name": "stdout",
          "text": [
            "epoch: 0, batch: 110, loss: 4.045321329219921\n"
          ]
        },
        {
          "output_type": "stream",
          "name": "stderr",
          "text": [
            " 54%|█████▍    | 121/223 [03:09<02:43,  1.60s/it]"
          ]
        },
        {
          "output_type": "stream",
          "name": "stdout",
          "text": [
            "epoch: 0, batch: 120, loss: 3.971905662993754\n"
          ]
        },
        {
          "output_type": "stream",
          "name": "stderr",
          "text": [
            " 59%|█████▊    | 131/223 [03:25<02:28,  1.62s/it]"
          ]
        },
        {
          "output_type": "stream",
          "name": "stdout",
          "text": [
            "epoch: 0, batch: 130, loss: 3.892879293165134\n"
          ]
        },
        {
          "output_type": "stream",
          "name": "stderr",
          "text": [
            " 63%|██████▎   | 141/223 [03:41<02:13,  1.63s/it]"
          ]
        },
        {
          "output_type": "stream",
          "name": "stdout",
          "text": [
            "epoch: 0, batch: 140, loss: 3.8043952698403216\n"
          ]
        },
        {
          "output_type": "stream",
          "name": "stderr",
          "text": [
            " 68%|██████▊   | 151/223 [03:58<01:56,  1.62s/it]"
          ]
        },
        {
          "output_type": "stream",
          "name": "stdout",
          "text": [
            "epoch: 0, batch: 150, loss: 3.720932908405531\n"
          ]
        },
        {
          "output_type": "stream",
          "name": "stderr",
          "text": [
            " 72%|███████▏  | 161/223 [04:14<01:41,  1.63s/it]"
          ]
        },
        {
          "output_type": "stream",
          "name": "stdout",
          "text": [
            "epoch: 0, batch: 160, loss: 3.633261788705861\n"
          ]
        },
        {
          "output_type": "stream",
          "name": "stderr",
          "text": [
            " 77%|███████▋  | 171/223 [04:30<01:24,  1.63s/it]"
          ]
        },
        {
          "output_type": "stream",
          "name": "stdout",
          "text": [
            "epoch: 0, batch: 170, loss: 3.5480782769576846\n"
          ]
        },
        {
          "output_type": "stream",
          "name": "stderr",
          "text": [
            " 81%|████████  | 181/223 [04:47<01:08,  1.64s/it]"
          ]
        },
        {
          "output_type": "stream",
          "name": "stdout",
          "text": [
            "epoch: 0, batch: 180, loss: 3.4665165046301993\n"
          ]
        },
        {
          "output_type": "stream",
          "name": "stderr",
          "text": [
            " 86%|████████▌ | 191/223 [05:03<00:52,  1.64s/it]"
          ]
        },
        {
          "output_type": "stream",
          "name": "stdout",
          "text": [
            "epoch: 0, batch: 190, loss: 3.3840444150395417\n"
          ]
        },
        {
          "output_type": "stream",
          "name": "stderr",
          "text": [
            " 90%|█████████ | 201/223 [05:20<00:36,  1.64s/it]"
          ]
        },
        {
          "output_type": "stream",
          "name": "stdout",
          "text": [
            "epoch: 0, batch: 200, loss: 3.3043300530210655\n"
          ]
        },
        {
          "output_type": "stream",
          "name": "stderr",
          "text": [
            " 95%|█████████▍| 211/223 [05:36<00:19,  1.64s/it]"
          ]
        },
        {
          "output_type": "stream",
          "name": "stdout",
          "text": [
            "epoch: 0, batch: 210, loss: 3.2278983762478943\n"
          ]
        },
        {
          "output_type": "stream",
          "name": "stderr",
          "text": [
            " 99%|█████████▉| 221/223 [05:53<00:03,  1.65s/it]"
          ]
        },
        {
          "output_type": "stream",
          "name": "stdout",
          "text": [
            "epoch: 0, batch: 220, loss: 3.1519261280335993\n"
          ]
        },
        {
          "output_type": "stream",
          "name": "stderr",
          "text": [
            "100%|██████████| 223/223 [05:55<00:00,  1.60s/it]\n"
          ]
        },
        {
          "output_type": "stream",
          "name": "stdout",
          "text": [
            "epoch: 0, tot_loss: 699.4387676715851\n"
          ]
        },
        {
          "output_type": "stream",
          "name": "stderr",
          "text": [
            "  0%|          | 1/223 [00:00<03:16,  1.13it/s]"
          ]
        },
        {
          "output_type": "stream",
          "name": "stdout",
          "text": [
            "epoch: 1, batch: 0, loss: 1.223829746246338\n"
          ]
        },
        {
          "output_type": "stream",
          "name": "stderr",
          "text": [
            "  5%|▍         | 11/223 [00:17<05:50,  1.65s/it]"
          ]
        },
        {
          "output_type": "stream",
          "name": "stdout",
          "text": [
            "epoch: 1, batch: 10, loss: 1.6103116924112493\n"
          ]
        },
        {
          "output_type": "stream",
          "name": "stderr",
          "text": [
            "  9%|▉         | 21/223 [00:33<05:34,  1.66s/it]"
          ]
        },
        {
          "output_type": "stream",
          "name": "stdout",
          "text": [
            "epoch: 1, batch: 20, loss: 1.5762577624548049\n"
          ]
        },
        {
          "output_type": "stream",
          "name": "stderr",
          "text": [
            " 14%|█▍        | 31/223 [00:50<05:14,  1.64s/it]"
          ]
        },
        {
          "output_type": "stream",
          "name": "stdout",
          "text": [
            "epoch: 1, batch: 30, loss: 1.5235053762312858\n"
          ]
        },
        {
          "output_type": "stream",
          "name": "stderr",
          "text": [
            " 18%|█▊        | 41/223 [01:06<05:00,  1.65s/it]"
          ]
        },
        {
          "output_type": "stream",
          "name": "stdout",
          "text": [
            "epoch: 1, batch: 40, loss: 1.4990365941350052\n"
          ]
        },
        {
          "output_type": "stream",
          "name": "stderr",
          "text": [
            " 23%|██▎       | 51/223 [01:23<04:43,  1.65s/it]"
          ]
        },
        {
          "output_type": "stream",
          "name": "stdout",
          "text": [
            "epoch: 1, batch: 50, loss: 1.450462352995779\n"
          ]
        },
        {
          "output_type": "stream",
          "name": "stderr",
          "text": [
            " 27%|██▋       | 61/223 [01:39<04:28,  1.66s/it]"
          ]
        },
        {
          "output_type": "stream",
          "name": "stdout",
          "text": [
            "epoch: 1, batch: 60, loss: 1.4180141521281884\n"
          ]
        },
        {
          "output_type": "stream",
          "name": "stderr",
          "text": [
            " 32%|███▏      | 71/223 [01:56<04:12,  1.66s/it]"
          ]
        },
        {
          "output_type": "stream",
          "name": "stdout",
          "text": [
            "epoch: 1, batch: 70, loss: 1.3980450327967253\n"
          ]
        },
        {
          "output_type": "stream",
          "name": "stderr",
          "text": [
            " 36%|███▋      | 81/223 [02:13<03:55,  1.66s/it]"
          ]
        },
        {
          "output_type": "stream",
          "name": "stdout",
          "text": [
            "epoch: 1, batch: 80, loss: 1.3831417383971039\n"
          ]
        },
        {
          "output_type": "stream",
          "name": "stderr",
          "text": [
            " 41%|████      | 91/223 [02:29<03:39,  1.66s/it]"
          ]
        },
        {
          "output_type": "stream",
          "name": "stdout",
          "text": [
            "epoch: 1, batch: 90, loss: 1.3631743886968593\n"
          ]
        },
        {
          "output_type": "stream",
          "name": "stderr",
          "text": [
            " 45%|████▌     | 101/223 [02:46<03:21,  1.66s/it]"
          ]
        },
        {
          "output_type": "stream",
          "name": "stdout",
          "text": [
            "epoch: 1, batch: 100, loss: 1.335494101637661\n"
          ]
        },
        {
          "output_type": "stream",
          "name": "stderr",
          "text": [
            " 50%|████▉     | 111/223 [03:02<03:05,  1.66s/it]"
          ]
        },
        {
          "output_type": "stream",
          "name": "stdout",
          "text": [
            "epoch: 1, batch: 110, loss: 1.317562589237282\n"
          ]
        },
        {
          "output_type": "stream",
          "name": "stderr",
          "text": [
            " 54%|█████▍    | 121/223 [03:19<02:48,  1.66s/it]"
          ]
        },
        {
          "output_type": "stream",
          "name": "stdout",
          "text": [
            "epoch: 1, batch: 120, loss: 1.2938230323397424\n"
          ]
        },
        {
          "output_type": "stream",
          "name": "stderr",
          "text": [
            " 59%|█████▊    | 131/223 [03:35<02:32,  1.66s/it]"
          ]
        },
        {
          "output_type": "stream",
          "name": "stdout",
          "text": [
            "epoch: 1, batch: 130, loss: 1.2970155541223425\n"
          ]
        },
        {
          "output_type": "stream",
          "name": "stderr",
          "text": [
            " 63%|██████▎   | 141/223 [03:52<02:16,  1.66s/it]"
          ]
        },
        {
          "output_type": "stream",
          "name": "stdout",
          "text": [
            "epoch: 1, batch: 140, loss: 1.2945090955030834\n"
          ]
        },
        {
          "output_type": "stream",
          "name": "stderr",
          "text": [
            " 68%|██████▊   | 151/223 [04:09<01:59,  1.66s/it]"
          ]
        },
        {
          "output_type": "stream",
          "name": "stdout",
          "text": [
            "epoch: 1, batch: 150, loss: 1.2876126576733116\n"
          ]
        },
        {
          "output_type": "stream",
          "name": "stderr",
          "text": [
            " 72%|███████▏  | 161/223 [04:25<01:42,  1.66s/it]"
          ]
        },
        {
          "output_type": "stream",
          "name": "stdout",
          "text": [
            "epoch: 1, batch: 160, loss: 1.2762782529274128\n"
          ]
        },
        {
          "output_type": "stream",
          "name": "stderr",
          "text": [
            " 77%|███████▋  | 171/223 [04:42<01:26,  1.66s/it]"
          ]
        },
        {
          "output_type": "stream",
          "name": "stdout",
          "text": [
            "epoch: 1, batch: 170, loss: 1.2688102938278376\n"
          ]
        },
        {
          "output_type": "stream",
          "name": "stderr",
          "text": [
            " 81%|████████  | 181/223 [04:58<01:09,  1.66s/it]"
          ]
        },
        {
          "output_type": "stream",
          "name": "stdout",
          "text": [
            "epoch: 1, batch: 180, loss: 1.2552257782846525\n"
          ]
        },
        {
          "output_type": "stream",
          "name": "stderr",
          "text": [
            " 86%|████████▌ | 191/223 [05:15<00:53,  1.67s/it]"
          ]
        },
        {
          "output_type": "stream",
          "name": "stdout",
          "text": [
            "epoch: 1, batch: 190, loss: 1.2438652662082492\n"
          ]
        },
        {
          "output_type": "stream",
          "name": "stderr",
          "text": [
            " 90%|█████████ | 201/223 [05:32<00:36,  1.67s/it]"
          ]
        },
        {
          "output_type": "stream",
          "name": "stdout",
          "text": [
            "epoch: 1, batch: 200, loss: 1.2340673460296137\n"
          ]
        },
        {
          "output_type": "stream",
          "name": "stderr",
          "text": [
            " 95%|█████████▍| 211/223 [05:48<00:19,  1.66s/it]"
          ]
        },
        {
          "output_type": "stream",
          "name": "stdout",
          "text": [
            "epoch: 1, batch: 210, loss: 1.219341227511094\n"
          ]
        },
        {
          "output_type": "stream",
          "name": "stderr",
          "text": [
            " 99%|█████████▉| 221/223 [06:05<00:03,  1.66s/it]"
          ]
        },
        {
          "output_type": "stream",
          "name": "stdout",
          "text": [
            "epoch: 1, batch: 220, loss: 1.2049732631687664\n"
          ]
        },
        {
          "output_type": "stream",
          "name": "stderr",
          "text": [
            "100%|██████████| 223/223 [06:08<00:00,  1.65s/it]"
          ]
        },
        {
          "output_type": "stream",
          "name": "stdout",
          "text": [
            "epoch: 1, tot_loss: 268.1608998179436\n"
          ]
        },
        {
          "output_type": "stream",
          "name": "stderr",
          "text": [
            "\n"
          ]
        }
      ],
      "source": [
        "from tqdm import tqdm\n",
        "\n",
        "model = model.train()\n",
        "for epoch in (range(2)):\n",
        "    tot_loss = 0\n",
        "    for i, batch in enumerate(tqdm(dataloader_t)):\n",
        "        xs = batch[\"facts\"] # input : 자연어(추후에 벡터로 변형)\n",
        "        ys = batch[\"casename\"] # label : 사건유형\n",
        "        ys = [casenames.index(y) for y in ys]\n",
        "\n",
        "        # input_features : inputs_ids, attention_mask\n",
        "        # input_ids : 각 자연어를 토큰id로 변형(mask token은 token_id 0으로 지정)\n",
        "        # attenton_mask : masking할 개수\n",
        "        # truncation : 입력 시퀀스가 모델의 길이를 초과하면 초과부분을 잘라냄\n",
        "        # return_tensors : pt는 pytorch tensor형태로 반환\n",
        "        input_features = tokenizer(xs, padding=True, truncation=True, return_tensors=\"pt\")\n",
        "        input_ids = input_features[\"input_ids\"].to(device)\n",
        "        attention_mask = input_features[\"attention_mask\"].to(device)\n",
        "        label = torch.tensor(ys).to(device)\n",
        "\n",
        "        logit = model.forward(input_ids, attention_mask)\n",
        "\n",
        "        optimizer.zero_grad()\n",
        "\n",
        "        loss1 = loss_fn(logit, label)\n",
        "        tot_loss += loss1.item()\n",
        "        loss1.backward()\n",
        "        optimizer.step() # parameter update\n",
        "        if i % 10 == 0:\n",
        "            print(f\"epoch: {epoch}, batch: {i}, loss: {tot_loss / (i+1)}\")\n",
        "\n",
        "    print(f\"epoch: {epoch}, tot_loss: {tot_loss}\")\n",
        "        # attention_mask = encoded[\"attention_mask\"].to(device)\n",
        "    # break\n",
        "    # input_ids = data1[\"input_ids\"].to(device)\n",
        "    # label = data1[\"label\"].to(device)\n",
        "    # logit = model(input_ids)\n",
        "    # loss = loss_fn(logit, label)\n",
        "    # print(loss)\n",
        "    # break"
      ]
    },
    {
      "cell_type": "code",
      "source": [
        "ys"
      ],
      "metadata": {
        "colab": {
          "base_uri": "https://localhost:8080/"
        },
        "id": "ff021pbfRE6Q",
        "outputId": "07fb3a46-f367-48ad-b7b2-9bca40f8147d"
      },
      "execution_count": 51,
      "outputs": [
        {
          "output_type": "execute_result",
          "data": {
            "text/plain": [
              "[56, 4, 13, 77, 28, 53, 90, 72]"
            ]
          },
          "metadata": {},
          "execution_count": 51
        }
      ]
    },
    {
      "cell_type": "code",
      "source": [
        "device = \"cpu\"\n",
        "model = model.to(device)\n",
        "cnt = 0\n",
        "for batch in dataloader_v:\n",
        "  cnt += 1\n",
        "  model = model.eval()\n",
        "  xs = batch[\"facts\"]\n",
        "  ys = batch[\"casename\"]\n",
        "  ys = [casenames.index(y) for y in ys]\n",
        "\n",
        "  input_features = tokenizer(xs, padding=True, truncation=True, return_tensors=\"pt\")\n",
        "  input_ids = input_features[\"input_ids\"].to(device)\n",
        "  attention_mask = input_features[\"attention_mask\"].to(device)\n",
        "  label = torch.tensor(ys).to(device)\n",
        "\n",
        "  logit = model.forward(input_ids, attention_mask)\n",
        "  preds = logit.argmax(-1)\n",
        "  print(f\"GT: {label}\")\n",
        "  print(f\"PR: {preds}\")\n",
        "  if cnt > 10:\n",
        "    break"
      ],
      "metadata": {
        "colab": {
          "base_uri": "https://localhost:8080/"
        },
        "id": "bmNb4i2tHEdq",
        "outputId": "bf95bf58-e7dc-4958-c672-8b9dc850d30a"
      },
      "execution_count": null,
      "outputs": [
        {
          "output_type": "stream",
          "name": "stdout",
          "text": [
            "GT: tensor([0, 0, 0, 0, 0, 0, 0, 0, 0, 0, 1, 1, 1, 1, 1, 1, 1, 1, 1, 1, 2, 2, 2, 2,\n",
            "        2, 2, 2, 2, 2, 2, 3, 3, 3, 3, 3, 3])\n",
            "PR: tensor([ 0,  0,  0,  0,  0,  0,  0,  0,  0,  0,  1,  1,  1,  1,  1,  1,  1, 95,\n",
            "         1,  1,  3, 77, 77, 77, 77, 90, 77,  3, 10, 10,  3,  3,  3,  3, 60,  3])\n"
          ]
        }
      ]
    },
    {
      "cell_type": "code",
      "source": [
        "# Prediction without training"
      ],
      "metadata": {
        "id": "lmwCb8cezByB"
      },
      "execution_count": null,
      "outputs": []
    },
    {
      "cell_type": "code",
      "source": [
        "device = \"cpu\"\n",
        "model = model.to(device)\n",
        "cnt = 0\n",
        "for batch in dataloader_v:\n",
        "  cnt += 1\n",
        "  model = model.eval()\n",
        "  xs = batch[\"facts\"]\n",
        "  ys = batch[\"casename\"]\n",
        "  ys = [casenames.index(y) for y in ys]\n",
        "\n",
        "  input_features = tokenizer(xs, padding=True, truncation=True, return_tensors=\"pt\")\n",
        "  input_ids = input_features[\"input_ids\"].to(device)\n",
        "  attention_mask = input_features[\"attention_mask\"].to(device)\n",
        "  label = torch.tensor(ys).to(device)\n",
        "\n",
        "  logit = model.forward(input_ids, attention_mask)\n",
        "  preds = logit.argmax(-1)\n",
        "  print(f\"GT: {label}\")\n",
        "  print(f\"PR: {preds}\")\n",
        "  if cnt > 10:\n",
        "    break"
      ],
      "metadata": {
        "id": "wvdfNC7sEY0X"
      },
      "execution_count": null,
      "outputs": []
    }
  ],
  "metadata": {
    "kernelspec": {
      "display_name": "Python 3",
      "name": "python3"
    },
    "language_info": {
      "codemirror_mode": {
        "name": "ipython",
        "version": 3
      },
      "file_extension": ".py",
      "mimetype": "text/x-python",
      "name": "python",
      "nbconvert_exporter": "python",
      "pygments_lexer": "ipython3",
      "version": "3.9.12"
    },
    "orig_nbformat": 4,
    "colab": {
      "provenance": [],
      "gpuType": "T4"
    },
    "accelerator": "GPU",
    "widgets": {
      "application/vnd.jupyter.widget-state+json": {
        "75bd3baf3c774b54911fdaba15a4702a": {
          "model_module": "@jupyter-widgets/controls",
          "model_name": "HBoxModel",
          "model_module_version": "1.5.0",
          "state": {
            "_dom_classes": [],
            "_model_module": "@jupyter-widgets/controls",
            "_model_module_version": "1.5.0",
            "_model_name": "HBoxModel",
            "_view_count": null,
            "_view_module": "@jupyter-widgets/controls",
            "_view_module_version": "1.5.0",
            "_view_name": "HBoxView",
            "box_style": "",
            "children": [
              "IPY_MODEL_27acacd0f0f148abb005fec93aa1fe67",
              "IPY_MODEL_bbfac3cf6a94472dada1e709ebfe87ba",
              "IPY_MODEL_d7120f5af6c94109b5213d47719a0a79"
            ],
            "layout": "IPY_MODEL_6273c812a02a4677a784579383abf76d"
          }
        },
        "27acacd0f0f148abb005fec93aa1fe67": {
          "model_module": "@jupyter-widgets/controls",
          "model_name": "HTMLModel",
          "model_module_version": "1.5.0",
          "state": {
            "_dom_classes": [],
            "_model_module": "@jupyter-widgets/controls",
            "_model_module_version": "1.5.0",
            "_model_name": "HTMLModel",
            "_view_count": null,
            "_view_module": "@jupyter-widgets/controls",
            "_view_module_version": "1.5.0",
            "_view_name": "HTMLView",
            "description": "",
            "description_tooltip": null,
            "layout": "IPY_MODEL_24b138d8acdd420890ccf58f6313fe4e",
            "placeholder": "​",
            "style": "IPY_MODEL_749d0c7a64b14edd87d387a0d80b2451",
            "value": "Downloading data: 100%"
          }
        },
        "bbfac3cf6a94472dada1e709ebfe87ba": {
          "model_module": "@jupyter-widgets/controls",
          "model_name": "FloatProgressModel",
          "model_module_version": "1.5.0",
          "state": {
            "_dom_classes": [],
            "_model_module": "@jupyter-widgets/controls",
            "_model_module_version": "1.5.0",
            "_model_name": "FloatProgressModel",
            "_view_count": null,
            "_view_module": "@jupyter-widgets/controls",
            "_view_module_version": "1.5.0",
            "_view_name": "ProgressView",
            "bar_style": "success",
            "description": "",
            "description_tooltip": null,
            "layout": "IPY_MODEL_fa587eb822fb4f0d8621a2a6cf1ae887",
            "max": 5659020,
            "min": 0,
            "orientation": "horizontal",
            "style": "IPY_MODEL_b4e63fd2bbd748f2b7fd7c514f3be43f",
            "value": 5659020
          }
        },
        "d7120f5af6c94109b5213d47719a0a79": {
          "model_module": "@jupyter-widgets/controls",
          "model_name": "HTMLModel",
          "model_module_version": "1.5.0",
          "state": {
            "_dom_classes": [],
            "_model_module": "@jupyter-widgets/controls",
            "_model_module_version": "1.5.0",
            "_model_name": "HTMLModel",
            "_view_count": null,
            "_view_module": "@jupyter-widgets/controls",
            "_view_module_version": "1.5.0",
            "_view_name": "HTMLView",
            "description": "",
            "description_tooltip": null,
            "layout": "IPY_MODEL_3b94261603ba4b5bba7ed81552a9df98",
            "placeholder": "​",
            "style": "IPY_MODEL_3739dd914fb3474f81e6ab0744ddfff9",
            "value": " 5.66M/5.66M [00:00&lt;00:00, 11.8MB/s]"
          }
        },
        "6273c812a02a4677a784579383abf76d": {
          "model_module": "@jupyter-widgets/base",
          "model_name": "LayoutModel",
          "model_module_version": "1.2.0",
          "state": {
            "_model_module": "@jupyter-widgets/base",
            "_model_module_version": "1.2.0",
            "_model_name": "LayoutModel",
            "_view_count": null,
            "_view_module": "@jupyter-widgets/base",
            "_view_module_version": "1.2.0",
            "_view_name": "LayoutView",
            "align_content": null,
            "align_items": null,
            "align_self": null,
            "border": null,
            "bottom": null,
            "display": null,
            "flex": null,
            "flex_flow": null,
            "grid_area": null,
            "grid_auto_columns": null,
            "grid_auto_flow": null,
            "grid_auto_rows": null,
            "grid_column": null,
            "grid_gap": null,
            "grid_row": null,
            "grid_template_areas": null,
            "grid_template_columns": null,
            "grid_template_rows": null,
            "height": null,
            "justify_content": null,
            "justify_items": null,
            "left": null,
            "margin": null,
            "max_height": null,
            "max_width": null,
            "min_height": null,
            "min_width": null,
            "object_fit": null,
            "object_position": null,
            "order": null,
            "overflow": null,
            "overflow_x": null,
            "overflow_y": null,
            "padding": null,
            "right": null,
            "top": null,
            "visibility": null,
            "width": null
          }
        },
        "24b138d8acdd420890ccf58f6313fe4e": {
          "model_module": "@jupyter-widgets/base",
          "model_name": "LayoutModel",
          "model_module_version": "1.2.0",
          "state": {
            "_model_module": "@jupyter-widgets/base",
            "_model_module_version": "1.2.0",
            "_model_name": "LayoutModel",
            "_view_count": null,
            "_view_module": "@jupyter-widgets/base",
            "_view_module_version": "1.2.0",
            "_view_name": "LayoutView",
            "align_content": null,
            "align_items": null,
            "align_self": null,
            "border": null,
            "bottom": null,
            "display": null,
            "flex": null,
            "flex_flow": null,
            "grid_area": null,
            "grid_auto_columns": null,
            "grid_auto_flow": null,
            "grid_auto_rows": null,
            "grid_column": null,
            "grid_gap": null,
            "grid_row": null,
            "grid_template_areas": null,
            "grid_template_columns": null,
            "grid_template_rows": null,
            "height": null,
            "justify_content": null,
            "justify_items": null,
            "left": null,
            "margin": null,
            "max_height": null,
            "max_width": null,
            "min_height": null,
            "min_width": null,
            "object_fit": null,
            "object_position": null,
            "order": null,
            "overflow": null,
            "overflow_x": null,
            "overflow_y": null,
            "padding": null,
            "right": null,
            "top": null,
            "visibility": null,
            "width": null
          }
        },
        "749d0c7a64b14edd87d387a0d80b2451": {
          "model_module": "@jupyter-widgets/controls",
          "model_name": "DescriptionStyleModel",
          "model_module_version": "1.5.0",
          "state": {
            "_model_module": "@jupyter-widgets/controls",
            "_model_module_version": "1.5.0",
            "_model_name": "DescriptionStyleModel",
            "_view_count": null,
            "_view_module": "@jupyter-widgets/base",
            "_view_module_version": "1.2.0",
            "_view_name": "StyleView",
            "description_width": ""
          }
        },
        "fa587eb822fb4f0d8621a2a6cf1ae887": {
          "model_module": "@jupyter-widgets/base",
          "model_name": "LayoutModel",
          "model_module_version": "1.2.0",
          "state": {
            "_model_module": "@jupyter-widgets/base",
            "_model_module_version": "1.2.0",
            "_model_name": "LayoutModel",
            "_view_count": null,
            "_view_module": "@jupyter-widgets/base",
            "_view_module_version": "1.2.0",
            "_view_name": "LayoutView",
            "align_content": null,
            "align_items": null,
            "align_self": null,
            "border": null,
            "bottom": null,
            "display": null,
            "flex": null,
            "flex_flow": null,
            "grid_area": null,
            "grid_auto_columns": null,
            "grid_auto_flow": null,
            "grid_auto_rows": null,
            "grid_column": null,
            "grid_gap": null,
            "grid_row": null,
            "grid_template_areas": null,
            "grid_template_columns": null,
            "grid_template_rows": null,
            "height": null,
            "justify_content": null,
            "justify_items": null,
            "left": null,
            "margin": null,
            "max_height": null,
            "max_width": null,
            "min_height": null,
            "min_width": null,
            "object_fit": null,
            "object_position": null,
            "order": null,
            "overflow": null,
            "overflow_x": null,
            "overflow_y": null,
            "padding": null,
            "right": null,
            "top": null,
            "visibility": null,
            "width": null
          }
        },
        "b4e63fd2bbd748f2b7fd7c514f3be43f": {
          "model_module": "@jupyter-widgets/controls",
          "model_name": "ProgressStyleModel",
          "model_module_version": "1.5.0",
          "state": {
            "_model_module": "@jupyter-widgets/controls",
            "_model_module_version": "1.5.0",
            "_model_name": "ProgressStyleModel",
            "_view_count": null,
            "_view_module": "@jupyter-widgets/base",
            "_view_module_version": "1.2.0",
            "_view_name": "StyleView",
            "bar_color": null,
            "description_width": ""
          }
        },
        "3b94261603ba4b5bba7ed81552a9df98": {
          "model_module": "@jupyter-widgets/base",
          "model_name": "LayoutModel",
          "model_module_version": "1.2.0",
          "state": {
            "_model_module": "@jupyter-widgets/base",
            "_model_module_version": "1.2.0",
            "_model_name": "LayoutModel",
            "_view_count": null,
            "_view_module": "@jupyter-widgets/base",
            "_view_module_version": "1.2.0",
            "_view_name": "LayoutView",
            "align_content": null,
            "align_items": null,
            "align_self": null,
            "border": null,
            "bottom": null,
            "display": null,
            "flex": null,
            "flex_flow": null,
            "grid_area": null,
            "grid_auto_columns": null,
            "grid_auto_flow": null,
            "grid_auto_rows": null,
            "grid_column": null,
            "grid_gap": null,
            "grid_row": null,
            "grid_template_areas": null,
            "grid_template_columns": null,
            "grid_template_rows": null,
            "height": null,
            "justify_content": null,
            "justify_items": null,
            "left": null,
            "margin": null,
            "max_height": null,
            "max_width": null,
            "min_height": null,
            "min_width": null,
            "object_fit": null,
            "object_position": null,
            "order": null,
            "overflow": null,
            "overflow_x": null,
            "overflow_y": null,
            "padding": null,
            "right": null,
            "top": null,
            "visibility": null,
            "width": null
          }
        },
        "3739dd914fb3474f81e6ab0744ddfff9": {
          "model_module": "@jupyter-widgets/controls",
          "model_name": "DescriptionStyleModel",
          "model_module_version": "1.5.0",
          "state": {
            "_model_module": "@jupyter-widgets/controls",
            "_model_module_version": "1.5.0",
            "_model_name": "DescriptionStyleModel",
            "_view_count": null,
            "_view_module": "@jupyter-widgets/base",
            "_view_module_version": "1.2.0",
            "_view_name": "StyleView",
            "description_width": ""
          }
        },
        "3772c14c15814234873b8f512204c4cf": {
          "model_module": "@jupyter-widgets/controls",
          "model_name": "HBoxModel",
          "model_module_version": "1.5.0",
          "state": {
            "_dom_classes": [],
            "_model_module": "@jupyter-widgets/controls",
            "_model_module_version": "1.5.0",
            "_model_name": "HBoxModel",
            "_view_count": null,
            "_view_module": "@jupyter-widgets/controls",
            "_view_module_version": "1.5.0",
            "_view_name": "HBoxView",
            "box_style": "",
            "children": [
              "IPY_MODEL_660801fb3ce148d7a52cff8b21b8c240",
              "IPY_MODEL_054c7503aab245f19a277ced65bb9cdb",
              "IPY_MODEL_35d1ca327ea04034b4c13e50c29741b8"
            ],
            "layout": "IPY_MODEL_d952f7f397c84cc98934c0e9c61aee5b"
          }
        },
        "660801fb3ce148d7a52cff8b21b8c240": {
          "model_module": "@jupyter-widgets/controls",
          "model_name": "HTMLModel",
          "model_module_version": "1.5.0",
          "state": {
            "_dom_classes": [],
            "_model_module": "@jupyter-widgets/controls",
            "_model_module_version": "1.5.0",
            "_model_name": "HTMLModel",
            "_view_count": null,
            "_view_module": "@jupyter-widgets/controls",
            "_view_module_version": "1.5.0",
            "_view_name": "HTMLView",
            "description": "",
            "description_tooltip": null,
            "layout": "IPY_MODEL_fa74025a75604cdabc81eace57b8804d",
            "placeholder": "​",
            "style": "IPY_MODEL_bd1b4e461edc44dc99b00a9ab3139261",
            "value": "Downloading data: 100%"
          }
        },
        "054c7503aab245f19a277ced65bb9cdb": {
          "model_module": "@jupyter-widgets/controls",
          "model_name": "FloatProgressModel",
          "model_module_version": "1.5.0",
          "state": {
            "_dom_classes": [],
            "_model_module": "@jupyter-widgets/controls",
            "_model_module_version": "1.5.0",
            "_model_name": "FloatProgressModel",
            "_view_count": null,
            "_view_module": "@jupyter-widgets/controls",
            "_view_module_version": "1.5.0",
            "_view_name": "ProgressView",
            "bar_style": "success",
            "description": "",
            "description_tooltip": null,
            "layout": "IPY_MODEL_63f933cdad8c42a98a7555271a736d61",
            "max": 738856,
            "min": 0,
            "orientation": "horizontal",
            "style": "IPY_MODEL_b67dd7005a274cbd9934351bd7a2c15a",
            "value": 738856
          }
        },
        "35d1ca327ea04034b4c13e50c29741b8": {
          "model_module": "@jupyter-widgets/controls",
          "model_name": "HTMLModel",
          "model_module_version": "1.5.0",
          "state": {
            "_dom_classes": [],
            "_model_module": "@jupyter-widgets/controls",
            "_model_module_version": "1.5.0",
            "_model_name": "HTMLModel",
            "_view_count": null,
            "_view_module": "@jupyter-widgets/controls",
            "_view_module_version": "1.5.0",
            "_view_name": "HTMLView",
            "description": "",
            "description_tooltip": null,
            "layout": "IPY_MODEL_812b23afd43349dcb497bdd74645cd14",
            "placeholder": "​",
            "style": "IPY_MODEL_2de935f74c2046589fe1d619aedbfc20",
            "value": " 739k/739k [00:00&lt;00:00, 4.04MB/s]"
          }
        },
        "d952f7f397c84cc98934c0e9c61aee5b": {
          "model_module": "@jupyter-widgets/base",
          "model_name": "LayoutModel",
          "model_module_version": "1.2.0",
          "state": {
            "_model_module": "@jupyter-widgets/base",
            "_model_module_version": "1.2.0",
            "_model_name": "LayoutModel",
            "_view_count": null,
            "_view_module": "@jupyter-widgets/base",
            "_view_module_version": "1.2.0",
            "_view_name": "LayoutView",
            "align_content": null,
            "align_items": null,
            "align_self": null,
            "border": null,
            "bottom": null,
            "display": null,
            "flex": null,
            "flex_flow": null,
            "grid_area": null,
            "grid_auto_columns": null,
            "grid_auto_flow": null,
            "grid_auto_rows": null,
            "grid_column": null,
            "grid_gap": null,
            "grid_row": null,
            "grid_template_areas": null,
            "grid_template_columns": null,
            "grid_template_rows": null,
            "height": null,
            "justify_content": null,
            "justify_items": null,
            "left": null,
            "margin": null,
            "max_height": null,
            "max_width": null,
            "min_height": null,
            "min_width": null,
            "object_fit": null,
            "object_position": null,
            "order": null,
            "overflow": null,
            "overflow_x": null,
            "overflow_y": null,
            "padding": null,
            "right": null,
            "top": null,
            "visibility": null,
            "width": null
          }
        },
        "fa74025a75604cdabc81eace57b8804d": {
          "model_module": "@jupyter-widgets/base",
          "model_name": "LayoutModel",
          "model_module_version": "1.2.0",
          "state": {
            "_model_module": "@jupyter-widgets/base",
            "_model_module_version": "1.2.0",
            "_model_name": "LayoutModel",
            "_view_count": null,
            "_view_module": "@jupyter-widgets/base",
            "_view_module_version": "1.2.0",
            "_view_name": "LayoutView",
            "align_content": null,
            "align_items": null,
            "align_self": null,
            "border": null,
            "bottom": null,
            "display": null,
            "flex": null,
            "flex_flow": null,
            "grid_area": null,
            "grid_auto_columns": null,
            "grid_auto_flow": null,
            "grid_auto_rows": null,
            "grid_column": null,
            "grid_gap": null,
            "grid_row": null,
            "grid_template_areas": null,
            "grid_template_columns": null,
            "grid_template_rows": null,
            "height": null,
            "justify_content": null,
            "justify_items": null,
            "left": null,
            "margin": null,
            "max_height": null,
            "max_width": null,
            "min_height": null,
            "min_width": null,
            "object_fit": null,
            "object_position": null,
            "order": null,
            "overflow": null,
            "overflow_x": null,
            "overflow_y": null,
            "padding": null,
            "right": null,
            "top": null,
            "visibility": null,
            "width": null
          }
        },
        "bd1b4e461edc44dc99b00a9ab3139261": {
          "model_module": "@jupyter-widgets/controls",
          "model_name": "DescriptionStyleModel",
          "model_module_version": "1.5.0",
          "state": {
            "_model_module": "@jupyter-widgets/controls",
            "_model_module_version": "1.5.0",
            "_model_name": "DescriptionStyleModel",
            "_view_count": null,
            "_view_module": "@jupyter-widgets/base",
            "_view_module_version": "1.2.0",
            "_view_name": "StyleView",
            "description_width": ""
          }
        },
        "63f933cdad8c42a98a7555271a736d61": {
          "model_module": "@jupyter-widgets/base",
          "model_name": "LayoutModel",
          "model_module_version": "1.2.0",
          "state": {
            "_model_module": "@jupyter-widgets/base",
            "_model_module_version": "1.2.0",
            "_model_name": "LayoutModel",
            "_view_count": null,
            "_view_module": "@jupyter-widgets/base",
            "_view_module_version": "1.2.0",
            "_view_name": "LayoutView",
            "align_content": null,
            "align_items": null,
            "align_self": null,
            "border": null,
            "bottom": null,
            "display": null,
            "flex": null,
            "flex_flow": null,
            "grid_area": null,
            "grid_auto_columns": null,
            "grid_auto_flow": null,
            "grid_auto_rows": null,
            "grid_column": null,
            "grid_gap": null,
            "grid_row": null,
            "grid_template_areas": null,
            "grid_template_columns": null,
            "grid_template_rows": null,
            "height": null,
            "justify_content": null,
            "justify_items": null,
            "left": null,
            "margin": null,
            "max_height": null,
            "max_width": null,
            "min_height": null,
            "min_width": null,
            "object_fit": null,
            "object_position": null,
            "order": null,
            "overflow": null,
            "overflow_x": null,
            "overflow_y": null,
            "padding": null,
            "right": null,
            "top": null,
            "visibility": null,
            "width": null
          }
        },
        "b67dd7005a274cbd9934351bd7a2c15a": {
          "model_module": "@jupyter-widgets/controls",
          "model_name": "ProgressStyleModel",
          "model_module_version": "1.5.0",
          "state": {
            "_model_module": "@jupyter-widgets/controls",
            "_model_module_version": "1.5.0",
            "_model_name": "ProgressStyleModel",
            "_view_count": null,
            "_view_module": "@jupyter-widgets/base",
            "_view_module_version": "1.2.0",
            "_view_name": "StyleView",
            "bar_color": null,
            "description_width": ""
          }
        },
        "812b23afd43349dcb497bdd74645cd14": {
          "model_module": "@jupyter-widgets/base",
          "model_name": "LayoutModel",
          "model_module_version": "1.2.0",
          "state": {
            "_model_module": "@jupyter-widgets/base",
            "_model_module_version": "1.2.0",
            "_model_name": "LayoutModel",
            "_view_count": null,
            "_view_module": "@jupyter-widgets/base",
            "_view_module_version": "1.2.0",
            "_view_name": "LayoutView",
            "align_content": null,
            "align_items": null,
            "align_self": null,
            "border": null,
            "bottom": null,
            "display": null,
            "flex": null,
            "flex_flow": null,
            "grid_area": null,
            "grid_auto_columns": null,
            "grid_auto_flow": null,
            "grid_auto_rows": null,
            "grid_column": null,
            "grid_gap": null,
            "grid_row": null,
            "grid_template_areas": null,
            "grid_template_columns": null,
            "grid_template_rows": null,
            "height": null,
            "justify_content": null,
            "justify_items": null,
            "left": null,
            "margin": null,
            "max_height": null,
            "max_width": null,
            "min_height": null,
            "min_width": null,
            "object_fit": null,
            "object_position": null,
            "order": null,
            "overflow": null,
            "overflow_x": null,
            "overflow_y": null,
            "padding": null,
            "right": null,
            "top": null,
            "visibility": null,
            "width": null
          }
        },
        "2de935f74c2046589fe1d619aedbfc20": {
          "model_module": "@jupyter-widgets/controls",
          "model_name": "DescriptionStyleModel",
          "model_module_version": "1.5.0",
          "state": {
            "_model_module": "@jupyter-widgets/controls",
            "_model_module_version": "1.5.0",
            "_model_name": "DescriptionStyleModel",
            "_view_count": null,
            "_view_module": "@jupyter-widgets/base",
            "_view_module_version": "1.2.0",
            "_view_name": "StyleView",
            "description_width": ""
          }
        },
        "f828ef34bc344d11865a32783319ddd7": {
          "model_module": "@jupyter-widgets/controls",
          "model_name": "HBoxModel",
          "model_module_version": "1.5.0",
          "state": {
            "_dom_classes": [],
            "_model_module": "@jupyter-widgets/controls",
            "_model_module_version": "1.5.0",
            "_model_name": "HBoxModel",
            "_view_count": null,
            "_view_module": "@jupyter-widgets/controls",
            "_view_module_version": "1.5.0",
            "_view_name": "HBoxView",
            "box_style": "",
            "children": [
              "IPY_MODEL_e09f111ad2d740849ecce4b3baddaddc",
              "IPY_MODEL_63060230c87e4566a4676a1fd6c3d873",
              "IPY_MODEL_7580f399b000436099e27a38c3e6cd77"
            ],
            "layout": "IPY_MODEL_17e06dd69dc848e28fc2bb788d4a2586"
          }
        },
        "e09f111ad2d740849ecce4b3baddaddc": {
          "model_module": "@jupyter-widgets/controls",
          "model_name": "HTMLModel",
          "model_module_version": "1.5.0",
          "state": {
            "_dom_classes": [],
            "_model_module": "@jupyter-widgets/controls",
            "_model_module_version": "1.5.0",
            "_model_name": "HTMLModel",
            "_view_count": null,
            "_view_module": "@jupyter-widgets/controls",
            "_view_module_version": "1.5.0",
            "_view_name": "HTMLView",
            "description": "",
            "description_tooltip": null,
            "layout": "IPY_MODEL_71851307616c4db381866b60926d427a",
            "placeholder": "​",
            "style": "IPY_MODEL_1f07d95aa0c442babb67f218894da545",
            "value": "Downloading data: 100%"
          }
        },
        "63060230c87e4566a4676a1fd6c3d873": {
          "model_module": "@jupyter-widgets/controls",
          "model_name": "FloatProgressModel",
          "model_module_version": "1.5.0",
          "state": {
            "_dom_classes": [],
            "_model_module": "@jupyter-widgets/controls",
            "_model_module_version": "1.5.0",
            "_model_name": "FloatProgressModel",
            "_view_count": null,
            "_view_module": "@jupyter-widgets/controls",
            "_view_module_version": "1.5.0",
            "_view_name": "ProgressView",
            "bar_style": "success",
            "description": "",
            "description_tooltip": null,
            "layout": "IPY_MODEL_4a6555915ba343bdb5eebef6860be0b5",
            "max": 743044,
            "min": 0,
            "orientation": "horizontal",
            "style": "IPY_MODEL_00713d57854041e284bc96302bc3dae2",
            "value": 743044
          }
        },
        "7580f399b000436099e27a38c3e6cd77": {
          "model_module": "@jupyter-widgets/controls",
          "model_name": "HTMLModel",
          "model_module_version": "1.5.0",
          "state": {
            "_dom_classes": [],
            "_model_module": "@jupyter-widgets/controls",
            "_model_module_version": "1.5.0",
            "_model_name": "HTMLModel",
            "_view_count": null,
            "_view_module": "@jupyter-widgets/controls",
            "_view_module_version": "1.5.0",
            "_view_name": "HTMLView",
            "description": "",
            "description_tooltip": null,
            "layout": "IPY_MODEL_862d03d2d1454d2eaa565948fedbc46e",
            "placeholder": "​",
            "style": "IPY_MODEL_41323983b7024036b4a692ce427d78fa",
            "value": " 743k/743k [00:00&lt;00:00, 5.04MB/s]"
          }
        },
        "17e06dd69dc848e28fc2bb788d4a2586": {
          "model_module": "@jupyter-widgets/base",
          "model_name": "LayoutModel",
          "model_module_version": "1.2.0",
          "state": {
            "_model_module": "@jupyter-widgets/base",
            "_model_module_version": "1.2.0",
            "_model_name": "LayoutModel",
            "_view_count": null,
            "_view_module": "@jupyter-widgets/base",
            "_view_module_version": "1.2.0",
            "_view_name": "LayoutView",
            "align_content": null,
            "align_items": null,
            "align_self": null,
            "border": null,
            "bottom": null,
            "display": null,
            "flex": null,
            "flex_flow": null,
            "grid_area": null,
            "grid_auto_columns": null,
            "grid_auto_flow": null,
            "grid_auto_rows": null,
            "grid_column": null,
            "grid_gap": null,
            "grid_row": null,
            "grid_template_areas": null,
            "grid_template_columns": null,
            "grid_template_rows": null,
            "height": null,
            "justify_content": null,
            "justify_items": null,
            "left": null,
            "margin": null,
            "max_height": null,
            "max_width": null,
            "min_height": null,
            "min_width": null,
            "object_fit": null,
            "object_position": null,
            "order": null,
            "overflow": null,
            "overflow_x": null,
            "overflow_y": null,
            "padding": null,
            "right": null,
            "top": null,
            "visibility": null,
            "width": null
          }
        },
        "71851307616c4db381866b60926d427a": {
          "model_module": "@jupyter-widgets/base",
          "model_name": "LayoutModel",
          "model_module_version": "1.2.0",
          "state": {
            "_model_module": "@jupyter-widgets/base",
            "_model_module_version": "1.2.0",
            "_model_name": "LayoutModel",
            "_view_count": null,
            "_view_module": "@jupyter-widgets/base",
            "_view_module_version": "1.2.0",
            "_view_name": "LayoutView",
            "align_content": null,
            "align_items": null,
            "align_self": null,
            "border": null,
            "bottom": null,
            "display": null,
            "flex": null,
            "flex_flow": null,
            "grid_area": null,
            "grid_auto_columns": null,
            "grid_auto_flow": null,
            "grid_auto_rows": null,
            "grid_column": null,
            "grid_gap": null,
            "grid_row": null,
            "grid_template_areas": null,
            "grid_template_columns": null,
            "grid_template_rows": null,
            "height": null,
            "justify_content": null,
            "justify_items": null,
            "left": null,
            "margin": null,
            "max_height": null,
            "max_width": null,
            "min_height": null,
            "min_width": null,
            "object_fit": null,
            "object_position": null,
            "order": null,
            "overflow": null,
            "overflow_x": null,
            "overflow_y": null,
            "padding": null,
            "right": null,
            "top": null,
            "visibility": null,
            "width": null
          }
        },
        "1f07d95aa0c442babb67f218894da545": {
          "model_module": "@jupyter-widgets/controls",
          "model_name": "DescriptionStyleModel",
          "model_module_version": "1.5.0",
          "state": {
            "_model_module": "@jupyter-widgets/controls",
            "_model_module_version": "1.5.0",
            "_model_name": "DescriptionStyleModel",
            "_view_count": null,
            "_view_module": "@jupyter-widgets/base",
            "_view_module_version": "1.2.0",
            "_view_name": "StyleView",
            "description_width": ""
          }
        },
        "4a6555915ba343bdb5eebef6860be0b5": {
          "model_module": "@jupyter-widgets/base",
          "model_name": "LayoutModel",
          "model_module_version": "1.2.0",
          "state": {
            "_model_module": "@jupyter-widgets/base",
            "_model_module_version": "1.2.0",
            "_model_name": "LayoutModel",
            "_view_count": null,
            "_view_module": "@jupyter-widgets/base",
            "_view_module_version": "1.2.0",
            "_view_name": "LayoutView",
            "align_content": null,
            "align_items": null,
            "align_self": null,
            "border": null,
            "bottom": null,
            "display": null,
            "flex": null,
            "flex_flow": null,
            "grid_area": null,
            "grid_auto_columns": null,
            "grid_auto_flow": null,
            "grid_auto_rows": null,
            "grid_column": null,
            "grid_gap": null,
            "grid_row": null,
            "grid_template_areas": null,
            "grid_template_columns": null,
            "grid_template_rows": null,
            "height": null,
            "justify_content": null,
            "justify_items": null,
            "left": null,
            "margin": null,
            "max_height": null,
            "max_width": null,
            "min_height": null,
            "min_width": null,
            "object_fit": null,
            "object_position": null,
            "order": null,
            "overflow": null,
            "overflow_x": null,
            "overflow_y": null,
            "padding": null,
            "right": null,
            "top": null,
            "visibility": null,
            "width": null
          }
        },
        "00713d57854041e284bc96302bc3dae2": {
          "model_module": "@jupyter-widgets/controls",
          "model_name": "ProgressStyleModel",
          "model_module_version": "1.5.0",
          "state": {
            "_model_module": "@jupyter-widgets/controls",
            "_model_module_version": "1.5.0",
            "_model_name": "ProgressStyleModel",
            "_view_count": null,
            "_view_module": "@jupyter-widgets/base",
            "_view_module_version": "1.2.0",
            "_view_name": "StyleView",
            "bar_color": null,
            "description_width": ""
          }
        },
        "862d03d2d1454d2eaa565948fedbc46e": {
          "model_module": "@jupyter-widgets/base",
          "model_name": "LayoutModel",
          "model_module_version": "1.2.0",
          "state": {
            "_model_module": "@jupyter-widgets/base",
            "_model_module_version": "1.2.0",
            "_model_name": "LayoutModel",
            "_view_count": null,
            "_view_module": "@jupyter-widgets/base",
            "_view_module_version": "1.2.0",
            "_view_name": "LayoutView",
            "align_content": null,
            "align_items": null,
            "align_self": null,
            "border": null,
            "bottom": null,
            "display": null,
            "flex": null,
            "flex_flow": null,
            "grid_area": null,
            "grid_auto_columns": null,
            "grid_auto_flow": null,
            "grid_auto_rows": null,
            "grid_column": null,
            "grid_gap": null,
            "grid_row": null,
            "grid_template_areas": null,
            "grid_template_columns": null,
            "grid_template_rows": null,
            "height": null,
            "justify_content": null,
            "justify_items": null,
            "left": null,
            "margin": null,
            "max_height": null,
            "max_width": null,
            "min_height": null,
            "min_width": null,
            "object_fit": null,
            "object_position": null,
            "order": null,
            "overflow": null,
            "overflow_x": null,
            "overflow_y": null,
            "padding": null,
            "right": null,
            "top": null,
            "visibility": null,
            "width": null
          }
        },
        "41323983b7024036b4a692ce427d78fa": {
          "model_module": "@jupyter-widgets/controls",
          "model_name": "DescriptionStyleModel",
          "model_module_version": "1.5.0",
          "state": {
            "_model_module": "@jupyter-widgets/controls",
            "_model_module_version": "1.5.0",
            "_model_name": "DescriptionStyleModel",
            "_view_count": null,
            "_view_module": "@jupyter-widgets/base",
            "_view_module_version": "1.2.0",
            "_view_name": "StyleView",
            "description_width": ""
          }
        },
        "666e29f397a842f2831c39ae6470bbec": {
          "model_module": "@jupyter-widgets/controls",
          "model_name": "HBoxModel",
          "model_module_version": "1.5.0",
          "state": {
            "_dom_classes": [],
            "_model_module": "@jupyter-widgets/controls",
            "_model_module_version": "1.5.0",
            "_model_name": "HBoxModel",
            "_view_count": null,
            "_view_module": "@jupyter-widgets/controls",
            "_view_module_version": "1.5.0",
            "_view_name": "HBoxView",
            "box_style": "",
            "children": [
              "IPY_MODEL_4ea311ae869241a3ac80076dae832fdd",
              "IPY_MODEL_1123e53ab9e84e63888796d1ff0988df",
              "IPY_MODEL_c9e2d3d1a2dd4e65b587dd92f8a02180"
            ],
            "layout": "IPY_MODEL_4b27452f89404ae080b84f5aede1bd75"
          }
        },
        "4ea311ae869241a3ac80076dae832fdd": {
          "model_module": "@jupyter-widgets/controls",
          "model_name": "HTMLModel",
          "model_module_version": "1.5.0",
          "state": {
            "_dom_classes": [],
            "_model_module": "@jupyter-widgets/controls",
            "_model_module_version": "1.5.0",
            "_model_name": "HTMLModel",
            "_view_count": null,
            "_view_module": "@jupyter-widgets/controls",
            "_view_module_version": "1.5.0",
            "_view_name": "HTMLView",
            "description": "",
            "description_tooltip": null,
            "layout": "IPY_MODEL_444d769b43524882a0d1e087da831938",
            "placeholder": "​",
            "style": "IPY_MODEL_2c397c90a973489792a78ef153791352",
            "value": "Downloading data: 100%"
          }
        },
        "1123e53ab9e84e63888796d1ff0988df": {
          "model_module": "@jupyter-widgets/controls",
          "model_name": "FloatProgressModel",
          "model_module_version": "1.5.0",
          "state": {
            "_dom_classes": [],
            "_model_module": "@jupyter-widgets/controls",
            "_model_module_version": "1.5.0",
            "_model_name": "FloatProgressModel",
            "_view_count": null,
            "_view_module": "@jupyter-widgets/controls",
            "_view_module_version": "1.5.0",
            "_view_name": "ProgressView",
            "bar_style": "success",
            "description": "",
            "description_tooltip": null,
            "layout": "IPY_MODEL_eb606aeb559a4e31a63e6aa2f7686296",
            "max": 889522,
            "min": 0,
            "orientation": "horizontal",
            "style": "IPY_MODEL_d9d13982bd144911b3cb2464164a2320",
            "value": 889522
          }
        },
        "c9e2d3d1a2dd4e65b587dd92f8a02180": {
          "model_module": "@jupyter-widgets/controls",
          "model_name": "HTMLModel",
          "model_module_version": "1.5.0",
          "state": {
            "_dom_classes": [],
            "_model_module": "@jupyter-widgets/controls",
            "_model_module_version": "1.5.0",
            "_model_name": "HTMLModel",
            "_view_count": null,
            "_view_module": "@jupyter-widgets/controls",
            "_view_module_version": "1.5.0",
            "_view_name": "HTMLView",
            "description": "",
            "description_tooltip": null,
            "layout": "IPY_MODEL_b1f19ccdc04e4c989c599c90bcd08707",
            "placeholder": "​",
            "style": "IPY_MODEL_1c7e60092d104901874f8f111c4eb693",
            "value": " 890k/890k [00:00&lt;00:00, 5.79MB/s]"
          }
        },
        "4b27452f89404ae080b84f5aede1bd75": {
          "model_module": "@jupyter-widgets/base",
          "model_name": "LayoutModel",
          "model_module_version": "1.2.0",
          "state": {
            "_model_module": "@jupyter-widgets/base",
            "_model_module_version": "1.2.0",
            "_model_name": "LayoutModel",
            "_view_count": null,
            "_view_module": "@jupyter-widgets/base",
            "_view_module_version": "1.2.0",
            "_view_name": "LayoutView",
            "align_content": null,
            "align_items": null,
            "align_self": null,
            "border": null,
            "bottom": null,
            "display": null,
            "flex": null,
            "flex_flow": null,
            "grid_area": null,
            "grid_auto_columns": null,
            "grid_auto_flow": null,
            "grid_auto_rows": null,
            "grid_column": null,
            "grid_gap": null,
            "grid_row": null,
            "grid_template_areas": null,
            "grid_template_columns": null,
            "grid_template_rows": null,
            "height": null,
            "justify_content": null,
            "justify_items": null,
            "left": null,
            "margin": null,
            "max_height": null,
            "max_width": null,
            "min_height": null,
            "min_width": null,
            "object_fit": null,
            "object_position": null,
            "order": null,
            "overflow": null,
            "overflow_x": null,
            "overflow_y": null,
            "padding": null,
            "right": null,
            "top": null,
            "visibility": null,
            "width": null
          }
        },
        "444d769b43524882a0d1e087da831938": {
          "model_module": "@jupyter-widgets/base",
          "model_name": "LayoutModel",
          "model_module_version": "1.2.0",
          "state": {
            "_model_module": "@jupyter-widgets/base",
            "_model_module_version": "1.2.0",
            "_model_name": "LayoutModel",
            "_view_count": null,
            "_view_module": "@jupyter-widgets/base",
            "_view_module_version": "1.2.0",
            "_view_name": "LayoutView",
            "align_content": null,
            "align_items": null,
            "align_self": null,
            "border": null,
            "bottom": null,
            "display": null,
            "flex": null,
            "flex_flow": null,
            "grid_area": null,
            "grid_auto_columns": null,
            "grid_auto_flow": null,
            "grid_auto_rows": null,
            "grid_column": null,
            "grid_gap": null,
            "grid_row": null,
            "grid_template_areas": null,
            "grid_template_columns": null,
            "grid_template_rows": null,
            "height": null,
            "justify_content": null,
            "justify_items": null,
            "left": null,
            "margin": null,
            "max_height": null,
            "max_width": null,
            "min_height": null,
            "min_width": null,
            "object_fit": null,
            "object_position": null,
            "order": null,
            "overflow": null,
            "overflow_x": null,
            "overflow_y": null,
            "padding": null,
            "right": null,
            "top": null,
            "visibility": null,
            "width": null
          }
        },
        "2c397c90a973489792a78ef153791352": {
          "model_module": "@jupyter-widgets/controls",
          "model_name": "DescriptionStyleModel",
          "model_module_version": "1.5.0",
          "state": {
            "_model_module": "@jupyter-widgets/controls",
            "_model_module_version": "1.5.0",
            "_model_name": "DescriptionStyleModel",
            "_view_count": null,
            "_view_module": "@jupyter-widgets/base",
            "_view_module_version": "1.2.0",
            "_view_name": "StyleView",
            "description_width": ""
          }
        },
        "eb606aeb559a4e31a63e6aa2f7686296": {
          "model_module": "@jupyter-widgets/base",
          "model_name": "LayoutModel",
          "model_module_version": "1.2.0",
          "state": {
            "_model_module": "@jupyter-widgets/base",
            "_model_module_version": "1.2.0",
            "_model_name": "LayoutModel",
            "_view_count": null,
            "_view_module": "@jupyter-widgets/base",
            "_view_module_version": "1.2.0",
            "_view_name": "LayoutView",
            "align_content": null,
            "align_items": null,
            "align_self": null,
            "border": null,
            "bottom": null,
            "display": null,
            "flex": null,
            "flex_flow": null,
            "grid_area": null,
            "grid_auto_columns": null,
            "grid_auto_flow": null,
            "grid_auto_rows": null,
            "grid_column": null,
            "grid_gap": null,
            "grid_row": null,
            "grid_template_areas": null,
            "grid_template_columns": null,
            "grid_template_rows": null,
            "height": null,
            "justify_content": null,
            "justify_items": null,
            "left": null,
            "margin": null,
            "max_height": null,
            "max_width": null,
            "min_height": null,
            "min_width": null,
            "object_fit": null,
            "object_position": null,
            "order": null,
            "overflow": null,
            "overflow_x": null,
            "overflow_y": null,
            "padding": null,
            "right": null,
            "top": null,
            "visibility": null,
            "width": null
          }
        },
        "d9d13982bd144911b3cb2464164a2320": {
          "model_module": "@jupyter-widgets/controls",
          "model_name": "ProgressStyleModel",
          "model_module_version": "1.5.0",
          "state": {
            "_model_module": "@jupyter-widgets/controls",
            "_model_module_version": "1.5.0",
            "_model_name": "ProgressStyleModel",
            "_view_count": null,
            "_view_module": "@jupyter-widgets/base",
            "_view_module_version": "1.2.0",
            "_view_name": "StyleView",
            "bar_color": null,
            "description_width": ""
          }
        },
        "b1f19ccdc04e4c989c599c90bcd08707": {
          "model_module": "@jupyter-widgets/base",
          "model_name": "LayoutModel",
          "model_module_version": "1.2.0",
          "state": {
            "_model_module": "@jupyter-widgets/base",
            "_model_module_version": "1.2.0",
            "_model_name": "LayoutModel",
            "_view_count": null,
            "_view_module": "@jupyter-widgets/base",
            "_view_module_version": "1.2.0",
            "_view_name": "LayoutView",
            "align_content": null,
            "align_items": null,
            "align_self": null,
            "border": null,
            "bottom": null,
            "display": null,
            "flex": null,
            "flex_flow": null,
            "grid_area": null,
            "grid_auto_columns": null,
            "grid_auto_flow": null,
            "grid_auto_rows": null,
            "grid_column": null,
            "grid_gap": null,
            "grid_row": null,
            "grid_template_areas": null,
            "grid_template_columns": null,
            "grid_template_rows": null,
            "height": null,
            "justify_content": null,
            "justify_items": null,
            "left": null,
            "margin": null,
            "max_height": null,
            "max_width": null,
            "min_height": null,
            "min_width": null,
            "object_fit": null,
            "object_position": null,
            "order": null,
            "overflow": null,
            "overflow_x": null,
            "overflow_y": null,
            "padding": null,
            "right": null,
            "top": null,
            "visibility": null,
            "width": null
          }
        },
        "1c7e60092d104901874f8f111c4eb693": {
          "model_module": "@jupyter-widgets/controls",
          "model_name": "DescriptionStyleModel",
          "model_module_version": "1.5.0",
          "state": {
            "_model_module": "@jupyter-widgets/controls",
            "_model_module_version": "1.5.0",
            "_model_name": "DescriptionStyleModel",
            "_view_count": null,
            "_view_module": "@jupyter-widgets/base",
            "_view_module_version": "1.2.0",
            "_view_name": "StyleView",
            "description_width": ""
          }
        },
        "50939fc029cd43bb8d105c519e105c1d": {
          "model_module": "@jupyter-widgets/controls",
          "model_name": "HBoxModel",
          "model_module_version": "1.5.0",
          "state": {
            "_dom_classes": [],
            "_model_module": "@jupyter-widgets/controls",
            "_model_module_version": "1.5.0",
            "_model_name": "HBoxModel",
            "_view_count": null,
            "_view_module": "@jupyter-widgets/controls",
            "_view_module_version": "1.5.0",
            "_view_name": "HBoxView",
            "box_style": "",
            "children": [
              "IPY_MODEL_25057b8d8db44939a0873fa167577a5f",
              "IPY_MODEL_1fac0decf5a742c7835b14100769d2bc",
              "IPY_MODEL_ce5086cc65e943aea5cb7197e45c0ed3"
            ],
            "layout": "IPY_MODEL_0566f74ee2b44f449985c5ff35317ed6"
          }
        },
        "25057b8d8db44939a0873fa167577a5f": {
          "model_module": "@jupyter-widgets/controls",
          "model_name": "HTMLModel",
          "model_module_version": "1.5.0",
          "state": {
            "_dom_classes": [],
            "_model_module": "@jupyter-widgets/controls",
            "_model_module_version": "1.5.0",
            "_model_name": "HTMLModel",
            "_view_count": null,
            "_view_module": "@jupyter-widgets/controls",
            "_view_module_version": "1.5.0",
            "_view_name": "HTMLView",
            "description": "",
            "description_tooltip": null,
            "layout": "IPY_MODEL_4e8cd850fa4642be958c1f462cb25e5b",
            "placeholder": "​",
            "style": "IPY_MODEL_63b2cf40789e4b4591c025a09d0b7297",
            "value": "Generating train split: 100%"
          }
        },
        "1fac0decf5a742c7835b14100769d2bc": {
          "model_module": "@jupyter-widgets/controls",
          "model_name": "FloatProgressModel",
          "model_module_version": "1.5.0",
          "state": {
            "_dom_classes": [],
            "_model_module": "@jupyter-widgets/controls",
            "_model_module_version": "1.5.0",
            "_model_name": "FloatProgressModel",
            "_view_count": null,
            "_view_module": "@jupyter-widgets/controls",
            "_view_module_version": "1.5.0",
            "_view_name": "ProgressView",
            "bar_style": "success",
            "description": "",
            "description_tooltip": null,
            "layout": "IPY_MODEL_2b578dbd4bb448c8a8eac6737f73879b",
            "max": 8000,
            "min": 0,
            "orientation": "horizontal",
            "style": "IPY_MODEL_b30e16d451064b94b49a0e65e0688a23",
            "value": 8000
          }
        },
        "ce5086cc65e943aea5cb7197e45c0ed3": {
          "model_module": "@jupyter-widgets/controls",
          "model_name": "HTMLModel",
          "model_module_version": "1.5.0",
          "state": {
            "_dom_classes": [],
            "_model_module": "@jupyter-widgets/controls",
            "_model_module_version": "1.5.0",
            "_model_name": "HTMLModel",
            "_view_count": null,
            "_view_module": "@jupyter-widgets/controls",
            "_view_module_version": "1.5.0",
            "_view_name": "HTMLView",
            "description": "",
            "description_tooltip": null,
            "layout": "IPY_MODEL_14592a5124234d6ab636cc9350af72c7",
            "placeholder": "​",
            "style": "IPY_MODEL_b155f4d823cf4529b230299302b4bd77",
            "value": " 8000/8000 [00:00&lt;00:00, 27541.83 examples/s]"
          }
        },
        "0566f74ee2b44f449985c5ff35317ed6": {
          "model_module": "@jupyter-widgets/base",
          "model_name": "LayoutModel",
          "model_module_version": "1.2.0",
          "state": {
            "_model_module": "@jupyter-widgets/base",
            "_model_module_version": "1.2.0",
            "_model_name": "LayoutModel",
            "_view_count": null,
            "_view_module": "@jupyter-widgets/base",
            "_view_module_version": "1.2.0",
            "_view_name": "LayoutView",
            "align_content": null,
            "align_items": null,
            "align_self": null,
            "border": null,
            "bottom": null,
            "display": null,
            "flex": null,
            "flex_flow": null,
            "grid_area": null,
            "grid_auto_columns": null,
            "grid_auto_flow": null,
            "grid_auto_rows": null,
            "grid_column": null,
            "grid_gap": null,
            "grid_row": null,
            "grid_template_areas": null,
            "grid_template_columns": null,
            "grid_template_rows": null,
            "height": null,
            "justify_content": null,
            "justify_items": null,
            "left": null,
            "margin": null,
            "max_height": null,
            "max_width": null,
            "min_height": null,
            "min_width": null,
            "object_fit": null,
            "object_position": null,
            "order": null,
            "overflow": null,
            "overflow_x": null,
            "overflow_y": null,
            "padding": null,
            "right": null,
            "top": null,
            "visibility": null,
            "width": null
          }
        },
        "4e8cd850fa4642be958c1f462cb25e5b": {
          "model_module": "@jupyter-widgets/base",
          "model_name": "LayoutModel",
          "model_module_version": "1.2.0",
          "state": {
            "_model_module": "@jupyter-widgets/base",
            "_model_module_version": "1.2.0",
            "_model_name": "LayoutModel",
            "_view_count": null,
            "_view_module": "@jupyter-widgets/base",
            "_view_module_version": "1.2.0",
            "_view_name": "LayoutView",
            "align_content": null,
            "align_items": null,
            "align_self": null,
            "border": null,
            "bottom": null,
            "display": null,
            "flex": null,
            "flex_flow": null,
            "grid_area": null,
            "grid_auto_columns": null,
            "grid_auto_flow": null,
            "grid_auto_rows": null,
            "grid_column": null,
            "grid_gap": null,
            "grid_row": null,
            "grid_template_areas": null,
            "grid_template_columns": null,
            "grid_template_rows": null,
            "height": null,
            "justify_content": null,
            "justify_items": null,
            "left": null,
            "margin": null,
            "max_height": null,
            "max_width": null,
            "min_height": null,
            "min_width": null,
            "object_fit": null,
            "object_position": null,
            "order": null,
            "overflow": null,
            "overflow_x": null,
            "overflow_y": null,
            "padding": null,
            "right": null,
            "top": null,
            "visibility": null,
            "width": null
          }
        },
        "63b2cf40789e4b4591c025a09d0b7297": {
          "model_module": "@jupyter-widgets/controls",
          "model_name": "DescriptionStyleModel",
          "model_module_version": "1.5.0",
          "state": {
            "_model_module": "@jupyter-widgets/controls",
            "_model_module_version": "1.5.0",
            "_model_name": "DescriptionStyleModel",
            "_view_count": null,
            "_view_module": "@jupyter-widgets/base",
            "_view_module_version": "1.2.0",
            "_view_name": "StyleView",
            "description_width": ""
          }
        },
        "2b578dbd4bb448c8a8eac6737f73879b": {
          "model_module": "@jupyter-widgets/base",
          "model_name": "LayoutModel",
          "model_module_version": "1.2.0",
          "state": {
            "_model_module": "@jupyter-widgets/base",
            "_model_module_version": "1.2.0",
            "_model_name": "LayoutModel",
            "_view_count": null,
            "_view_module": "@jupyter-widgets/base",
            "_view_module_version": "1.2.0",
            "_view_name": "LayoutView",
            "align_content": null,
            "align_items": null,
            "align_self": null,
            "border": null,
            "bottom": null,
            "display": null,
            "flex": null,
            "flex_flow": null,
            "grid_area": null,
            "grid_auto_columns": null,
            "grid_auto_flow": null,
            "grid_auto_rows": null,
            "grid_column": null,
            "grid_gap": null,
            "grid_row": null,
            "grid_template_areas": null,
            "grid_template_columns": null,
            "grid_template_rows": null,
            "height": null,
            "justify_content": null,
            "justify_items": null,
            "left": null,
            "margin": null,
            "max_height": null,
            "max_width": null,
            "min_height": null,
            "min_width": null,
            "object_fit": null,
            "object_position": null,
            "order": null,
            "overflow": null,
            "overflow_x": null,
            "overflow_y": null,
            "padding": null,
            "right": null,
            "top": null,
            "visibility": null,
            "width": null
          }
        },
        "b30e16d451064b94b49a0e65e0688a23": {
          "model_module": "@jupyter-widgets/controls",
          "model_name": "ProgressStyleModel",
          "model_module_version": "1.5.0",
          "state": {
            "_model_module": "@jupyter-widgets/controls",
            "_model_module_version": "1.5.0",
            "_model_name": "ProgressStyleModel",
            "_view_count": null,
            "_view_module": "@jupyter-widgets/base",
            "_view_module_version": "1.2.0",
            "_view_name": "StyleView",
            "bar_color": null,
            "description_width": ""
          }
        },
        "14592a5124234d6ab636cc9350af72c7": {
          "model_module": "@jupyter-widgets/base",
          "model_name": "LayoutModel",
          "model_module_version": "1.2.0",
          "state": {
            "_model_module": "@jupyter-widgets/base",
            "_model_module_version": "1.2.0",
            "_model_name": "LayoutModel",
            "_view_count": null,
            "_view_module": "@jupyter-widgets/base",
            "_view_module_version": "1.2.0",
            "_view_name": "LayoutView",
            "align_content": null,
            "align_items": null,
            "align_self": null,
            "border": null,
            "bottom": null,
            "display": null,
            "flex": null,
            "flex_flow": null,
            "grid_area": null,
            "grid_auto_columns": null,
            "grid_auto_flow": null,
            "grid_auto_rows": null,
            "grid_column": null,
            "grid_gap": null,
            "grid_row": null,
            "grid_template_areas": null,
            "grid_template_columns": null,
            "grid_template_rows": null,
            "height": null,
            "justify_content": null,
            "justify_items": null,
            "left": null,
            "margin": null,
            "max_height": null,
            "max_width": null,
            "min_height": null,
            "min_width": null,
            "object_fit": null,
            "object_position": null,
            "order": null,
            "overflow": null,
            "overflow_x": null,
            "overflow_y": null,
            "padding": null,
            "right": null,
            "top": null,
            "visibility": null,
            "width": null
          }
        },
        "b155f4d823cf4529b230299302b4bd77": {
          "model_module": "@jupyter-widgets/controls",
          "model_name": "DescriptionStyleModel",
          "model_module_version": "1.5.0",
          "state": {
            "_model_module": "@jupyter-widgets/controls",
            "_model_module_version": "1.5.0",
            "_model_name": "DescriptionStyleModel",
            "_view_count": null,
            "_view_module": "@jupyter-widgets/base",
            "_view_module_version": "1.2.0",
            "_view_name": "StyleView",
            "description_width": ""
          }
        },
        "dbcb5044bddf4cd7a570c8d966724f28": {
          "model_module": "@jupyter-widgets/controls",
          "model_name": "HBoxModel",
          "model_module_version": "1.5.0",
          "state": {
            "_dom_classes": [],
            "_model_module": "@jupyter-widgets/controls",
            "_model_module_version": "1.5.0",
            "_model_name": "HBoxModel",
            "_view_count": null,
            "_view_module": "@jupyter-widgets/controls",
            "_view_module_version": "1.5.0",
            "_view_name": "HBoxView",
            "box_style": "",
            "children": [
              "IPY_MODEL_ec6b9534692d4157b9f90204f2a61c3a",
              "IPY_MODEL_0ccf61399115445bbae65df963d4f9dc",
              "IPY_MODEL_ed403f35e57549899ce8bb77e2558c77"
            ],
            "layout": "IPY_MODEL_c8f70a881beb4b15839f278f6b0f1859"
          }
        },
        "ec6b9534692d4157b9f90204f2a61c3a": {
          "model_module": "@jupyter-widgets/controls",
          "model_name": "HTMLModel",
          "model_module_version": "1.5.0",
          "state": {
            "_dom_classes": [],
            "_model_module": "@jupyter-widgets/controls",
            "_model_module_version": "1.5.0",
            "_model_name": "HTMLModel",
            "_view_count": null,
            "_view_module": "@jupyter-widgets/controls",
            "_view_module_version": "1.5.0",
            "_view_name": "HTMLView",
            "description": "",
            "description_tooltip": null,
            "layout": "IPY_MODEL_c6acd67438354d5f9f94fdd3e773facb",
            "placeholder": "​",
            "style": "IPY_MODEL_84ffc53b0007423e9c7fed9381b6651b",
            "value": "Generating validation split: 100%"
          }
        },
        "0ccf61399115445bbae65df963d4f9dc": {
          "model_module": "@jupyter-widgets/controls",
          "model_name": "FloatProgressModel",
          "model_module_version": "1.5.0",
          "state": {
            "_dom_classes": [],
            "_model_module": "@jupyter-widgets/controls",
            "_model_module_version": "1.5.0",
            "_model_name": "FloatProgressModel",
            "_view_count": null,
            "_view_module": "@jupyter-widgets/controls",
            "_view_module_version": "1.5.0",
            "_view_name": "ProgressView",
            "bar_style": "success",
            "description": "",
            "description_tooltip": null,
            "layout": "IPY_MODEL_bbe30de178954241b2bfa44fa6d6646a",
            "max": 1000,
            "min": 0,
            "orientation": "horizontal",
            "style": "IPY_MODEL_4b5c43cc84c84feeb1e9884be53c800b",
            "value": 1000
          }
        },
        "ed403f35e57549899ce8bb77e2558c77": {
          "model_module": "@jupyter-widgets/controls",
          "model_name": "HTMLModel",
          "model_module_version": "1.5.0",
          "state": {
            "_dom_classes": [],
            "_model_module": "@jupyter-widgets/controls",
            "_model_module_version": "1.5.0",
            "_model_name": "HTMLModel",
            "_view_count": null,
            "_view_module": "@jupyter-widgets/controls",
            "_view_module_version": "1.5.0",
            "_view_name": "HTMLView",
            "description": "",
            "description_tooltip": null,
            "layout": "IPY_MODEL_730fabc696124b9d8c250d2d87006aee",
            "placeholder": "​",
            "style": "IPY_MODEL_fb3963dab4bf46ce9b4936985dd2a969",
            "value": " 1000/1000 [00:00&lt;00:00, 13934.66 examples/s]"
          }
        },
        "c8f70a881beb4b15839f278f6b0f1859": {
          "model_module": "@jupyter-widgets/base",
          "model_name": "LayoutModel",
          "model_module_version": "1.2.0",
          "state": {
            "_model_module": "@jupyter-widgets/base",
            "_model_module_version": "1.2.0",
            "_model_name": "LayoutModel",
            "_view_count": null,
            "_view_module": "@jupyter-widgets/base",
            "_view_module_version": "1.2.0",
            "_view_name": "LayoutView",
            "align_content": null,
            "align_items": null,
            "align_self": null,
            "border": null,
            "bottom": null,
            "display": null,
            "flex": null,
            "flex_flow": null,
            "grid_area": null,
            "grid_auto_columns": null,
            "grid_auto_flow": null,
            "grid_auto_rows": null,
            "grid_column": null,
            "grid_gap": null,
            "grid_row": null,
            "grid_template_areas": null,
            "grid_template_columns": null,
            "grid_template_rows": null,
            "height": null,
            "justify_content": null,
            "justify_items": null,
            "left": null,
            "margin": null,
            "max_height": null,
            "max_width": null,
            "min_height": null,
            "min_width": null,
            "object_fit": null,
            "object_position": null,
            "order": null,
            "overflow": null,
            "overflow_x": null,
            "overflow_y": null,
            "padding": null,
            "right": null,
            "top": null,
            "visibility": null,
            "width": null
          }
        },
        "c6acd67438354d5f9f94fdd3e773facb": {
          "model_module": "@jupyter-widgets/base",
          "model_name": "LayoutModel",
          "model_module_version": "1.2.0",
          "state": {
            "_model_module": "@jupyter-widgets/base",
            "_model_module_version": "1.2.0",
            "_model_name": "LayoutModel",
            "_view_count": null,
            "_view_module": "@jupyter-widgets/base",
            "_view_module_version": "1.2.0",
            "_view_name": "LayoutView",
            "align_content": null,
            "align_items": null,
            "align_self": null,
            "border": null,
            "bottom": null,
            "display": null,
            "flex": null,
            "flex_flow": null,
            "grid_area": null,
            "grid_auto_columns": null,
            "grid_auto_flow": null,
            "grid_auto_rows": null,
            "grid_column": null,
            "grid_gap": null,
            "grid_row": null,
            "grid_template_areas": null,
            "grid_template_columns": null,
            "grid_template_rows": null,
            "height": null,
            "justify_content": null,
            "justify_items": null,
            "left": null,
            "margin": null,
            "max_height": null,
            "max_width": null,
            "min_height": null,
            "min_width": null,
            "object_fit": null,
            "object_position": null,
            "order": null,
            "overflow": null,
            "overflow_x": null,
            "overflow_y": null,
            "padding": null,
            "right": null,
            "top": null,
            "visibility": null,
            "width": null
          }
        },
        "84ffc53b0007423e9c7fed9381b6651b": {
          "model_module": "@jupyter-widgets/controls",
          "model_name": "DescriptionStyleModel",
          "model_module_version": "1.5.0",
          "state": {
            "_model_module": "@jupyter-widgets/controls",
            "_model_module_version": "1.5.0",
            "_model_name": "DescriptionStyleModel",
            "_view_count": null,
            "_view_module": "@jupyter-widgets/base",
            "_view_module_version": "1.2.0",
            "_view_name": "StyleView",
            "description_width": ""
          }
        },
        "bbe30de178954241b2bfa44fa6d6646a": {
          "model_module": "@jupyter-widgets/base",
          "model_name": "LayoutModel",
          "model_module_version": "1.2.0",
          "state": {
            "_model_module": "@jupyter-widgets/base",
            "_model_module_version": "1.2.0",
            "_model_name": "LayoutModel",
            "_view_count": null,
            "_view_module": "@jupyter-widgets/base",
            "_view_module_version": "1.2.0",
            "_view_name": "LayoutView",
            "align_content": null,
            "align_items": null,
            "align_self": null,
            "border": null,
            "bottom": null,
            "display": null,
            "flex": null,
            "flex_flow": null,
            "grid_area": null,
            "grid_auto_columns": null,
            "grid_auto_flow": null,
            "grid_auto_rows": null,
            "grid_column": null,
            "grid_gap": null,
            "grid_row": null,
            "grid_template_areas": null,
            "grid_template_columns": null,
            "grid_template_rows": null,
            "height": null,
            "justify_content": null,
            "justify_items": null,
            "left": null,
            "margin": null,
            "max_height": null,
            "max_width": null,
            "min_height": null,
            "min_width": null,
            "object_fit": null,
            "object_position": null,
            "order": null,
            "overflow": null,
            "overflow_x": null,
            "overflow_y": null,
            "padding": null,
            "right": null,
            "top": null,
            "visibility": null,
            "width": null
          }
        },
        "4b5c43cc84c84feeb1e9884be53c800b": {
          "model_module": "@jupyter-widgets/controls",
          "model_name": "ProgressStyleModel",
          "model_module_version": "1.5.0",
          "state": {
            "_model_module": "@jupyter-widgets/controls",
            "_model_module_version": "1.5.0",
            "_model_name": "ProgressStyleModel",
            "_view_count": null,
            "_view_module": "@jupyter-widgets/base",
            "_view_module_version": "1.2.0",
            "_view_name": "StyleView",
            "bar_color": null,
            "description_width": ""
          }
        },
        "730fabc696124b9d8c250d2d87006aee": {
          "model_module": "@jupyter-widgets/base",
          "model_name": "LayoutModel",
          "model_module_version": "1.2.0",
          "state": {
            "_model_module": "@jupyter-widgets/base",
            "_model_module_version": "1.2.0",
            "_model_name": "LayoutModel",
            "_view_count": null,
            "_view_module": "@jupyter-widgets/base",
            "_view_module_version": "1.2.0",
            "_view_name": "LayoutView",
            "align_content": null,
            "align_items": null,
            "align_self": null,
            "border": null,
            "bottom": null,
            "display": null,
            "flex": null,
            "flex_flow": null,
            "grid_area": null,
            "grid_auto_columns": null,
            "grid_auto_flow": null,
            "grid_auto_rows": null,
            "grid_column": null,
            "grid_gap": null,
            "grid_row": null,
            "grid_template_areas": null,
            "grid_template_columns": null,
            "grid_template_rows": null,
            "height": null,
            "justify_content": null,
            "justify_items": null,
            "left": null,
            "margin": null,
            "max_height": null,
            "max_width": null,
            "min_height": null,
            "min_width": null,
            "object_fit": null,
            "object_position": null,
            "order": null,
            "overflow": null,
            "overflow_x": null,
            "overflow_y": null,
            "padding": null,
            "right": null,
            "top": null,
            "visibility": null,
            "width": null
          }
        },
        "fb3963dab4bf46ce9b4936985dd2a969": {
          "model_module": "@jupyter-widgets/controls",
          "model_name": "DescriptionStyleModel",
          "model_module_version": "1.5.0",
          "state": {
            "_model_module": "@jupyter-widgets/controls",
            "_model_module_version": "1.5.0",
            "_model_name": "DescriptionStyleModel",
            "_view_count": null,
            "_view_module": "@jupyter-widgets/base",
            "_view_module_version": "1.2.0",
            "_view_name": "StyleView",
            "description_width": ""
          }
        },
        "7d87b2d5649448e893b8020a73e84971": {
          "model_module": "@jupyter-widgets/controls",
          "model_name": "HBoxModel",
          "model_module_version": "1.5.0",
          "state": {
            "_dom_classes": [],
            "_model_module": "@jupyter-widgets/controls",
            "_model_module_version": "1.5.0",
            "_model_name": "HBoxModel",
            "_view_count": null,
            "_view_module": "@jupyter-widgets/controls",
            "_view_module_version": "1.5.0",
            "_view_name": "HBoxView",
            "box_style": "",
            "children": [
              "IPY_MODEL_844b131bee704cdb8b7b250d1c14b3dd",
              "IPY_MODEL_6ff0d9ffc1a74106bff82263b9f01e3e",
              "IPY_MODEL_0bb6a1f3aead4ed59980e397326b9a6b"
            ],
            "layout": "IPY_MODEL_69313fc988404df58b4996a24297a3fc"
          }
        },
        "844b131bee704cdb8b7b250d1c14b3dd": {
          "model_module": "@jupyter-widgets/controls",
          "model_name": "HTMLModel",
          "model_module_version": "1.5.0",
          "state": {
            "_dom_classes": [],
            "_model_module": "@jupyter-widgets/controls",
            "_model_module_version": "1.5.0",
            "_model_name": "HTMLModel",
            "_view_count": null,
            "_view_module": "@jupyter-widgets/controls",
            "_view_module_version": "1.5.0",
            "_view_name": "HTMLView",
            "description": "",
            "description_tooltip": null,
            "layout": "IPY_MODEL_1a00926c73dc41c2a7fcfad2de19bbd1",
            "placeholder": "​",
            "style": "IPY_MODEL_e9bcbc95dd4d49dda016acf0d2a3a731",
            "value": "Generating test split: 100%"
          }
        },
        "6ff0d9ffc1a74106bff82263b9f01e3e": {
          "model_module": "@jupyter-widgets/controls",
          "model_name": "FloatProgressModel",
          "model_module_version": "1.5.0",
          "state": {
            "_dom_classes": [],
            "_model_module": "@jupyter-widgets/controls",
            "_model_module_version": "1.5.0",
            "_model_name": "FloatProgressModel",
            "_view_count": null,
            "_view_module": "@jupyter-widgets/controls",
            "_view_module_version": "1.5.0",
            "_view_name": "ProgressView",
            "bar_style": "success",
            "description": "",
            "description_tooltip": null,
            "layout": "IPY_MODEL_0518acd7db1746ce9c5257b4d1b08379",
            "max": 1000,
            "min": 0,
            "orientation": "horizontal",
            "style": "IPY_MODEL_0701858a167546be812dc0b01c5d9d23",
            "value": 1000
          }
        },
        "0bb6a1f3aead4ed59980e397326b9a6b": {
          "model_module": "@jupyter-widgets/controls",
          "model_name": "HTMLModel",
          "model_module_version": "1.5.0",
          "state": {
            "_dom_classes": [],
            "_model_module": "@jupyter-widgets/controls",
            "_model_module_version": "1.5.0",
            "_model_name": "HTMLModel",
            "_view_count": null,
            "_view_module": "@jupyter-widgets/controls",
            "_view_module_version": "1.5.0",
            "_view_name": "HTMLView",
            "description": "",
            "description_tooltip": null,
            "layout": "IPY_MODEL_aa57929a4be3427595c714055599a53f",
            "placeholder": "​",
            "style": "IPY_MODEL_57bd087f3e4040e48ba2f683e16e209f",
            "value": " 1000/1000 [00:00&lt;00:00, 5846.27 examples/s]"
          }
        },
        "69313fc988404df58b4996a24297a3fc": {
          "model_module": "@jupyter-widgets/base",
          "model_name": "LayoutModel",
          "model_module_version": "1.2.0",
          "state": {
            "_model_module": "@jupyter-widgets/base",
            "_model_module_version": "1.2.0",
            "_model_name": "LayoutModel",
            "_view_count": null,
            "_view_module": "@jupyter-widgets/base",
            "_view_module_version": "1.2.0",
            "_view_name": "LayoutView",
            "align_content": null,
            "align_items": null,
            "align_self": null,
            "border": null,
            "bottom": null,
            "display": null,
            "flex": null,
            "flex_flow": null,
            "grid_area": null,
            "grid_auto_columns": null,
            "grid_auto_flow": null,
            "grid_auto_rows": null,
            "grid_column": null,
            "grid_gap": null,
            "grid_row": null,
            "grid_template_areas": null,
            "grid_template_columns": null,
            "grid_template_rows": null,
            "height": null,
            "justify_content": null,
            "justify_items": null,
            "left": null,
            "margin": null,
            "max_height": null,
            "max_width": null,
            "min_height": null,
            "min_width": null,
            "object_fit": null,
            "object_position": null,
            "order": null,
            "overflow": null,
            "overflow_x": null,
            "overflow_y": null,
            "padding": null,
            "right": null,
            "top": null,
            "visibility": null,
            "width": null
          }
        },
        "1a00926c73dc41c2a7fcfad2de19bbd1": {
          "model_module": "@jupyter-widgets/base",
          "model_name": "LayoutModel",
          "model_module_version": "1.2.0",
          "state": {
            "_model_module": "@jupyter-widgets/base",
            "_model_module_version": "1.2.0",
            "_model_name": "LayoutModel",
            "_view_count": null,
            "_view_module": "@jupyter-widgets/base",
            "_view_module_version": "1.2.0",
            "_view_name": "LayoutView",
            "align_content": null,
            "align_items": null,
            "align_self": null,
            "border": null,
            "bottom": null,
            "display": null,
            "flex": null,
            "flex_flow": null,
            "grid_area": null,
            "grid_auto_columns": null,
            "grid_auto_flow": null,
            "grid_auto_rows": null,
            "grid_column": null,
            "grid_gap": null,
            "grid_row": null,
            "grid_template_areas": null,
            "grid_template_columns": null,
            "grid_template_rows": null,
            "height": null,
            "justify_content": null,
            "justify_items": null,
            "left": null,
            "margin": null,
            "max_height": null,
            "max_width": null,
            "min_height": null,
            "min_width": null,
            "object_fit": null,
            "object_position": null,
            "order": null,
            "overflow": null,
            "overflow_x": null,
            "overflow_y": null,
            "padding": null,
            "right": null,
            "top": null,
            "visibility": null,
            "width": null
          }
        },
        "e9bcbc95dd4d49dda016acf0d2a3a731": {
          "model_module": "@jupyter-widgets/controls",
          "model_name": "DescriptionStyleModel",
          "model_module_version": "1.5.0",
          "state": {
            "_model_module": "@jupyter-widgets/controls",
            "_model_module_version": "1.5.0",
            "_model_name": "DescriptionStyleModel",
            "_view_count": null,
            "_view_module": "@jupyter-widgets/base",
            "_view_module_version": "1.2.0",
            "_view_name": "StyleView",
            "description_width": ""
          }
        },
        "0518acd7db1746ce9c5257b4d1b08379": {
          "model_module": "@jupyter-widgets/base",
          "model_name": "LayoutModel",
          "model_module_version": "1.2.0",
          "state": {
            "_model_module": "@jupyter-widgets/base",
            "_model_module_version": "1.2.0",
            "_model_name": "LayoutModel",
            "_view_count": null,
            "_view_module": "@jupyter-widgets/base",
            "_view_module_version": "1.2.0",
            "_view_name": "LayoutView",
            "align_content": null,
            "align_items": null,
            "align_self": null,
            "border": null,
            "bottom": null,
            "display": null,
            "flex": null,
            "flex_flow": null,
            "grid_area": null,
            "grid_auto_columns": null,
            "grid_auto_flow": null,
            "grid_auto_rows": null,
            "grid_column": null,
            "grid_gap": null,
            "grid_row": null,
            "grid_template_areas": null,
            "grid_template_columns": null,
            "grid_template_rows": null,
            "height": null,
            "justify_content": null,
            "justify_items": null,
            "left": null,
            "margin": null,
            "max_height": null,
            "max_width": null,
            "min_height": null,
            "min_width": null,
            "object_fit": null,
            "object_position": null,
            "order": null,
            "overflow": null,
            "overflow_x": null,
            "overflow_y": null,
            "padding": null,
            "right": null,
            "top": null,
            "visibility": null,
            "width": null
          }
        },
        "0701858a167546be812dc0b01c5d9d23": {
          "model_module": "@jupyter-widgets/controls",
          "model_name": "ProgressStyleModel",
          "model_module_version": "1.5.0",
          "state": {
            "_model_module": "@jupyter-widgets/controls",
            "_model_module_version": "1.5.0",
            "_model_name": "ProgressStyleModel",
            "_view_count": null,
            "_view_module": "@jupyter-widgets/base",
            "_view_module_version": "1.2.0",
            "_view_name": "StyleView",
            "bar_color": null,
            "description_width": ""
          }
        },
        "aa57929a4be3427595c714055599a53f": {
          "model_module": "@jupyter-widgets/base",
          "model_name": "LayoutModel",
          "model_module_version": "1.2.0",
          "state": {
            "_model_module": "@jupyter-widgets/base",
            "_model_module_version": "1.2.0",
            "_model_name": "LayoutModel",
            "_view_count": null,
            "_view_module": "@jupyter-widgets/base",
            "_view_module_version": "1.2.0",
            "_view_name": "LayoutView",
            "align_content": null,
            "align_items": null,
            "align_self": null,
            "border": null,
            "bottom": null,
            "display": null,
            "flex": null,
            "flex_flow": null,
            "grid_area": null,
            "grid_auto_columns": null,
            "grid_auto_flow": null,
            "grid_auto_rows": null,
            "grid_column": null,
            "grid_gap": null,
            "grid_row": null,
            "grid_template_areas": null,
            "grid_template_columns": null,
            "grid_template_rows": null,
            "height": null,
            "justify_content": null,
            "justify_items": null,
            "left": null,
            "margin": null,
            "max_height": null,
            "max_width": null,
            "min_height": null,
            "min_width": null,
            "object_fit": null,
            "object_position": null,
            "order": null,
            "overflow": null,
            "overflow_x": null,
            "overflow_y": null,
            "padding": null,
            "right": null,
            "top": null,
            "visibility": null,
            "width": null
          }
        },
        "57bd087f3e4040e48ba2f683e16e209f": {
          "model_module": "@jupyter-widgets/controls",
          "model_name": "DescriptionStyleModel",
          "model_module_version": "1.5.0",
          "state": {
            "_model_module": "@jupyter-widgets/controls",
            "_model_module_version": "1.5.0",
            "_model_name": "DescriptionStyleModel",
            "_view_count": null,
            "_view_module": "@jupyter-widgets/base",
            "_view_module_version": "1.2.0",
            "_view_name": "StyleView",
            "description_width": ""
          }
        },
        "c916c64a2e1e419d8d389f44a57c4102": {
          "model_module": "@jupyter-widgets/controls",
          "model_name": "HBoxModel",
          "model_module_version": "1.5.0",
          "state": {
            "_dom_classes": [],
            "_model_module": "@jupyter-widgets/controls",
            "_model_module_version": "1.5.0",
            "_model_name": "HBoxModel",
            "_view_count": null,
            "_view_module": "@jupyter-widgets/controls",
            "_view_module_version": "1.5.0",
            "_view_name": "HBoxView",
            "box_style": "",
            "children": [
              "IPY_MODEL_1bf7854a00fa4be5997e0bb2e578e4e7",
              "IPY_MODEL_36db1377a9244eefbe74a94620df62ee",
              "IPY_MODEL_a5448696c0164afa90caaef8f958603e"
            ],
            "layout": "IPY_MODEL_24dcd07eecb64a43ae9dad49f378db77"
          }
        },
        "1bf7854a00fa4be5997e0bb2e578e4e7": {
          "model_module": "@jupyter-widgets/controls",
          "model_name": "HTMLModel",
          "model_module_version": "1.5.0",
          "state": {
            "_dom_classes": [],
            "_model_module": "@jupyter-widgets/controls",
            "_model_module_version": "1.5.0",
            "_model_name": "HTMLModel",
            "_view_count": null,
            "_view_module": "@jupyter-widgets/controls",
            "_view_module_version": "1.5.0",
            "_view_name": "HTMLView",
            "description": "",
            "description_tooltip": null,
            "layout": "IPY_MODEL_a3a69eabcc5e43b89f43e2f67720e93c",
            "placeholder": "​",
            "style": "IPY_MODEL_dff1cb6961ed453e887ee60d4b81e1f5",
            "value": "Generating test2 split: 100%"
          }
        },
        "36db1377a9244eefbe74a94620df62ee": {
          "model_module": "@jupyter-widgets/controls",
          "model_name": "FloatProgressModel",
          "model_module_version": "1.5.0",
          "state": {
            "_dom_classes": [],
            "_model_module": "@jupyter-widgets/controls",
            "_model_module_version": "1.5.0",
            "_model_name": "FloatProgressModel",
            "_view_count": null,
            "_view_module": "@jupyter-widgets/controls",
            "_view_module_version": "1.5.0",
            "_view_name": "ProgressView",
            "bar_style": "success",
            "description": "",
            "description_tooltip": null,
            "layout": "IPY_MODEL_8f4d284686b24632b1314634484e27d8",
            "max": 1294,
            "min": 0,
            "orientation": "horizontal",
            "style": "IPY_MODEL_68c9b88650874669b14b4b1df1dedff4",
            "value": 1294
          }
        },
        "a5448696c0164afa90caaef8f958603e": {
          "model_module": "@jupyter-widgets/controls",
          "model_name": "HTMLModel",
          "model_module_version": "1.5.0",
          "state": {
            "_dom_classes": [],
            "_model_module": "@jupyter-widgets/controls",
            "_model_module_version": "1.5.0",
            "_model_name": "HTMLModel",
            "_view_count": null,
            "_view_module": "@jupyter-widgets/controls",
            "_view_module_version": "1.5.0",
            "_view_name": "HTMLView",
            "description": "",
            "description_tooltip": null,
            "layout": "IPY_MODEL_cbbbf752401f41978220dbb0231c473c",
            "placeholder": "​",
            "style": "IPY_MODEL_6d9bae62ba02466892c75ad0401666e0",
            "value": " 1294/1294 [00:00&lt;00:00, 3582.22 examples/s]"
          }
        },
        "24dcd07eecb64a43ae9dad49f378db77": {
          "model_module": "@jupyter-widgets/base",
          "model_name": "LayoutModel",
          "model_module_version": "1.2.0",
          "state": {
            "_model_module": "@jupyter-widgets/base",
            "_model_module_version": "1.2.0",
            "_model_name": "LayoutModel",
            "_view_count": null,
            "_view_module": "@jupyter-widgets/base",
            "_view_module_version": "1.2.0",
            "_view_name": "LayoutView",
            "align_content": null,
            "align_items": null,
            "align_self": null,
            "border": null,
            "bottom": null,
            "display": null,
            "flex": null,
            "flex_flow": null,
            "grid_area": null,
            "grid_auto_columns": null,
            "grid_auto_flow": null,
            "grid_auto_rows": null,
            "grid_column": null,
            "grid_gap": null,
            "grid_row": null,
            "grid_template_areas": null,
            "grid_template_columns": null,
            "grid_template_rows": null,
            "height": null,
            "justify_content": null,
            "justify_items": null,
            "left": null,
            "margin": null,
            "max_height": null,
            "max_width": null,
            "min_height": null,
            "min_width": null,
            "object_fit": null,
            "object_position": null,
            "order": null,
            "overflow": null,
            "overflow_x": null,
            "overflow_y": null,
            "padding": null,
            "right": null,
            "top": null,
            "visibility": null,
            "width": null
          }
        },
        "a3a69eabcc5e43b89f43e2f67720e93c": {
          "model_module": "@jupyter-widgets/base",
          "model_name": "LayoutModel",
          "model_module_version": "1.2.0",
          "state": {
            "_model_module": "@jupyter-widgets/base",
            "_model_module_version": "1.2.0",
            "_model_name": "LayoutModel",
            "_view_count": null,
            "_view_module": "@jupyter-widgets/base",
            "_view_module_version": "1.2.0",
            "_view_name": "LayoutView",
            "align_content": null,
            "align_items": null,
            "align_self": null,
            "border": null,
            "bottom": null,
            "display": null,
            "flex": null,
            "flex_flow": null,
            "grid_area": null,
            "grid_auto_columns": null,
            "grid_auto_flow": null,
            "grid_auto_rows": null,
            "grid_column": null,
            "grid_gap": null,
            "grid_row": null,
            "grid_template_areas": null,
            "grid_template_columns": null,
            "grid_template_rows": null,
            "height": null,
            "justify_content": null,
            "justify_items": null,
            "left": null,
            "margin": null,
            "max_height": null,
            "max_width": null,
            "min_height": null,
            "min_width": null,
            "object_fit": null,
            "object_position": null,
            "order": null,
            "overflow": null,
            "overflow_x": null,
            "overflow_y": null,
            "padding": null,
            "right": null,
            "top": null,
            "visibility": null,
            "width": null
          }
        },
        "dff1cb6961ed453e887ee60d4b81e1f5": {
          "model_module": "@jupyter-widgets/controls",
          "model_name": "DescriptionStyleModel",
          "model_module_version": "1.5.0",
          "state": {
            "_model_module": "@jupyter-widgets/controls",
            "_model_module_version": "1.5.0",
            "_model_name": "DescriptionStyleModel",
            "_view_count": null,
            "_view_module": "@jupyter-widgets/base",
            "_view_module_version": "1.2.0",
            "_view_name": "StyleView",
            "description_width": ""
          }
        },
        "8f4d284686b24632b1314634484e27d8": {
          "model_module": "@jupyter-widgets/base",
          "model_name": "LayoutModel",
          "model_module_version": "1.2.0",
          "state": {
            "_model_module": "@jupyter-widgets/base",
            "_model_module_version": "1.2.0",
            "_model_name": "LayoutModel",
            "_view_count": null,
            "_view_module": "@jupyter-widgets/base",
            "_view_module_version": "1.2.0",
            "_view_name": "LayoutView",
            "align_content": null,
            "align_items": null,
            "align_self": null,
            "border": null,
            "bottom": null,
            "display": null,
            "flex": null,
            "flex_flow": null,
            "grid_area": null,
            "grid_auto_columns": null,
            "grid_auto_flow": null,
            "grid_auto_rows": null,
            "grid_column": null,
            "grid_gap": null,
            "grid_row": null,
            "grid_template_areas": null,
            "grid_template_columns": null,
            "grid_template_rows": null,
            "height": null,
            "justify_content": null,
            "justify_items": null,
            "left": null,
            "margin": null,
            "max_height": null,
            "max_width": null,
            "min_height": null,
            "min_width": null,
            "object_fit": null,
            "object_position": null,
            "order": null,
            "overflow": null,
            "overflow_x": null,
            "overflow_y": null,
            "padding": null,
            "right": null,
            "top": null,
            "visibility": null,
            "width": null
          }
        },
        "68c9b88650874669b14b4b1df1dedff4": {
          "model_module": "@jupyter-widgets/controls",
          "model_name": "ProgressStyleModel",
          "model_module_version": "1.5.0",
          "state": {
            "_model_module": "@jupyter-widgets/controls",
            "_model_module_version": "1.5.0",
            "_model_name": "ProgressStyleModel",
            "_view_count": null,
            "_view_module": "@jupyter-widgets/base",
            "_view_module_version": "1.2.0",
            "_view_name": "StyleView",
            "bar_color": null,
            "description_width": ""
          }
        },
        "cbbbf752401f41978220dbb0231c473c": {
          "model_module": "@jupyter-widgets/base",
          "model_name": "LayoutModel",
          "model_module_version": "1.2.0",
          "state": {
            "_model_module": "@jupyter-widgets/base",
            "_model_module_version": "1.2.0",
            "_model_name": "LayoutModel",
            "_view_count": null,
            "_view_module": "@jupyter-widgets/base",
            "_view_module_version": "1.2.0",
            "_view_name": "LayoutView",
            "align_content": null,
            "align_items": null,
            "align_self": null,
            "border": null,
            "bottom": null,
            "display": null,
            "flex": null,
            "flex_flow": null,
            "grid_area": null,
            "grid_auto_columns": null,
            "grid_auto_flow": null,
            "grid_auto_rows": null,
            "grid_column": null,
            "grid_gap": null,
            "grid_row": null,
            "grid_template_areas": null,
            "grid_template_columns": null,
            "grid_template_rows": null,
            "height": null,
            "justify_content": null,
            "justify_items": null,
            "left": null,
            "margin": null,
            "max_height": null,
            "max_width": null,
            "min_height": null,
            "min_width": null,
            "object_fit": null,
            "object_position": null,
            "order": null,
            "overflow": null,
            "overflow_x": null,
            "overflow_y": null,
            "padding": null,
            "right": null,
            "top": null,
            "visibility": null,
            "width": null
          }
        },
        "6d9bae62ba02466892c75ad0401666e0": {
          "model_module": "@jupyter-widgets/controls",
          "model_name": "DescriptionStyleModel",
          "model_module_version": "1.5.0",
          "state": {
            "_model_module": "@jupyter-widgets/controls",
            "_model_module_version": "1.5.0",
            "_model_name": "DescriptionStyleModel",
            "_view_count": null,
            "_view_module": "@jupyter-widgets/base",
            "_view_module_version": "1.2.0",
            "_view_name": "StyleView",
            "description_width": ""
          }
        },
        "958bf17a5fbd4204b6587e51e4cc3935": {
          "model_module": "@jupyter-widgets/controls",
          "model_name": "HBoxModel",
          "model_module_version": "1.5.0",
          "state": {
            "_dom_classes": [],
            "_model_module": "@jupyter-widgets/controls",
            "_model_module_version": "1.5.0",
            "_model_name": "HBoxModel",
            "_view_count": null,
            "_view_module": "@jupyter-widgets/controls",
            "_view_module_version": "1.5.0",
            "_view_name": "HBoxView",
            "box_style": "",
            "children": [
              "IPY_MODEL_e569038a8d70423995dd97a289549dc8",
              "IPY_MODEL_4d650eae19064b399337e34e229230e5",
              "IPY_MODEL_38a5bf1620ed4685934cc12eba20b126"
            ],
            "layout": "IPY_MODEL_5258253a140e4a61b7cc78bcd16e8fb6"
          }
        },
        "e569038a8d70423995dd97a289549dc8": {
          "model_module": "@jupyter-widgets/controls",
          "model_name": "HTMLModel",
          "model_module_version": "1.5.0",
          "state": {
            "_dom_classes": [],
            "_model_module": "@jupyter-widgets/controls",
            "_model_module_version": "1.5.0",
            "_model_name": "HTMLModel",
            "_view_count": null,
            "_view_module": "@jupyter-widgets/controls",
            "_view_module_version": "1.5.0",
            "_view_name": "HTMLView",
            "description": "",
            "description_tooltip": null,
            "layout": "IPY_MODEL_54e18cf9dd9e4042ba276ed4be876c74",
            "placeholder": "​",
            "style": "IPY_MODEL_a5149df3e32b4b7aa33d5d270cdba59f",
            "value": "config.json: 100%"
          }
        },
        "4d650eae19064b399337e34e229230e5": {
          "model_module": "@jupyter-widgets/controls",
          "model_name": "FloatProgressModel",
          "model_module_version": "1.5.0",
          "state": {
            "_dom_classes": [],
            "_model_module": "@jupyter-widgets/controls",
            "_model_module_version": "1.5.0",
            "_model_name": "FloatProgressModel",
            "_view_count": null,
            "_view_module": "@jupyter-widgets/controls",
            "_view_module_version": "1.5.0",
            "_view_name": "ProgressView",
            "bar_style": "success",
            "description": "",
            "description_tooltip": null,
            "layout": "IPY_MODEL_73f0a9dd5f58494e844a551a44882ad1",
            "max": 466,
            "min": 0,
            "orientation": "horizontal",
            "style": "IPY_MODEL_7c68d424225845d3a310745638dc40e6",
            "value": 466
          }
        },
        "38a5bf1620ed4685934cc12eba20b126": {
          "model_module": "@jupyter-widgets/controls",
          "model_name": "HTMLModel",
          "model_module_version": "1.5.0",
          "state": {
            "_dom_classes": [],
            "_model_module": "@jupyter-widgets/controls",
            "_model_module_version": "1.5.0",
            "_model_name": "HTMLModel",
            "_view_count": null,
            "_view_module": "@jupyter-widgets/controls",
            "_view_module_version": "1.5.0",
            "_view_name": "HTMLView",
            "description": "",
            "description_tooltip": null,
            "layout": "IPY_MODEL_907f3aba2f3144f0bfcc52ac60559adc",
            "placeholder": "​",
            "style": "IPY_MODEL_f3bd494e11c94171873e360239bf4f1a",
            "value": " 466/466 [00:00&lt;00:00, 12.3kB/s]"
          }
        },
        "5258253a140e4a61b7cc78bcd16e8fb6": {
          "model_module": "@jupyter-widgets/base",
          "model_name": "LayoutModel",
          "model_module_version": "1.2.0",
          "state": {
            "_model_module": "@jupyter-widgets/base",
            "_model_module_version": "1.2.0",
            "_model_name": "LayoutModel",
            "_view_count": null,
            "_view_module": "@jupyter-widgets/base",
            "_view_module_version": "1.2.0",
            "_view_name": "LayoutView",
            "align_content": null,
            "align_items": null,
            "align_self": null,
            "border": null,
            "bottom": null,
            "display": null,
            "flex": null,
            "flex_flow": null,
            "grid_area": null,
            "grid_auto_columns": null,
            "grid_auto_flow": null,
            "grid_auto_rows": null,
            "grid_column": null,
            "grid_gap": null,
            "grid_row": null,
            "grid_template_areas": null,
            "grid_template_columns": null,
            "grid_template_rows": null,
            "height": null,
            "justify_content": null,
            "justify_items": null,
            "left": null,
            "margin": null,
            "max_height": null,
            "max_width": null,
            "min_height": null,
            "min_width": null,
            "object_fit": null,
            "object_position": null,
            "order": null,
            "overflow": null,
            "overflow_x": null,
            "overflow_y": null,
            "padding": null,
            "right": null,
            "top": null,
            "visibility": null,
            "width": null
          }
        },
        "54e18cf9dd9e4042ba276ed4be876c74": {
          "model_module": "@jupyter-widgets/base",
          "model_name": "LayoutModel",
          "model_module_version": "1.2.0",
          "state": {
            "_model_module": "@jupyter-widgets/base",
            "_model_module_version": "1.2.0",
            "_model_name": "LayoutModel",
            "_view_count": null,
            "_view_module": "@jupyter-widgets/base",
            "_view_module_version": "1.2.0",
            "_view_name": "LayoutView",
            "align_content": null,
            "align_items": null,
            "align_self": null,
            "border": null,
            "bottom": null,
            "display": null,
            "flex": null,
            "flex_flow": null,
            "grid_area": null,
            "grid_auto_columns": null,
            "grid_auto_flow": null,
            "grid_auto_rows": null,
            "grid_column": null,
            "grid_gap": null,
            "grid_row": null,
            "grid_template_areas": null,
            "grid_template_columns": null,
            "grid_template_rows": null,
            "height": null,
            "justify_content": null,
            "justify_items": null,
            "left": null,
            "margin": null,
            "max_height": null,
            "max_width": null,
            "min_height": null,
            "min_width": null,
            "object_fit": null,
            "object_position": null,
            "order": null,
            "overflow": null,
            "overflow_x": null,
            "overflow_y": null,
            "padding": null,
            "right": null,
            "top": null,
            "visibility": null,
            "width": null
          }
        },
        "a5149df3e32b4b7aa33d5d270cdba59f": {
          "model_module": "@jupyter-widgets/controls",
          "model_name": "DescriptionStyleModel",
          "model_module_version": "1.5.0",
          "state": {
            "_model_module": "@jupyter-widgets/controls",
            "_model_module_version": "1.5.0",
            "_model_name": "DescriptionStyleModel",
            "_view_count": null,
            "_view_module": "@jupyter-widgets/base",
            "_view_module_version": "1.2.0",
            "_view_name": "StyleView",
            "description_width": ""
          }
        },
        "73f0a9dd5f58494e844a551a44882ad1": {
          "model_module": "@jupyter-widgets/base",
          "model_name": "LayoutModel",
          "model_module_version": "1.2.0",
          "state": {
            "_model_module": "@jupyter-widgets/base",
            "_model_module_version": "1.2.0",
            "_model_name": "LayoutModel",
            "_view_count": null,
            "_view_module": "@jupyter-widgets/base",
            "_view_module_version": "1.2.0",
            "_view_name": "LayoutView",
            "align_content": null,
            "align_items": null,
            "align_self": null,
            "border": null,
            "bottom": null,
            "display": null,
            "flex": null,
            "flex_flow": null,
            "grid_area": null,
            "grid_auto_columns": null,
            "grid_auto_flow": null,
            "grid_auto_rows": null,
            "grid_column": null,
            "grid_gap": null,
            "grid_row": null,
            "grid_template_areas": null,
            "grid_template_columns": null,
            "grid_template_rows": null,
            "height": null,
            "justify_content": null,
            "justify_items": null,
            "left": null,
            "margin": null,
            "max_height": null,
            "max_width": null,
            "min_height": null,
            "min_width": null,
            "object_fit": null,
            "object_position": null,
            "order": null,
            "overflow": null,
            "overflow_x": null,
            "overflow_y": null,
            "padding": null,
            "right": null,
            "top": null,
            "visibility": null,
            "width": null
          }
        },
        "7c68d424225845d3a310745638dc40e6": {
          "model_module": "@jupyter-widgets/controls",
          "model_name": "ProgressStyleModel",
          "model_module_version": "1.5.0",
          "state": {
            "_model_module": "@jupyter-widgets/controls",
            "_model_module_version": "1.5.0",
            "_model_name": "ProgressStyleModel",
            "_view_count": null,
            "_view_module": "@jupyter-widgets/base",
            "_view_module_version": "1.2.0",
            "_view_name": "StyleView",
            "bar_color": null,
            "description_width": ""
          }
        },
        "907f3aba2f3144f0bfcc52ac60559adc": {
          "model_module": "@jupyter-widgets/base",
          "model_name": "LayoutModel",
          "model_module_version": "1.2.0",
          "state": {
            "_model_module": "@jupyter-widgets/base",
            "_model_module_version": "1.2.0",
            "_model_name": "LayoutModel",
            "_view_count": null,
            "_view_module": "@jupyter-widgets/base",
            "_view_module_version": "1.2.0",
            "_view_name": "LayoutView",
            "align_content": null,
            "align_items": null,
            "align_self": null,
            "border": null,
            "bottom": null,
            "display": null,
            "flex": null,
            "flex_flow": null,
            "grid_area": null,
            "grid_auto_columns": null,
            "grid_auto_flow": null,
            "grid_auto_rows": null,
            "grid_column": null,
            "grid_gap": null,
            "grid_row": null,
            "grid_template_areas": null,
            "grid_template_columns": null,
            "grid_template_rows": null,
            "height": null,
            "justify_content": null,
            "justify_items": null,
            "left": null,
            "margin": null,
            "max_height": null,
            "max_width": null,
            "min_height": null,
            "min_width": null,
            "object_fit": null,
            "object_position": null,
            "order": null,
            "overflow": null,
            "overflow_x": null,
            "overflow_y": null,
            "padding": null,
            "right": null,
            "top": null,
            "visibility": null,
            "width": null
          }
        },
        "f3bd494e11c94171873e360239bf4f1a": {
          "model_module": "@jupyter-widgets/controls",
          "model_name": "DescriptionStyleModel",
          "model_module_version": "1.5.0",
          "state": {
            "_model_module": "@jupyter-widgets/controls",
            "_model_module_version": "1.5.0",
            "_model_name": "DescriptionStyleModel",
            "_view_count": null,
            "_view_module": "@jupyter-widgets/base",
            "_view_module_version": "1.2.0",
            "_view_name": "StyleView",
            "description_width": ""
          }
        },
        "ee5a8db806824ab6aa032bc5c20612db": {
          "model_module": "@jupyter-widgets/controls",
          "model_name": "HBoxModel",
          "model_module_version": "1.5.0",
          "state": {
            "_dom_classes": [],
            "_model_module": "@jupyter-widgets/controls",
            "_model_module_version": "1.5.0",
            "_model_name": "HBoxModel",
            "_view_count": null,
            "_view_module": "@jupyter-widgets/controls",
            "_view_module_version": "1.5.0",
            "_view_name": "HBoxView",
            "box_style": "",
            "children": [
              "IPY_MODEL_eb31f7c4d13c438f96ee6744c10fd3e2",
              "IPY_MODEL_dab0dcd25e744626a60cffa60b960295",
              "IPY_MODEL_3fb8b9909a654c4bb03338f2e2408242"
            ],
            "layout": "IPY_MODEL_0eee69de5de04161904c73d3c113fc52"
          }
        },
        "eb31f7c4d13c438f96ee6744c10fd3e2": {
          "model_module": "@jupyter-widgets/controls",
          "model_name": "HTMLModel",
          "model_module_version": "1.5.0",
          "state": {
            "_dom_classes": [],
            "_model_module": "@jupyter-widgets/controls",
            "_model_module_version": "1.5.0",
            "_model_name": "HTMLModel",
            "_view_count": null,
            "_view_module": "@jupyter-widgets/controls",
            "_view_module_version": "1.5.0",
            "_view_name": "HTMLView",
            "description": "",
            "description_tooltip": null,
            "layout": "IPY_MODEL_719267119be44aaa916c4456e4dee7fc",
            "placeholder": "​",
            "style": "IPY_MODEL_57cef586ed8f442b9df4aed41535bb98",
            "value": "model.safetensors: 100%"
          }
        },
        "dab0dcd25e744626a60cffa60b960295": {
          "model_module": "@jupyter-widgets/controls",
          "model_name": "FloatProgressModel",
          "model_module_version": "1.5.0",
          "state": {
            "_dom_classes": [],
            "_model_module": "@jupyter-widgets/controls",
            "_model_module_version": "1.5.0",
            "_model_name": "FloatProgressModel",
            "_view_count": null,
            "_view_module": "@jupyter-widgets/controls",
            "_view_module_version": "1.5.0",
            "_view_name": "ProgressView",
            "bar_style": "success",
            "description": "",
            "description_tooltip": null,
            "layout": "IPY_MODEL_eb03fab7d6a348b283275be4ef8ed0ac",
            "max": 541795680,
            "min": 0,
            "orientation": "horizontal",
            "style": "IPY_MODEL_cd2e6e436f7e446aa8a346f702b26267",
            "value": 541795680
          }
        },
        "3fb8b9909a654c4bb03338f2e2408242": {
          "model_module": "@jupyter-widgets/controls",
          "model_name": "HTMLModel",
          "model_module_version": "1.5.0",
          "state": {
            "_dom_classes": [],
            "_model_module": "@jupyter-widgets/controls",
            "_model_module_version": "1.5.0",
            "_model_name": "HTMLModel",
            "_view_count": null,
            "_view_module": "@jupyter-widgets/controls",
            "_view_module_version": "1.5.0",
            "_view_name": "HTMLView",
            "description": "",
            "description_tooltip": null,
            "layout": "IPY_MODEL_305c9d30fc8146d792ec5686e5c3942f",
            "placeholder": "​",
            "style": "IPY_MODEL_b3a620b8217f475bba19ad9a6b683ad0",
            "value": " 542M/542M [00:04&lt;00:00, 143MB/s]"
          }
        },
        "0eee69de5de04161904c73d3c113fc52": {
          "model_module": "@jupyter-widgets/base",
          "model_name": "LayoutModel",
          "model_module_version": "1.2.0",
          "state": {
            "_model_module": "@jupyter-widgets/base",
            "_model_module_version": "1.2.0",
            "_model_name": "LayoutModel",
            "_view_count": null,
            "_view_module": "@jupyter-widgets/base",
            "_view_module_version": "1.2.0",
            "_view_name": "LayoutView",
            "align_content": null,
            "align_items": null,
            "align_self": null,
            "border": null,
            "bottom": null,
            "display": null,
            "flex": null,
            "flex_flow": null,
            "grid_area": null,
            "grid_auto_columns": null,
            "grid_auto_flow": null,
            "grid_auto_rows": null,
            "grid_column": null,
            "grid_gap": null,
            "grid_row": null,
            "grid_template_areas": null,
            "grid_template_columns": null,
            "grid_template_rows": null,
            "height": null,
            "justify_content": null,
            "justify_items": null,
            "left": null,
            "margin": null,
            "max_height": null,
            "max_width": null,
            "min_height": null,
            "min_width": null,
            "object_fit": null,
            "object_position": null,
            "order": null,
            "overflow": null,
            "overflow_x": null,
            "overflow_y": null,
            "padding": null,
            "right": null,
            "top": null,
            "visibility": null,
            "width": null
          }
        },
        "719267119be44aaa916c4456e4dee7fc": {
          "model_module": "@jupyter-widgets/base",
          "model_name": "LayoutModel",
          "model_module_version": "1.2.0",
          "state": {
            "_model_module": "@jupyter-widgets/base",
            "_model_module_version": "1.2.0",
            "_model_name": "LayoutModel",
            "_view_count": null,
            "_view_module": "@jupyter-widgets/base",
            "_view_module_version": "1.2.0",
            "_view_name": "LayoutView",
            "align_content": null,
            "align_items": null,
            "align_self": null,
            "border": null,
            "bottom": null,
            "display": null,
            "flex": null,
            "flex_flow": null,
            "grid_area": null,
            "grid_auto_columns": null,
            "grid_auto_flow": null,
            "grid_auto_rows": null,
            "grid_column": null,
            "grid_gap": null,
            "grid_row": null,
            "grid_template_areas": null,
            "grid_template_columns": null,
            "grid_template_rows": null,
            "height": null,
            "justify_content": null,
            "justify_items": null,
            "left": null,
            "margin": null,
            "max_height": null,
            "max_width": null,
            "min_height": null,
            "min_width": null,
            "object_fit": null,
            "object_position": null,
            "order": null,
            "overflow": null,
            "overflow_x": null,
            "overflow_y": null,
            "padding": null,
            "right": null,
            "top": null,
            "visibility": null,
            "width": null
          }
        },
        "57cef586ed8f442b9df4aed41535bb98": {
          "model_module": "@jupyter-widgets/controls",
          "model_name": "DescriptionStyleModel",
          "model_module_version": "1.5.0",
          "state": {
            "_model_module": "@jupyter-widgets/controls",
            "_model_module_version": "1.5.0",
            "_model_name": "DescriptionStyleModel",
            "_view_count": null,
            "_view_module": "@jupyter-widgets/base",
            "_view_module_version": "1.2.0",
            "_view_name": "StyleView",
            "description_width": ""
          }
        },
        "eb03fab7d6a348b283275be4ef8ed0ac": {
          "model_module": "@jupyter-widgets/base",
          "model_name": "LayoutModel",
          "model_module_version": "1.2.0",
          "state": {
            "_model_module": "@jupyter-widgets/base",
            "_model_module_version": "1.2.0",
            "_model_name": "LayoutModel",
            "_view_count": null,
            "_view_module": "@jupyter-widgets/base",
            "_view_module_version": "1.2.0",
            "_view_name": "LayoutView",
            "align_content": null,
            "align_items": null,
            "align_self": null,
            "border": null,
            "bottom": null,
            "display": null,
            "flex": null,
            "flex_flow": null,
            "grid_area": null,
            "grid_auto_columns": null,
            "grid_auto_flow": null,
            "grid_auto_rows": null,
            "grid_column": null,
            "grid_gap": null,
            "grid_row": null,
            "grid_template_areas": null,
            "grid_template_columns": null,
            "grid_template_rows": null,
            "height": null,
            "justify_content": null,
            "justify_items": null,
            "left": null,
            "margin": null,
            "max_height": null,
            "max_width": null,
            "min_height": null,
            "min_width": null,
            "object_fit": null,
            "object_position": null,
            "order": null,
            "overflow": null,
            "overflow_x": null,
            "overflow_y": null,
            "padding": null,
            "right": null,
            "top": null,
            "visibility": null,
            "width": null
          }
        },
        "cd2e6e436f7e446aa8a346f702b26267": {
          "model_module": "@jupyter-widgets/controls",
          "model_name": "ProgressStyleModel",
          "model_module_version": "1.5.0",
          "state": {
            "_model_module": "@jupyter-widgets/controls",
            "_model_module_version": "1.5.0",
            "_model_name": "ProgressStyleModel",
            "_view_count": null,
            "_view_module": "@jupyter-widgets/base",
            "_view_module_version": "1.2.0",
            "_view_name": "StyleView",
            "bar_color": null,
            "description_width": ""
          }
        },
        "305c9d30fc8146d792ec5686e5c3942f": {
          "model_module": "@jupyter-widgets/base",
          "model_name": "LayoutModel",
          "model_module_version": "1.2.0",
          "state": {
            "_model_module": "@jupyter-widgets/base",
            "_model_module_version": "1.2.0",
            "_model_name": "LayoutModel",
            "_view_count": null,
            "_view_module": "@jupyter-widgets/base",
            "_view_module_version": "1.2.0",
            "_view_name": "LayoutView",
            "align_content": null,
            "align_items": null,
            "align_self": null,
            "border": null,
            "bottom": null,
            "display": null,
            "flex": null,
            "flex_flow": null,
            "grid_area": null,
            "grid_auto_columns": null,
            "grid_auto_flow": null,
            "grid_auto_rows": null,
            "grid_column": null,
            "grid_gap": null,
            "grid_row": null,
            "grid_template_areas": null,
            "grid_template_columns": null,
            "grid_template_rows": null,
            "height": null,
            "justify_content": null,
            "justify_items": null,
            "left": null,
            "margin": null,
            "max_height": null,
            "max_width": null,
            "min_height": null,
            "min_width": null,
            "object_fit": null,
            "object_position": null,
            "order": null,
            "overflow": null,
            "overflow_x": null,
            "overflow_y": null,
            "padding": null,
            "right": null,
            "top": null,
            "visibility": null,
            "width": null
          }
        },
        "b3a620b8217f475bba19ad9a6b683ad0": {
          "model_module": "@jupyter-widgets/controls",
          "model_name": "DescriptionStyleModel",
          "model_module_version": "1.5.0",
          "state": {
            "_model_module": "@jupyter-widgets/controls",
            "_model_module_version": "1.5.0",
            "_model_name": "DescriptionStyleModel",
            "_view_count": null,
            "_view_module": "@jupyter-widgets/base",
            "_view_module_version": "1.2.0",
            "_view_name": "StyleView",
            "description_width": ""
          }
        },
        "d574667e5b4e462ba3749badf05b3dcd": {
          "model_module": "@jupyter-widgets/controls",
          "model_name": "HBoxModel",
          "model_module_version": "1.5.0",
          "state": {
            "_dom_classes": [],
            "_model_module": "@jupyter-widgets/controls",
            "_model_module_version": "1.5.0",
            "_model_name": "HBoxModel",
            "_view_count": null,
            "_view_module": "@jupyter-widgets/controls",
            "_view_module_version": "1.5.0",
            "_view_name": "HBoxView",
            "box_style": "",
            "children": [
              "IPY_MODEL_ad7088ca16ac4536a287828a3063fa8c",
              "IPY_MODEL_c8c3db060970400b98a3061e749b010b",
              "IPY_MODEL_c0908d637b30457a89830a62eca44b50"
            ],
            "layout": "IPY_MODEL_8651781004c345f884643cfafc6e4e79"
          }
        },
        "ad7088ca16ac4536a287828a3063fa8c": {
          "model_module": "@jupyter-widgets/controls",
          "model_name": "HTMLModel",
          "model_module_version": "1.5.0",
          "state": {
            "_dom_classes": [],
            "_model_module": "@jupyter-widgets/controls",
            "_model_module_version": "1.5.0",
            "_model_name": "HTMLModel",
            "_view_count": null,
            "_view_module": "@jupyter-widgets/controls",
            "_view_module_version": "1.5.0",
            "_view_name": "HTMLView",
            "description": "",
            "description_tooltip": null,
            "layout": "IPY_MODEL_e43cd8bad42840a9a2c4906fec9fc8bc",
            "placeholder": "​",
            "style": "IPY_MODEL_6c78a97237ec4303b4b3e5246d4eea4d",
            "value": "tokenizer_config.json: 100%"
          }
        },
        "c8c3db060970400b98a3061e749b010b": {
          "model_module": "@jupyter-widgets/controls",
          "model_name": "FloatProgressModel",
          "model_module_version": "1.5.0",
          "state": {
            "_dom_classes": [],
            "_model_module": "@jupyter-widgets/controls",
            "_model_module_version": "1.5.0",
            "_model_name": "FloatProgressModel",
            "_view_count": null,
            "_view_module": "@jupyter-widgets/controls",
            "_view_module_version": "1.5.0",
            "_view_name": "ProgressView",
            "bar_style": "success",
            "description": "",
            "description_tooltip": null,
            "layout": "IPY_MODEL_adeee6a6250448a0826d8be45e835e14",
            "max": 49,
            "min": 0,
            "orientation": "horizontal",
            "style": "IPY_MODEL_7f8e7633e82643dea058888c1daa1c61",
            "value": 49
          }
        },
        "c0908d637b30457a89830a62eca44b50": {
          "model_module": "@jupyter-widgets/controls",
          "model_name": "HTMLModel",
          "model_module_version": "1.5.0",
          "state": {
            "_dom_classes": [],
            "_model_module": "@jupyter-widgets/controls",
            "_model_module_version": "1.5.0",
            "_model_name": "HTMLModel",
            "_view_count": null,
            "_view_module": "@jupyter-widgets/controls",
            "_view_module_version": "1.5.0",
            "_view_name": "HTMLView",
            "description": "",
            "description_tooltip": null,
            "layout": "IPY_MODEL_c59aff52225f420791609034b42bc1cc",
            "placeholder": "​",
            "style": "IPY_MODEL_969848cdcd064151a730e85de45d0a36",
            "value": " 49.0/49.0 [00:00&lt;00:00, 2.00kB/s]"
          }
        },
        "8651781004c345f884643cfafc6e4e79": {
          "model_module": "@jupyter-widgets/base",
          "model_name": "LayoutModel",
          "model_module_version": "1.2.0",
          "state": {
            "_model_module": "@jupyter-widgets/base",
            "_model_module_version": "1.2.0",
            "_model_name": "LayoutModel",
            "_view_count": null,
            "_view_module": "@jupyter-widgets/base",
            "_view_module_version": "1.2.0",
            "_view_name": "LayoutView",
            "align_content": null,
            "align_items": null,
            "align_self": null,
            "border": null,
            "bottom": null,
            "display": null,
            "flex": null,
            "flex_flow": null,
            "grid_area": null,
            "grid_auto_columns": null,
            "grid_auto_flow": null,
            "grid_auto_rows": null,
            "grid_column": null,
            "grid_gap": null,
            "grid_row": null,
            "grid_template_areas": null,
            "grid_template_columns": null,
            "grid_template_rows": null,
            "height": null,
            "justify_content": null,
            "justify_items": null,
            "left": null,
            "margin": null,
            "max_height": null,
            "max_width": null,
            "min_height": null,
            "min_width": null,
            "object_fit": null,
            "object_position": null,
            "order": null,
            "overflow": null,
            "overflow_x": null,
            "overflow_y": null,
            "padding": null,
            "right": null,
            "top": null,
            "visibility": null,
            "width": null
          }
        },
        "e43cd8bad42840a9a2c4906fec9fc8bc": {
          "model_module": "@jupyter-widgets/base",
          "model_name": "LayoutModel",
          "model_module_version": "1.2.0",
          "state": {
            "_model_module": "@jupyter-widgets/base",
            "_model_module_version": "1.2.0",
            "_model_name": "LayoutModel",
            "_view_count": null,
            "_view_module": "@jupyter-widgets/base",
            "_view_module_version": "1.2.0",
            "_view_name": "LayoutView",
            "align_content": null,
            "align_items": null,
            "align_self": null,
            "border": null,
            "bottom": null,
            "display": null,
            "flex": null,
            "flex_flow": null,
            "grid_area": null,
            "grid_auto_columns": null,
            "grid_auto_flow": null,
            "grid_auto_rows": null,
            "grid_column": null,
            "grid_gap": null,
            "grid_row": null,
            "grid_template_areas": null,
            "grid_template_columns": null,
            "grid_template_rows": null,
            "height": null,
            "justify_content": null,
            "justify_items": null,
            "left": null,
            "margin": null,
            "max_height": null,
            "max_width": null,
            "min_height": null,
            "min_width": null,
            "object_fit": null,
            "object_position": null,
            "order": null,
            "overflow": null,
            "overflow_x": null,
            "overflow_y": null,
            "padding": null,
            "right": null,
            "top": null,
            "visibility": null,
            "width": null
          }
        },
        "6c78a97237ec4303b4b3e5246d4eea4d": {
          "model_module": "@jupyter-widgets/controls",
          "model_name": "DescriptionStyleModel",
          "model_module_version": "1.5.0",
          "state": {
            "_model_module": "@jupyter-widgets/controls",
            "_model_module_version": "1.5.0",
            "_model_name": "DescriptionStyleModel",
            "_view_count": null,
            "_view_module": "@jupyter-widgets/base",
            "_view_module_version": "1.2.0",
            "_view_name": "StyleView",
            "description_width": ""
          }
        },
        "adeee6a6250448a0826d8be45e835e14": {
          "model_module": "@jupyter-widgets/base",
          "model_name": "LayoutModel",
          "model_module_version": "1.2.0",
          "state": {
            "_model_module": "@jupyter-widgets/base",
            "_model_module_version": "1.2.0",
            "_model_name": "LayoutModel",
            "_view_count": null,
            "_view_module": "@jupyter-widgets/base",
            "_view_module_version": "1.2.0",
            "_view_name": "LayoutView",
            "align_content": null,
            "align_items": null,
            "align_self": null,
            "border": null,
            "bottom": null,
            "display": null,
            "flex": null,
            "flex_flow": null,
            "grid_area": null,
            "grid_auto_columns": null,
            "grid_auto_flow": null,
            "grid_auto_rows": null,
            "grid_column": null,
            "grid_gap": null,
            "grid_row": null,
            "grid_template_areas": null,
            "grid_template_columns": null,
            "grid_template_rows": null,
            "height": null,
            "justify_content": null,
            "justify_items": null,
            "left": null,
            "margin": null,
            "max_height": null,
            "max_width": null,
            "min_height": null,
            "min_width": null,
            "object_fit": null,
            "object_position": null,
            "order": null,
            "overflow": null,
            "overflow_x": null,
            "overflow_y": null,
            "padding": null,
            "right": null,
            "top": null,
            "visibility": null,
            "width": null
          }
        },
        "7f8e7633e82643dea058888c1daa1c61": {
          "model_module": "@jupyter-widgets/controls",
          "model_name": "ProgressStyleModel",
          "model_module_version": "1.5.0",
          "state": {
            "_model_module": "@jupyter-widgets/controls",
            "_model_module_version": "1.5.0",
            "_model_name": "ProgressStyleModel",
            "_view_count": null,
            "_view_module": "@jupyter-widgets/base",
            "_view_module_version": "1.2.0",
            "_view_name": "StyleView",
            "bar_color": null,
            "description_width": ""
          }
        },
        "c59aff52225f420791609034b42bc1cc": {
          "model_module": "@jupyter-widgets/base",
          "model_name": "LayoutModel",
          "model_module_version": "1.2.0",
          "state": {
            "_model_module": "@jupyter-widgets/base",
            "_model_module_version": "1.2.0",
            "_model_name": "LayoutModel",
            "_view_count": null,
            "_view_module": "@jupyter-widgets/base",
            "_view_module_version": "1.2.0",
            "_view_name": "LayoutView",
            "align_content": null,
            "align_items": null,
            "align_self": null,
            "border": null,
            "bottom": null,
            "display": null,
            "flex": null,
            "flex_flow": null,
            "grid_area": null,
            "grid_auto_columns": null,
            "grid_auto_flow": null,
            "grid_auto_rows": null,
            "grid_column": null,
            "grid_gap": null,
            "grid_row": null,
            "grid_template_areas": null,
            "grid_template_columns": null,
            "grid_template_rows": null,
            "height": null,
            "justify_content": null,
            "justify_items": null,
            "left": null,
            "margin": null,
            "max_height": null,
            "max_width": null,
            "min_height": null,
            "min_width": null,
            "object_fit": null,
            "object_position": null,
            "order": null,
            "overflow": null,
            "overflow_x": null,
            "overflow_y": null,
            "padding": null,
            "right": null,
            "top": null,
            "visibility": null,
            "width": null
          }
        },
        "969848cdcd064151a730e85de45d0a36": {
          "model_module": "@jupyter-widgets/controls",
          "model_name": "DescriptionStyleModel",
          "model_module_version": "1.5.0",
          "state": {
            "_model_module": "@jupyter-widgets/controls",
            "_model_module_version": "1.5.0",
            "_model_name": "DescriptionStyleModel",
            "_view_count": null,
            "_view_module": "@jupyter-widgets/base",
            "_view_module_version": "1.2.0",
            "_view_name": "StyleView",
            "description_width": ""
          }
        },
        "074c0b3a5c0c4048bb0c1752c5c8d85d": {
          "model_module": "@jupyter-widgets/controls",
          "model_name": "HBoxModel",
          "model_module_version": "1.5.0",
          "state": {
            "_dom_classes": [],
            "_model_module": "@jupyter-widgets/controls",
            "_model_module_version": "1.5.0",
            "_model_name": "HBoxModel",
            "_view_count": null,
            "_view_module": "@jupyter-widgets/controls",
            "_view_module_version": "1.5.0",
            "_view_name": "HBoxView",
            "box_style": "",
            "children": [
              "IPY_MODEL_e50ce2745d2b4480a1ee1fc776a62fdc",
              "IPY_MODEL_a76ffbc3ae954dbaaeaee47e6ffb7c9d",
              "IPY_MODEL_209898583f0e4928a7e405778c24305e"
            ],
            "layout": "IPY_MODEL_486f18e672224867a6aa1a946f715f6e"
          }
        },
        "e50ce2745d2b4480a1ee1fc776a62fdc": {
          "model_module": "@jupyter-widgets/controls",
          "model_name": "HTMLModel",
          "model_module_version": "1.5.0",
          "state": {
            "_dom_classes": [],
            "_model_module": "@jupyter-widgets/controls",
            "_model_module_version": "1.5.0",
            "_model_name": "HTMLModel",
            "_view_count": null,
            "_view_module": "@jupyter-widgets/controls",
            "_view_module_version": "1.5.0",
            "_view_name": "HTMLView",
            "description": "",
            "description_tooltip": null,
            "layout": "IPY_MODEL_3757ae3551734716b4ae2425285ca639",
            "placeholder": "​",
            "style": "IPY_MODEL_6722748c4bdb402e9f9c738655a397d7",
            "value": "vocab.txt: 100%"
          }
        },
        "a76ffbc3ae954dbaaeaee47e6ffb7c9d": {
          "model_module": "@jupyter-widgets/controls",
          "model_name": "FloatProgressModel",
          "model_module_version": "1.5.0",
          "state": {
            "_dom_classes": [],
            "_model_module": "@jupyter-widgets/controls",
            "_model_module_version": "1.5.0",
            "_model_name": "FloatProgressModel",
            "_view_count": null,
            "_view_module": "@jupyter-widgets/controls",
            "_view_module_version": "1.5.0",
            "_view_name": "ProgressView",
            "bar_style": "success",
            "description": "",
            "description_tooltip": null,
            "layout": "IPY_MODEL_1c99058ae00c436bb443efb3f683bf3d",
            "max": 995526,
            "min": 0,
            "orientation": "horizontal",
            "style": "IPY_MODEL_360c1036c6b8414095c750ff8bd8af28",
            "value": 995526
          }
        },
        "209898583f0e4928a7e405778c24305e": {
          "model_module": "@jupyter-widgets/controls",
          "model_name": "HTMLModel",
          "model_module_version": "1.5.0",
          "state": {
            "_dom_classes": [],
            "_model_module": "@jupyter-widgets/controls",
            "_model_module_version": "1.5.0",
            "_model_name": "HTMLModel",
            "_view_count": null,
            "_view_module": "@jupyter-widgets/controls",
            "_view_module_version": "1.5.0",
            "_view_name": "HTMLView",
            "description": "",
            "description_tooltip": null,
            "layout": "IPY_MODEL_fad3ede29d9f40cea92155b0f2f9d169",
            "placeholder": "​",
            "style": "IPY_MODEL_febd39009d3f42f497cf6884503ae837",
            "value": " 996k/996k [00:00&lt;00:00, 15.9MB/s]"
          }
        },
        "486f18e672224867a6aa1a946f715f6e": {
          "model_module": "@jupyter-widgets/base",
          "model_name": "LayoutModel",
          "model_module_version": "1.2.0",
          "state": {
            "_model_module": "@jupyter-widgets/base",
            "_model_module_version": "1.2.0",
            "_model_name": "LayoutModel",
            "_view_count": null,
            "_view_module": "@jupyter-widgets/base",
            "_view_module_version": "1.2.0",
            "_view_name": "LayoutView",
            "align_content": null,
            "align_items": null,
            "align_self": null,
            "border": null,
            "bottom": null,
            "display": null,
            "flex": null,
            "flex_flow": null,
            "grid_area": null,
            "grid_auto_columns": null,
            "grid_auto_flow": null,
            "grid_auto_rows": null,
            "grid_column": null,
            "grid_gap": null,
            "grid_row": null,
            "grid_template_areas": null,
            "grid_template_columns": null,
            "grid_template_rows": null,
            "height": null,
            "justify_content": null,
            "justify_items": null,
            "left": null,
            "margin": null,
            "max_height": null,
            "max_width": null,
            "min_height": null,
            "min_width": null,
            "object_fit": null,
            "object_position": null,
            "order": null,
            "overflow": null,
            "overflow_x": null,
            "overflow_y": null,
            "padding": null,
            "right": null,
            "top": null,
            "visibility": null,
            "width": null
          }
        },
        "3757ae3551734716b4ae2425285ca639": {
          "model_module": "@jupyter-widgets/base",
          "model_name": "LayoutModel",
          "model_module_version": "1.2.0",
          "state": {
            "_model_module": "@jupyter-widgets/base",
            "_model_module_version": "1.2.0",
            "_model_name": "LayoutModel",
            "_view_count": null,
            "_view_module": "@jupyter-widgets/base",
            "_view_module_version": "1.2.0",
            "_view_name": "LayoutView",
            "align_content": null,
            "align_items": null,
            "align_self": null,
            "border": null,
            "bottom": null,
            "display": null,
            "flex": null,
            "flex_flow": null,
            "grid_area": null,
            "grid_auto_columns": null,
            "grid_auto_flow": null,
            "grid_auto_rows": null,
            "grid_column": null,
            "grid_gap": null,
            "grid_row": null,
            "grid_template_areas": null,
            "grid_template_columns": null,
            "grid_template_rows": null,
            "height": null,
            "justify_content": null,
            "justify_items": null,
            "left": null,
            "margin": null,
            "max_height": null,
            "max_width": null,
            "min_height": null,
            "min_width": null,
            "object_fit": null,
            "object_position": null,
            "order": null,
            "overflow": null,
            "overflow_x": null,
            "overflow_y": null,
            "padding": null,
            "right": null,
            "top": null,
            "visibility": null,
            "width": null
          }
        },
        "6722748c4bdb402e9f9c738655a397d7": {
          "model_module": "@jupyter-widgets/controls",
          "model_name": "DescriptionStyleModel",
          "model_module_version": "1.5.0",
          "state": {
            "_model_module": "@jupyter-widgets/controls",
            "_model_module_version": "1.5.0",
            "_model_name": "DescriptionStyleModel",
            "_view_count": null,
            "_view_module": "@jupyter-widgets/base",
            "_view_module_version": "1.2.0",
            "_view_name": "StyleView",
            "description_width": ""
          }
        },
        "1c99058ae00c436bb443efb3f683bf3d": {
          "model_module": "@jupyter-widgets/base",
          "model_name": "LayoutModel",
          "model_module_version": "1.2.0",
          "state": {
            "_model_module": "@jupyter-widgets/base",
            "_model_module_version": "1.2.0",
            "_model_name": "LayoutModel",
            "_view_count": null,
            "_view_module": "@jupyter-widgets/base",
            "_view_module_version": "1.2.0",
            "_view_name": "LayoutView",
            "align_content": null,
            "align_items": null,
            "align_self": null,
            "border": null,
            "bottom": null,
            "display": null,
            "flex": null,
            "flex_flow": null,
            "grid_area": null,
            "grid_auto_columns": null,
            "grid_auto_flow": null,
            "grid_auto_rows": null,
            "grid_column": null,
            "grid_gap": null,
            "grid_row": null,
            "grid_template_areas": null,
            "grid_template_columns": null,
            "grid_template_rows": null,
            "height": null,
            "justify_content": null,
            "justify_items": null,
            "left": null,
            "margin": null,
            "max_height": null,
            "max_width": null,
            "min_height": null,
            "min_width": null,
            "object_fit": null,
            "object_position": null,
            "order": null,
            "overflow": null,
            "overflow_x": null,
            "overflow_y": null,
            "padding": null,
            "right": null,
            "top": null,
            "visibility": null,
            "width": null
          }
        },
        "360c1036c6b8414095c750ff8bd8af28": {
          "model_module": "@jupyter-widgets/controls",
          "model_name": "ProgressStyleModel",
          "model_module_version": "1.5.0",
          "state": {
            "_model_module": "@jupyter-widgets/controls",
            "_model_module_version": "1.5.0",
            "_model_name": "ProgressStyleModel",
            "_view_count": null,
            "_view_module": "@jupyter-widgets/base",
            "_view_module_version": "1.2.0",
            "_view_name": "StyleView",
            "bar_color": null,
            "description_width": ""
          }
        },
        "fad3ede29d9f40cea92155b0f2f9d169": {
          "model_module": "@jupyter-widgets/base",
          "model_name": "LayoutModel",
          "model_module_version": "1.2.0",
          "state": {
            "_model_module": "@jupyter-widgets/base",
            "_model_module_version": "1.2.0",
            "_model_name": "LayoutModel",
            "_view_count": null,
            "_view_module": "@jupyter-widgets/base",
            "_view_module_version": "1.2.0",
            "_view_name": "LayoutView",
            "align_content": null,
            "align_items": null,
            "align_self": null,
            "border": null,
            "bottom": null,
            "display": null,
            "flex": null,
            "flex_flow": null,
            "grid_area": null,
            "grid_auto_columns": null,
            "grid_auto_flow": null,
            "grid_auto_rows": null,
            "grid_column": null,
            "grid_gap": null,
            "grid_row": null,
            "grid_template_areas": null,
            "grid_template_columns": null,
            "grid_template_rows": null,
            "height": null,
            "justify_content": null,
            "justify_items": null,
            "left": null,
            "margin": null,
            "max_height": null,
            "max_width": null,
            "min_height": null,
            "min_width": null,
            "object_fit": null,
            "object_position": null,
            "order": null,
            "overflow": null,
            "overflow_x": null,
            "overflow_y": null,
            "padding": null,
            "right": null,
            "top": null,
            "visibility": null,
            "width": null
          }
        },
        "febd39009d3f42f497cf6884503ae837": {
          "model_module": "@jupyter-widgets/controls",
          "model_name": "DescriptionStyleModel",
          "model_module_version": "1.5.0",
          "state": {
            "_model_module": "@jupyter-widgets/controls",
            "_model_module_version": "1.5.0",
            "_model_name": "DescriptionStyleModel",
            "_view_count": null,
            "_view_module": "@jupyter-widgets/base",
            "_view_module_version": "1.2.0",
            "_view_name": "StyleView",
            "description_width": ""
          }
        },
        "9d7df39517cf48e7aa23e5744866427e": {
          "model_module": "@jupyter-widgets/controls",
          "model_name": "HBoxModel",
          "model_module_version": "1.5.0",
          "state": {
            "_dom_classes": [],
            "_model_module": "@jupyter-widgets/controls",
            "_model_module_version": "1.5.0",
            "_model_name": "HBoxModel",
            "_view_count": null,
            "_view_module": "@jupyter-widgets/controls",
            "_view_module_version": "1.5.0",
            "_view_name": "HBoxView",
            "box_style": "",
            "children": [
              "IPY_MODEL_4b8182403c2e4cb7862628c60e8585ab",
              "IPY_MODEL_452a26aa1e3647199194aff130e7c08a",
              "IPY_MODEL_b958213d37d347bc970b950dd68823db"
            ],
            "layout": "IPY_MODEL_26ef4b315abc478695850bf8a466dbe0"
          }
        },
        "4b8182403c2e4cb7862628c60e8585ab": {
          "model_module": "@jupyter-widgets/controls",
          "model_name": "HTMLModel",
          "model_module_version": "1.5.0",
          "state": {
            "_dom_classes": [],
            "_model_module": "@jupyter-widgets/controls",
            "_model_module_version": "1.5.0",
            "_model_name": "HTMLModel",
            "_view_count": null,
            "_view_module": "@jupyter-widgets/controls",
            "_view_module_version": "1.5.0",
            "_view_name": "HTMLView",
            "description": "",
            "description_tooltip": null,
            "layout": "IPY_MODEL_a48329e0ec0e4488941ce195167237cc",
            "placeholder": "​",
            "style": "IPY_MODEL_01240f56ae0f469f8e924374595b391b",
            "value": "tokenizer.json: 100%"
          }
        },
        "452a26aa1e3647199194aff130e7c08a": {
          "model_module": "@jupyter-widgets/controls",
          "model_name": "FloatProgressModel",
          "model_module_version": "1.5.0",
          "state": {
            "_dom_classes": [],
            "_model_module": "@jupyter-widgets/controls",
            "_model_module_version": "1.5.0",
            "_model_name": "FloatProgressModel",
            "_view_count": null,
            "_view_module": "@jupyter-widgets/controls",
            "_view_module_version": "1.5.0",
            "_view_name": "ProgressView",
            "bar_style": "success",
            "description": "",
            "description_tooltip": null,
            "layout": "IPY_MODEL_ebdecdb74b414e03873061d058567ab7",
            "max": 1961828,
            "min": 0,
            "orientation": "horizontal",
            "style": "IPY_MODEL_a88350a876a24e77a7989515f97fc008",
            "value": 1961828
          }
        },
        "b958213d37d347bc970b950dd68823db": {
          "model_module": "@jupyter-widgets/controls",
          "model_name": "HTMLModel",
          "model_module_version": "1.5.0",
          "state": {
            "_dom_classes": [],
            "_model_module": "@jupyter-widgets/controls",
            "_model_module_version": "1.5.0",
            "_model_name": "HTMLModel",
            "_view_count": null,
            "_view_module": "@jupyter-widgets/controls",
            "_view_module_version": "1.5.0",
            "_view_name": "HTMLView",
            "description": "",
            "description_tooltip": null,
            "layout": "IPY_MODEL_b2c0b4a0d416419c9408b52dbcc04572",
            "placeholder": "​",
            "style": "IPY_MODEL_16d8b80bd1fd473d8cc3a1308e25a0e8",
            "value": " 1.96M/1.96M [00:00&lt;00:00, 18.9MB/s]"
          }
        },
        "26ef4b315abc478695850bf8a466dbe0": {
          "model_module": "@jupyter-widgets/base",
          "model_name": "LayoutModel",
          "model_module_version": "1.2.0",
          "state": {
            "_model_module": "@jupyter-widgets/base",
            "_model_module_version": "1.2.0",
            "_model_name": "LayoutModel",
            "_view_count": null,
            "_view_module": "@jupyter-widgets/base",
            "_view_module_version": "1.2.0",
            "_view_name": "LayoutView",
            "align_content": null,
            "align_items": null,
            "align_self": null,
            "border": null,
            "bottom": null,
            "display": null,
            "flex": null,
            "flex_flow": null,
            "grid_area": null,
            "grid_auto_columns": null,
            "grid_auto_flow": null,
            "grid_auto_rows": null,
            "grid_column": null,
            "grid_gap": null,
            "grid_row": null,
            "grid_template_areas": null,
            "grid_template_columns": null,
            "grid_template_rows": null,
            "height": null,
            "justify_content": null,
            "justify_items": null,
            "left": null,
            "margin": null,
            "max_height": null,
            "max_width": null,
            "min_height": null,
            "min_width": null,
            "object_fit": null,
            "object_position": null,
            "order": null,
            "overflow": null,
            "overflow_x": null,
            "overflow_y": null,
            "padding": null,
            "right": null,
            "top": null,
            "visibility": null,
            "width": null
          }
        },
        "a48329e0ec0e4488941ce195167237cc": {
          "model_module": "@jupyter-widgets/base",
          "model_name": "LayoutModel",
          "model_module_version": "1.2.0",
          "state": {
            "_model_module": "@jupyter-widgets/base",
            "_model_module_version": "1.2.0",
            "_model_name": "LayoutModel",
            "_view_count": null,
            "_view_module": "@jupyter-widgets/base",
            "_view_module_version": "1.2.0",
            "_view_name": "LayoutView",
            "align_content": null,
            "align_items": null,
            "align_self": null,
            "border": null,
            "bottom": null,
            "display": null,
            "flex": null,
            "flex_flow": null,
            "grid_area": null,
            "grid_auto_columns": null,
            "grid_auto_flow": null,
            "grid_auto_rows": null,
            "grid_column": null,
            "grid_gap": null,
            "grid_row": null,
            "grid_template_areas": null,
            "grid_template_columns": null,
            "grid_template_rows": null,
            "height": null,
            "justify_content": null,
            "justify_items": null,
            "left": null,
            "margin": null,
            "max_height": null,
            "max_width": null,
            "min_height": null,
            "min_width": null,
            "object_fit": null,
            "object_position": null,
            "order": null,
            "overflow": null,
            "overflow_x": null,
            "overflow_y": null,
            "padding": null,
            "right": null,
            "top": null,
            "visibility": null,
            "width": null
          }
        },
        "01240f56ae0f469f8e924374595b391b": {
          "model_module": "@jupyter-widgets/controls",
          "model_name": "DescriptionStyleModel",
          "model_module_version": "1.5.0",
          "state": {
            "_model_module": "@jupyter-widgets/controls",
            "_model_module_version": "1.5.0",
            "_model_name": "DescriptionStyleModel",
            "_view_count": null,
            "_view_module": "@jupyter-widgets/base",
            "_view_module_version": "1.2.0",
            "_view_name": "StyleView",
            "description_width": ""
          }
        },
        "ebdecdb74b414e03873061d058567ab7": {
          "model_module": "@jupyter-widgets/base",
          "model_name": "LayoutModel",
          "model_module_version": "1.2.0",
          "state": {
            "_model_module": "@jupyter-widgets/base",
            "_model_module_version": "1.2.0",
            "_model_name": "LayoutModel",
            "_view_count": null,
            "_view_module": "@jupyter-widgets/base",
            "_view_module_version": "1.2.0",
            "_view_name": "LayoutView",
            "align_content": null,
            "align_items": null,
            "align_self": null,
            "border": null,
            "bottom": null,
            "display": null,
            "flex": null,
            "flex_flow": null,
            "grid_area": null,
            "grid_auto_columns": null,
            "grid_auto_flow": null,
            "grid_auto_rows": null,
            "grid_column": null,
            "grid_gap": null,
            "grid_row": null,
            "grid_template_areas": null,
            "grid_template_columns": null,
            "grid_template_rows": null,
            "height": null,
            "justify_content": null,
            "justify_items": null,
            "left": null,
            "margin": null,
            "max_height": null,
            "max_width": null,
            "min_height": null,
            "min_width": null,
            "object_fit": null,
            "object_position": null,
            "order": null,
            "overflow": null,
            "overflow_x": null,
            "overflow_y": null,
            "padding": null,
            "right": null,
            "top": null,
            "visibility": null,
            "width": null
          }
        },
        "a88350a876a24e77a7989515f97fc008": {
          "model_module": "@jupyter-widgets/controls",
          "model_name": "ProgressStyleModel",
          "model_module_version": "1.5.0",
          "state": {
            "_model_module": "@jupyter-widgets/controls",
            "_model_module_version": "1.5.0",
            "_model_name": "ProgressStyleModel",
            "_view_count": null,
            "_view_module": "@jupyter-widgets/base",
            "_view_module_version": "1.2.0",
            "_view_name": "StyleView",
            "bar_color": null,
            "description_width": ""
          }
        },
        "b2c0b4a0d416419c9408b52dbcc04572": {
          "model_module": "@jupyter-widgets/base",
          "model_name": "LayoutModel",
          "model_module_version": "1.2.0",
          "state": {
            "_model_module": "@jupyter-widgets/base",
            "_model_module_version": "1.2.0",
            "_model_name": "LayoutModel",
            "_view_count": null,
            "_view_module": "@jupyter-widgets/base",
            "_view_module_version": "1.2.0",
            "_view_name": "LayoutView",
            "align_content": null,
            "align_items": null,
            "align_self": null,
            "border": null,
            "bottom": null,
            "display": null,
            "flex": null,
            "flex_flow": null,
            "grid_area": null,
            "grid_auto_columns": null,
            "grid_auto_flow": null,
            "grid_auto_rows": null,
            "grid_column": null,
            "grid_gap": null,
            "grid_row": null,
            "grid_template_areas": null,
            "grid_template_columns": null,
            "grid_template_rows": null,
            "height": null,
            "justify_content": null,
            "justify_items": null,
            "left": null,
            "margin": null,
            "max_height": null,
            "max_width": null,
            "min_height": null,
            "min_width": null,
            "object_fit": null,
            "object_position": null,
            "order": null,
            "overflow": null,
            "overflow_x": null,
            "overflow_y": null,
            "padding": null,
            "right": null,
            "top": null,
            "visibility": null,
            "width": null
          }
        },
        "16d8b80bd1fd473d8cc3a1308e25a0e8": {
          "model_module": "@jupyter-widgets/controls",
          "model_name": "DescriptionStyleModel",
          "model_module_version": "1.5.0",
          "state": {
            "_model_module": "@jupyter-widgets/controls",
            "_model_module_version": "1.5.0",
            "_model_name": "DescriptionStyleModel",
            "_view_count": null,
            "_view_module": "@jupyter-widgets/base",
            "_view_module_version": "1.2.0",
            "_view_name": "StyleView",
            "description_width": ""
          }
        }
      }
    }
  },
  "nbformat": 4,
  "nbformat_minor": 0
}